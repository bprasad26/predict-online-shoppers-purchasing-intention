{
 "cells": [
  {
   "cell_type": "markdown",
   "id": "simple-miracle",
   "metadata": {},
   "source": [
    "## Setup"
   ]
  },
  {
   "cell_type": "code",
   "execution_count": 1,
   "id": "municipal-tract",
   "metadata": {},
   "outputs": [
    {
     "data": {
      "application/javascript": [
       "\n",
       "            setTimeout(function() {\n",
       "                var nbb_cell_id = 1;\n",
       "                var nbb_unformatted_code = \"# import libraries\\nimport os\\nimport pandas as pd\\nimport numpy as np\\nimport plotly.graph_objects as go\\nimport plotly.express as px\\nimport matplotlib.pyplot as plt\\nimport seaborn as sns\\n\\n# display settings\\npd.options.display.max_columns = 999\\n%matplotlib inline\\n%load_ext nb_black\\n\\n# for reproducibility\\nnp.random.seed(42)\\n\\n# project paths\\nproject_root_dir = os.path.normpath(os.getcwd() + os.sep + os.pardir)\\n\\ndata_path = os.path.join(project_root_dir, \\\"data\\\")\\nos.makedirs(data_path, exist_ok=True)\\n\\n# function for reading data\\ndef read_data(filename, date_cols=None, file_path=data_path):\\n    csv_path = os.path.join(file_path, filename)\\n    return pd.read_csv(csv_path, parse_dates=date_cols)\";\n",
       "                var nbb_formatted_code = \"# import libraries\\nimport os\\nimport pandas as pd\\nimport numpy as np\\nimport plotly.graph_objects as go\\nimport plotly.express as px\\nimport matplotlib.pyplot as plt\\nimport seaborn as sns\\n\\n# display settings\\npd.options.display.max_columns = 999\\n%matplotlib inline\\n%load_ext nb_black\\n\\n# for reproducibility\\nnp.random.seed(42)\\n\\n# project paths\\nproject_root_dir = os.path.normpath(os.getcwd() + os.sep + os.pardir)\\n\\ndata_path = os.path.join(project_root_dir, \\\"data\\\")\\nos.makedirs(data_path, exist_ok=True)\\n\\n# function for reading data\\ndef read_data(filename, date_cols=None, file_path=data_path):\\n    csv_path = os.path.join(file_path, filename)\\n    return pd.read_csv(csv_path, parse_dates=date_cols)\";\n",
       "                var nbb_cells = Jupyter.notebook.get_cells();\n",
       "                for (var i = 0; i < nbb_cells.length; ++i) {\n",
       "                    if (nbb_cells[i].input_prompt_number == nbb_cell_id) {\n",
       "                        if (nbb_cells[i].get_text() == nbb_unformatted_code) {\n",
       "                             nbb_cells[i].set_text(nbb_formatted_code);\n",
       "                        }\n",
       "                        break;\n",
       "                    }\n",
       "                }\n",
       "            }, 500);\n",
       "            "
      ],
      "text/plain": [
       "<IPython.core.display.Javascript object>"
      ]
     },
     "metadata": {},
     "output_type": "display_data"
    }
   ],
   "source": [
    "# import libraries\n",
    "import os\n",
    "import pandas as pd\n",
    "import numpy as np\n",
    "import plotly.graph_objects as go\n",
    "import plotly.express as px\n",
    "import matplotlib.pyplot as plt\n",
    "import seaborn as sns\n",
    "\n",
    "# display settings\n",
    "pd.options.display.max_columns = 999\n",
    "%matplotlib inline\n",
    "%load_ext nb_black\n",
    "\n",
    "# for reproducibility\n",
    "np.random.seed(42)\n",
    "\n",
    "# project paths\n",
    "project_root_dir = os.path.normpath(os.getcwd() + os.sep + os.pardir)\n",
    "\n",
    "data_path = os.path.join(project_root_dir, \"data\")\n",
    "os.makedirs(data_path, exist_ok=True)\n",
    "\n",
    "# function for reading data\n",
    "def read_data(filename, date_cols=None, file_path=data_path):\n",
    "    csv_path = os.path.join(file_path, filename)\n",
    "    return pd.read_csv(csv_path, parse_dates=date_cols)"
   ]
  },
  {
   "cell_type": "code",
   "execution_count": 2,
   "id": "comparative-frame",
   "metadata": {},
   "outputs": [
    {
     "data": {
      "application/javascript": [
       "\n",
       "            setTimeout(function() {\n",
       "                var nbb_cell_id = 2;\n",
       "                var nbb_unformatted_code = \"train = read_data(\\\"Train.csv\\\")\\ntest = read_data(\\\"Test.csv\\\")\\nsubmission = read_data(\\\"SampleSubmission.csv\\\")\";\n",
       "                var nbb_formatted_code = \"train = read_data(\\\"Train.csv\\\")\\ntest = read_data(\\\"Test.csv\\\")\\nsubmission = read_data(\\\"SampleSubmission.csv\\\")\";\n",
       "                var nbb_cells = Jupyter.notebook.get_cells();\n",
       "                for (var i = 0; i < nbb_cells.length; ++i) {\n",
       "                    if (nbb_cells[i].input_prompt_number == nbb_cell_id) {\n",
       "                        if (nbb_cells[i].get_text() == nbb_unformatted_code) {\n",
       "                             nbb_cells[i].set_text(nbb_formatted_code);\n",
       "                        }\n",
       "                        break;\n",
       "                    }\n",
       "                }\n",
       "            }, 500);\n",
       "            "
      ],
      "text/plain": [
       "<IPython.core.display.Javascript object>"
      ]
     },
     "metadata": {},
     "output_type": "display_data"
    }
   ],
   "source": [
    "train = read_data(\"Train.csv\")\n",
    "test = read_data(\"Test.csv\")\n",
    "submission = read_data(\"SampleSubmission.csv\")"
   ]
  },
  {
   "cell_type": "code",
   "execution_count": 3,
   "id": "ancient-testament",
   "metadata": {},
   "outputs": [
    {
     "data": {
      "text/html": [
       "<div>\n",
       "<style scoped>\n",
       "    .dataframe tbody tr th:only-of-type {\n",
       "        vertical-align: middle;\n",
       "    }\n",
       "\n",
       "    .dataframe tbody tr th {\n",
       "        vertical-align: top;\n",
       "    }\n",
       "\n",
       "    .dataframe thead th {\n",
       "        text-align: right;\n",
       "    }\n",
       "</style>\n",
       "<table border=\"1\" class=\"dataframe\">\n",
       "  <thead>\n",
       "    <tr style=\"text-align: right;\">\n",
       "      <th></th>\n",
       "      <th>id</th>\n",
       "      <th>Administrative</th>\n",
       "      <th>Administrative_Duration</th>\n",
       "      <th>Informational</th>\n",
       "      <th>Informational_Duration</th>\n",
       "      <th>ProductRelated</th>\n",
       "      <th>ProductRelated_Duration</th>\n",
       "      <th>BounceRates</th>\n",
       "      <th>ExitRates</th>\n",
       "      <th>PageValues</th>\n",
       "      <th>SpecialDay</th>\n",
       "      <th>Month</th>\n",
       "      <th>OperatingSystems</th>\n",
       "      <th>Browser</th>\n",
       "      <th>Region</th>\n",
       "      <th>TrafficType</th>\n",
       "      <th>VisitorType</th>\n",
       "      <th>Weekend</th>\n",
       "      <th>revenue</th>\n",
       "    </tr>\n",
       "  </thead>\n",
       "  <tbody>\n",
       "    <tr>\n",
       "      <th>0</th>\n",
       "      <td>1</td>\n",
       "      <td>0</td>\n",
       "      <td>0.0</td>\n",
       "      <td>0</td>\n",
       "      <td>0.0</td>\n",
       "      <td>5</td>\n",
       "      <td>81.083333</td>\n",
       "      <td>0.04</td>\n",
       "      <td>0.050000</td>\n",
       "      <td>0.0</td>\n",
       "      <td>0.0</td>\n",
       "      <td>Dec</td>\n",
       "      <td>3</td>\n",
       "      <td>2</td>\n",
       "      <td>1</td>\n",
       "      <td>2</td>\n",
       "      <td>New_Visitor</td>\n",
       "      <td>False</td>\n",
       "      <td>0</td>\n",
       "    </tr>\n",
       "    <tr>\n",
       "      <th>1</th>\n",
       "      <td>2</td>\n",
       "      <td>0</td>\n",
       "      <td>0.0</td>\n",
       "      <td>0</td>\n",
       "      <td>0.0</td>\n",
       "      <td>3</td>\n",
       "      <td>189.000000</td>\n",
       "      <td>0.00</td>\n",
       "      <td>0.066667</td>\n",
       "      <td>0.0</td>\n",
       "      <td>0.0</td>\n",
       "      <td>Mar</td>\n",
       "      <td>3</td>\n",
       "      <td>2</td>\n",
       "      <td>8</td>\n",
       "      <td>1</td>\n",
       "      <td>Returning_Visitor</td>\n",
       "      <td>False</td>\n",
       "      <td>0</td>\n",
       "    </tr>\n",
       "    <tr>\n",
       "      <th>2</th>\n",
       "      <td>3</td>\n",
       "      <td>0</td>\n",
       "      <td>0.0</td>\n",
       "      <td>1</td>\n",
       "      <td>132.0</td>\n",
       "      <td>8</td>\n",
       "      <td>445.000000</td>\n",
       "      <td>0.00</td>\n",
       "      <td>0.014286</td>\n",
       "      <td>0.0</td>\n",
       "      <td>0.0</td>\n",
       "      <td>Mar</td>\n",
       "      <td>3</td>\n",
       "      <td>2</td>\n",
       "      <td>4</td>\n",
       "      <td>14</td>\n",
       "      <td>Returning_Visitor</td>\n",
       "      <td>True</td>\n",
       "      <td>0</td>\n",
       "    </tr>\n",
       "    <tr>\n",
       "      <th>3</th>\n",
       "      <td>4</td>\n",
       "      <td>0</td>\n",
       "      <td>0.0</td>\n",
       "      <td>0</td>\n",
       "      <td>0.0</td>\n",
       "      <td>3</td>\n",
       "      <td>0.000000</td>\n",
       "      <td>0.20</td>\n",
       "      <td>0.200000</td>\n",
       "      <td>0.0</td>\n",
       "      <td>0.0</td>\n",
       "      <td>Mar</td>\n",
       "      <td>1</td>\n",
       "      <td>8</td>\n",
       "      <td>2</td>\n",
       "      <td>1</td>\n",
       "      <td>Returning_Visitor</td>\n",
       "      <td>False</td>\n",
       "      <td>0</td>\n",
       "    </tr>\n",
       "    <tr>\n",
       "      <th>4</th>\n",
       "      <td>5</td>\n",
       "      <td>0</td>\n",
       "      <td>0.0</td>\n",
       "      <td>0</td>\n",
       "      <td>0.0</td>\n",
       "      <td>4</td>\n",
       "      <td>14.000000</td>\n",
       "      <td>0.10</td>\n",
       "      <td>0.150000</td>\n",
       "      <td>0.0</td>\n",
       "      <td>0.0</td>\n",
       "      <td>Mar</td>\n",
       "      <td>3</td>\n",
       "      <td>2</td>\n",
       "      <td>1</td>\n",
       "      <td>1</td>\n",
       "      <td>Returning_Visitor</td>\n",
       "      <td>False</td>\n",
       "      <td>0</td>\n",
       "    </tr>\n",
       "  </tbody>\n",
       "</table>\n",
       "</div>"
      ],
      "text/plain": [
       "   id  Administrative  Administrative_Duration  Informational  \\\n",
       "0   1               0                      0.0              0   \n",
       "1   2               0                      0.0              0   \n",
       "2   3               0                      0.0              1   \n",
       "3   4               0                      0.0              0   \n",
       "4   5               0                      0.0              0   \n",
       "\n",
       "   Informational_Duration  ProductRelated  ProductRelated_Duration  \\\n",
       "0                     0.0               5                81.083333   \n",
       "1                     0.0               3               189.000000   \n",
       "2                   132.0               8               445.000000   \n",
       "3                     0.0               3                 0.000000   \n",
       "4                     0.0               4                14.000000   \n",
       "\n",
       "   BounceRates  ExitRates  PageValues  SpecialDay Month  OperatingSystems  \\\n",
       "0         0.04   0.050000         0.0         0.0   Dec                 3   \n",
       "1         0.00   0.066667         0.0         0.0   Mar                 3   \n",
       "2         0.00   0.014286         0.0         0.0   Mar                 3   \n",
       "3         0.20   0.200000         0.0         0.0   Mar                 1   \n",
       "4         0.10   0.150000         0.0         0.0   Mar                 3   \n",
       "\n",
       "   Browser  Region  TrafficType        VisitorType  Weekend  revenue  \n",
       "0        2       1            2        New_Visitor    False        0  \n",
       "1        2       8            1  Returning_Visitor    False        0  \n",
       "2        2       4           14  Returning_Visitor     True        0  \n",
       "3        8       2            1  Returning_Visitor    False        0  \n",
       "4        2       1            1  Returning_Visitor    False        0  "
      ]
     },
     "execution_count": 3,
     "metadata": {},
     "output_type": "execute_result"
    },
    {
     "data": {
      "application/javascript": [
       "\n",
       "            setTimeout(function() {\n",
       "                var nbb_cell_id = 3;\n",
       "                var nbb_unformatted_code = \"train.head()\";\n",
       "                var nbb_formatted_code = \"train.head()\";\n",
       "                var nbb_cells = Jupyter.notebook.get_cells();\n",
       "                for (var i = 0; i < nbb_cells.length; ++i) {\n",
       "                    if (nbb_cells[i].input_prompt_number == nbb_cell_id) {\n",
       "                        if (nbb_cells[i].get_text() == nbb_unformatted_code) {\n",
       "                             nbb_cells[i].set_text(nbb_formatted_code);\n",
       "                        }\n",
       "                        break;\n",
       "                    }\n",
       "                }\n",
       "            }, 500);\n",
       "            "
      ],
      "text/plain": [
       "<IPython.core.display.Javascript object>"
      ]
     },
     "metadata": {},
     "output_type": "display_data"
    }
   ],
   "source": [
    "train.head()"
   ]
  },
  {
   "cell_type": "markdown",
   "id": "adequate-isaac",
   "metadata": {},
   "source": [
    "## Data Preprocessing Pipelines"
   ]
  },
  {
   "cell_type": "code",
   "execution_count": 4,
   "id": "fifth-major",
   "metadata": {},
   "outputs": [
    {
     "data": {
      "application/javascript": [
       "\n",
       "            setTimeout(function() {\n",
       "                var nbb_cell_id = 4;\n",
       "                var nbb_unformatted_code = \"# change the name of the target column\\ntrain.rename(columns={\\\"revenue\\\": \\\"target\\\"}, inplace=True)\\n# map bool values to yes and no\\ntrain[\\\"Weekend\\\"] = train[\\\"Weekend\\\"].map({True: \\\"Yes\\\", False: \\\"No\\\"})\\ntest[\\\"Weekend\\\"] = test[\\\"Weekend\\\"].map({True: \\\"Yes\\\", False: \\\"No\\\"})\";\n",
       "                var nbb_formatted_code = \"# change the name of the target column\\ntrain.rename(columns={\\\"revenue\\\": \\\"target\\\"}, inplace=True)\\n# map bool values to yes and no\\ntrain[\\\"Weekend\\\"] = train[\\\"Weekend\\\"].map({True: \\\"Yes\\\", False: \\\"No\\\"})\\ntest[\\\"Weekend\\\"] = test[\\\"Weekend\\\"].map({True: \\\"Yes\\\", False: \\\"No\\\"})\";\n",
       "                var nbb_cells = Jupyter.notebook.get_cells();\n",
       "                for (var i = 0; i < nbb_cells.length; ++i) {\n",
       "                    if (nbb_cells[i].input_prompt_number == nbb_cell_id) {\n",
       "                        if (nbb_cells[i].get_text() == nbb_unformatted_code) {\n",
       "                             nbb_cells[i].set_text(nbb_formatted_code);\n",
       "                        }\n",
       "                        break;\n",
       "                    }\n",
       "                }\n",
       "            }, 500);\n",
       "            "
      ],
      "text/plain": [
       "<IPython.core.display.Javascript object>"
      ]
     },
     "metadata": {},
     "output_type": "display_data"
    }
   ],
   "source": [
    "# change the name of the target column\n",
    "train.rename(columns={\"revenue\": \"target\"}, inplace=True)\n",
    "# map bool values to yes and no\n",
    "train[\"Weekend\"] = train[\"Weekend\"].map({True: \"Yes\", False: \"No\"})\n",
    "test[\"Weekend\"] = test[\"Weekend\"].map({True: \"Yes\", False: \"No\"})"
   ]
  },
  {
   "cell_type": "code",
   "execution_count": 5,
   "id": "continuing-nickel",
   "metadata": {},
   "outputs": [
    {
     "data": {
      "text/plain": [
       "8631"
      ]
     },
     "execution_count": 5,
     "metadata": {},
     "output_type": "execute_result"
    },
    {
     "data": {
      "application/javascript": [
       "\n",
       "            setTimeout(function() {\n",
       "                var nbb_cell_id = 5;\n",
       "                var nbb_unformatted_code = \"train[\\\"id\\\"].nunique()\";\n",
       "                var nbb_formatted_code = \"train[\\\"id\\\"].nunique()\";\n",
       "                var nbb_cells = Jupyter.notebook.get_cells();\n",
       "                for (var i = 0; i < nbb_cells.length; ++i) {\n",
       "                    if (nbb_cells[i].input_prompt_number == nbb_cell_id) {\n",
       "                        if (nbb_cells[i].get_text() == nbb_unformatted_code) {\n",
       "                             nbb_cells[i].set_text(nbb_formatted_code);\n",
       "                        }\n",
       "                        break;\n",
       "                    }\n",
       "                }\n",
       "            }, 500);\n",
       "            "
      ],
      "text/plain": [
       "<IPython.core.display.Javascript object>"
      ]
     },
     "metadata": {},
     "output_type": "display_data"
    }
   ],
   "source": [
    "train[\"id\"].nunique()"
   ]
  },
  {
   "cell_type": "code",
   "execution_count": 6,
   "id": "legal-compiler",
   "metadata": {},
   "outputs": [
    {
     "data": {
      "text/plain": [
       "(8631, 19)"
      ]
     },
     "execution_count": 6,
     "metadata": {},
     "output_type": "execute_result"
    },
    {
     "data": {
      "application/javascript": [
       "\n",
       "            setTimeout(function() {\n",
       "                var nbb_cell_id = 6;\n",
       "                var nbb_unformatted_code = \"train.shape\";\n",
       "                var nbb_formatted_code = \"train.shape\";\n",
       "                var nbb_cells = Jupyter.notebook.get_cells();\n",
       "                for (var i = 0; i < nbb_cells.length; ++i) {\n",
       "                    if (nbb_cells[i].input_prompt_number == nbb_cell_id) {\n",
       "                        if (nbb_cells[i].get_text() == nbb_unformatted_code) {\n",
       "                             nbb_cells[i].set_text(nbb_formatted_code);\n",
       "                        }\n",
       "                        break;\n",
       "                    }\n",
       "                }\n",
       "            }, 500);\n",
       "            "
      ],
      "text/plain": [
       "<IPython.core.display.Javascript object>"
      ]
     },
     "metadata": {},
     "output_type": "display_data"
    }
   ],
   "source": [
    "train.shape"
   ]
  },
  {
   "cell_type": "code",
   "execution_count": 7,
   "id": "hazardous-allen",
   "metadata": {},
   "outputs": [
    {
     "data": {
      "application/javascript": [
       "\n",
       "            setTimeout(function() {\n",
       "                var nbb_cell_id = 7;\n",
       "                var nbb_unformatted_code = \"# set the id col as index\\ntrain.set_index(\\\"id\\\", inplace=True)\\ntest.set_index(\\\"id\\\", inplace=True)\";\n",
       "                var nbb_formatted_code = \"# set the id col as index\\ntrain.set_index(\\\"id\\\", inplace=True)\\ntest.set_index(\\\"id\\\", inplace=True)\";\n",
       "                var nbb_cells = Jupyter.notebook.get_cells();\n",
       "                for (var i = 0; i < nbb_cells.length; ++i) {\n",
       "                    if (nbb_cells[i].input_prompt_number == nbb_cell_id) {\n",
       "                        if (nbb_cells[i].get_text() == nbb_unformatted_code) {\n",
       "                             nbb_cells[i].set_text(nbb_formatted_code);\n",
       "                        }\n",
       "                        break;\n",
       "                    }\n",
       "                }\n",
       "            }, 500);\n",
       "            "
      ],
      "text/plain": [
       "<IPython.core.display.Javascript object>"
      ]
     },
     "metadata": {},
     "output_type": "display_data"
    }
   ],
   "source": [
    "# set the id col as index\n",
    "train.set_index(\"id\", inplace=True)\n",
    "test.set_index(\"id\", inplace=True)"
   ]
  },
  {
   "cell_type": "code",
   "execution_count": 8,
   "id": "divine-behalf",
   "metadata": {},
   "outputs": [
    {
     "data": {
      "text/html": [
       "<div>\n",
       "<style scoped>\n",
       "    .dataframe tbody tr th:only-of-type {\n",
       "        vertical-align: middle;\n",
       "    }\n",
       "\n",
       "    .dataframe tbody tr th {\n",
       "        vertical-align: top;\n",
       "    }\n",
       "\n",
       "    .dataframe thead th {\n",
       "        text-align: right;\n",
       "    }\n",
       "</style>\n",
       "<table border=\"1\" class=\"dataframe\">\n",
       "  <thead>\n",
       "    <tr style=\"text-align: right;\">\n",
       "      <th></th>\n",
       "      <th>Administrative</th>\n",
       "      <th>Administrative_Duration</th>\n",
       "      <th>Informational</th>\n",
       "      <th>Informational_Duration</th>\n",
       "      <th>ProductRelated</th>\n",
       "      <th>ProductRelated_Duration</th>\n",
       "      <th>BounceRates</th>\n",
       "      <th>ExitRates</th>\n",
       "      <th>PageValues</th>\n",
       "      <th>SpecialDay</th>\n",
       "      <th>Month</th>\n",
       "      <th>OperatingSystems</th>\n",
       "      <th>Browser</th>\n",
       "      <th>Region</th>\n",
       "      <th>TrafficType</th>\n",
       "      <th>VisitorType</th>\n",
       "      <th>Weekend</th>\n",
       "      <th>target</th>\n",
       "    </tr>\n",
       "    <tr>\n",
       "      <th>id</th>\n",
       "      <th></th>\n",
       "      <th></th>\n",
       "      <th></th>\n",
       "      <th></th>\n",
       "      <th></th>\n",
       "      <th></th>\n",
       "      <th></th>\n",
       "      <th></th>\n",
       "      <th></th>\n",
       "      <th></th>\n",
       "      <th></th>\n",
       "      <th></th>\n",
       "      <th></th>\n",
       "      <th></th>\n",
       "      <th></th>\n",
       "      <th></th>\n",
       "      <th></th>\n",
       "      <th></th>\n",
       "    </tr>\n",
       "  </thead>\n",
       "  <tbody>\n",
       "    <tr>\n",
       "      <th>1</th>\n",
       "      <td>0</td>\n",
       "      <td>0.0</td>\n",
       "      <td>0</td>\n",
       "      <td>0.0</td>\n",
       "      <td>5</td>\n",
       "      <td>81.083333</td>\n",
       "      <td>0.04</td>\n",
       "      <td>0.050000</td>\n",
       "      <td>0.0</td>\n",
       "      <td>0.0</td>\n",
       "      <td>Dec</td>\n",
       "      <td>3</td>\n",
       "      <td>2</td>\n",
       "      <td>1</td>\n",
       "      <td>2</td>\n",
       "      <td>New_Visitor</td>\n",
       "      <td>No</td>\n",
       "      <td>0</td>\n",
       "    </tr>\n",
       "    <tr>\n",
       "      <th>2</th>\n",
       "      <td>0</td>\n",
       "      <td>0.0</td>\n",
       "      <td>0</td>\n",
       "      <td>0.0</td>\n",
       "      <td>3</td>\n",
       "      <td>189.000000</td>\n",
       "      <td>0.00</td>\n",
       "      <td>0.066667</td>\n",
       "      <td>0.0</td>\n",
       "      <td>0.0</td>\n",
       "      <td>Mar</td>\n",
       "      <td>3</td>\n",
       "      <td>2</td>\n",
       "      <td>8</td>\n",
       "      <td>1</td>\n",
       "      <td>Returning_Visitor</td>\n",
       "      <td>No</td>\n",
       "      <td>0</td>\n",
       "    </tr>\n",
       "    <tr>\n",
       "      <th>3</th>\n",
       "      <td>0</td>\n",
       "      <td>0.0</td>\n",
       "      <td>1</td>\n",
       "      <td>132.0</td>\n",
       "      <td>8</td>\n",
       "      <td>445.000000</td>\n",
       "      <td>0.00</td>\n",
       "      <td>0.014286</td>\n",
       "      <td>0.0</td>\n",
       "      <td>0.0</td>\n",
       "      <td>Mar</td>\n",
       "      <td>3</td>\n",
       "      <td>2</td>\n",
       "      <td>4</td>\n",
       "      <td>14</td>\n",
       "      <td>Returning_Visitor</td>\n",
       "      <td>Yes</td>\n",
       "      <td>0</td>\n",
       "    </tr>\n",
       "    <tr>\n",
       "      <th>4</th>\n",
       "      <td>0</td>\n",
       "      <td>0.0</td>\n",
       "      <td>0</td>\n",
       "      <td>0.0</td>\n",
       "      <td>3</td>\n",
       "      <td>0.000000</td>\n",
       "      <td>0.20</td>\n",
       "      <td>0.200000</td>\n",
       "      <td>0.0</td>\n",
       "      <td>0.0</td>\n",
       "      <td>Mar</td>\n",
       "      <td>1</td>\n",
       "      <td>8</td>\n",
       "      <td>2</td>\n",
       "      <td>1</td>\n",
       "      <td>Returning_Visitor</td>\n",
       "      <td>No</td>\n",
       "      <td>0</td>\n",
       "    </tr>\n",
       "    <tr>\n",
       "      <th>5</th>\n",
       "      <td>0</td>\n",
       "      <td>0.0</td>\n",
       "      <td>0</td>\n",
       "      <td>0.0</td>\n",
       "      <td>4</td>\n",
       "      <td>14.000000</td>\n",
       "      <td>0.10</td>\n",
       "      <td>0.150000</td>\n",
       "      <td>0.0</td>\n",
       "      <td>0.0</td>\n",
       "      <td>Mar</td>\n",
       "      <td>3</td>\n",
       "      <td>2</td>\n",
       "      <td>1</td>\n",
       "      <td>1</td>\n",
       "      <td>Returning_Visitor</td>\n",
       "      <td>No</td>\n",
       "      <td>0</td>\n",
       "    </tr>\n",
       "  </tbody>\n",
       "</table>\n",
       "</div>"
      ],
      "text/plain": [
       "    Administrative  Administrative_Duration  Informational  \\\n",
       "id                                                           \n",
       "1                0                      0.0              0   \n",
       "2                0                      0.0              0   \n",
       "3                0                      0.0              1   \n",
       "4                0                      0.0              0   \n",
       "5                0                      0.0              0   \n",
       "\n",
       "    Informational_Duration  ProductRelated  ProductRelated_Duration  \\\n",
       "id                                                                    \n",
       "1                      0.0               5                81.083333   \n",
       "2                      0.0               3               189.000000   \n",
       "3                    132.0               8               445.000000   \n",
       "4                      0.0               3                 0.000000   \n",
       "5                      0.0               4                14.000000   \n",
       "\n",
       "    BounceRates  ExitRates  PageValues  SpecialDay Month  OperatingSystems  \\\n",
       "id                                                                           \n",
       "1          0.04   0.050000         0.0         0.0   Dec                 3   \n",
       "2          0.00   0.066667         0.0         0.0   Mar                 3   \n",
       "3          0.00   0.014286         0.0         0.0   Mar                 3   \n",
       "4          0.20   0.200000         0.0         0.0   Mar                 1   \n",
       "5          0.10   0.150000         0.0         0.0   Mar                 3   \n",
       "\n",
       "    Browser  Region  TrafficType        VisitorType Weekend  target  \n",
       "id                                                                   \n",
       "1         2       1            2        New_Visitor      No       0  \n",
       "2         2       8            1  Returning_Visitor      No       0  \n",
       "3         2       4           14  Returning_Visitor     Yes       0  \n",
       "4         8       2            1  Returning_Visitor      No       0  \n",
       "5         2       1            1  Returning_Visitor      No       0  "
      ]
     },
     "execution_count": 8,
     "metadata": {},
     "output_type": "execute_result"
    },
    {
     "data": {
      "application/javascript": [
       "\n",
       "            setTimeout(function() {\n",
       "                var nbb_cell_id = 8;\n",
       "                var nbb_unformatted_code = \"train.head()\";\n",
       "                var nbb_formatted_code = \"train.head()\";\n",
       "                var nbb_cells = Jupyter.notebook.get_cells();\n",
       "                for (var i = 0; i < nbb_cells.length; ++i) {\n",
       "                    if (nbb_cells[i].input_prompt_number == nbb_cell_id) {\n",
       "                        if (nbb_cells[i].get_text() == nbb_unformatted_code) {\n",
       "                             nbb_cells[i].set_text(nbb_formatted_code);\n",
       "                        }\n",
       "                        break;\n",
       "                    }\n",
       "                }\n",
       "            }, 500);\n",
       "            "
      ],
      "text/plain": [
       "<IPython.core.display.Javascript object>"
      ]
     },
     "metadata": {},
     "output_type": "display_data"
    }
   ],
   "source": [
    "train.head()"
   ]
  },
  {
   "cell_type": "code",
   "execution_count": 9,
   "id": "informed-fantasy",
   "metadata": {},
   "outputs": [
    {
     "data": {
      "application/javascript": [
       "\n",
       "            setTimeout(function() {\n",
       "                var nbb_cell_id = 9;\n",
       "                var nbb_unformatted_code = \"# seperate the fetures and the target\\nX_train = train.drop(\\\"target\\\", axis=1).copy()\\ny_train = train[\\\"target\\\"].copy()\\nX_test = test.copy()\";\n",
       "                var nbb_formatted_code = \"# seperate the fetures and the target\\nX_train = train.drop(\\\"target\\\", axis=1).copy()\\ny_train = train[\\\"target\\\"].copy()\\nX_test = test.copy()\";\n",
       "                var nbb_cells = Jupyter.notebook.get_cells();\n",
       "                for (var i = 0; i < nbb_cells.length; ++i) {\n",
       "                    if (nbb_cells[i].input_prompt_number == nbb_cell_id) {\n",
       "                        if (nbb_cells[i].get_text() == nbb_unformatted_code) {\n",
       "                             nbb_cells[i].set_text(nbb_formatted_code);\n",
       "                        }\n",
       "                        break;\n",
       "                    }\n",
       "                }\n",
       "            }, 500);\n",
       "            "
      ],
      "text/plain": [
       "<IPython.core.display.Javascript object>"
      ]
     },
     "metadata": {},
     "output_type": "display_data"
    }
   ],
   "source": [
    "# seperate the fetures and the target\n",
    "X_train = train.drop(\"target\", axis=1).copy()\n",
    "y_train = train[\"target\"].copy()\n",
    "X_test = test.copy()"
   ]
  },
  {
   "cell_type": "code",
   "execution_count": 10,
   "id": "floppy-socket",
   "metadata": {},
   "outputs": [
    {
     "data": {
      "text/plain": [
       "ColumnTransformer(transformers=[('num',\n",
       "                                 Pipeline(steps=[('simpleimputer',\n",
       "                                                  SimpleImputer()),\n",
       "                                                 ('standardscaler',\n",
       "                                                  StandardScaler())]),\n",
       "                                 ['Administrative', 'Administrative_Duration',\n",
       "                                  'Informational', 'Informational_Duration',\n",
       "                                  'ProductRelated', 'ProductRelated_Duration',\n",
       "                                  'BounceRates', 'ExitRates', 'PageValues',\n",
       "                                  'SpecialDay', 'OperatingSystems', 'Browser',\n",
       "                                  'Region', 'TrafficType']),\n",
       "                                ('cat',\n",
       "                                 Pipeline(steps=[('simpleimputer',\n",
       "                                                  SimpleImputer(fill_value='NA',\n",
       "                                                                strategy='constant')),\n",
       "                                                 ('onehotencoder',\n",
       "                                                  OneHotEncoder(handle_unknown='ignore',\n",
       "                                                                sparse=False))]),\n",
       "                                 ['Month', 'VisitorType', 'Weekend'])])"
      ]
     },
     "execution_count": 10,
     "metadata": {},
     "output_type": "execute_result"
    },
    {
     "data": {
      "application/javascript": [
       "\n",
       "            setTimeout(function() {\n",
       "                var nbb_cell_id = 10;\n",
       "                var nbb_unformatted_code = \"# create preprocessing pipeline\\nfrom sklearn.pipeline import Pipeline, make_pipeline\\nfrom sklearn.preprocessing import StandardScaler\\nfrom sklearn.impute import SimpleImputer\\nfrom sklearn.preprocessing import OneHotEncoder\\nfrom sklearn.compose import ColumnTransformer\\n\\n# select numerical and categorical columns\\nnum_cols = X_train.select_dtypes(exclude=\\\"object\\\").columns.tolist()\\ncat_cols = X_train.select_dtypes(include=\\\"object\\\").columns.tolist()\\n\\n# numerical pipeline\\nnum_pipe = make_pipeline(SimpleImputer(strategy=\\\"mean\\\"), StandardScaler())\\n\\n# categorical pipeline\\ncat_pipe = make_pipeline(\\n    SimpleImputer(strategy=\\\"constant\\\", fill_value=\\\"NA\\\"),\\n    OneHotEncoder(handle_unknown=\\\"ignore\\\", sparse=False),\\n)\\n\\n# full pipeline for data preprocessing\\nfull_pipe = ColumnTransformer(\\n    [(\\\"num\\\", num_pipe, num_cols), (\\\"cat\\\", cat_pipe, cat_cols)]\\n)\\nfull_pipe\";\n",
       "                var nbb_formatted_code = \"# create preprocessing pipeline\\nfrom sklearn.pipeline import Pipeline, make_pipeline\\nfrom sklearn.preprocessing import StandardScaler\\nfrom sklearn.impute import SimpleImputer\\nfrom sklearn.preprocessing import OneHotEncoder\\nfrom sklearn.compose import ColumnTransformer\\n\\n# select numerical and categorical columns\\nnum_cols = X_train.select_dtypes(exclude=\\\"object\\\").columns.tolist()\\ncat_cols = X_train.select_dtypes(include=\\\"object\\\").columns.tolist()\\n\\n# numerical pipeline\\nnum_pipe = make_pipeline(SimpleImputer(strategy=\\\"mean\\\"), StandardScaler())\\n\\n# categorical pipeline\\ncat_pipe = make_pipeline(\\n    SimpleImputer(strategy=\\\"constant\\\", fill_value=\\\"NA\\\"),\\n    OneHotEncoder(handle_unknown=\\\"ignore\\\", sparse=False),\\n)\\n\\n# full pipeline for data preprocessing\\nfull_pipe = ColumnTransformer(\\n    [(\\\"num\\\", num_pipe, num_cols), (\\\"cat\\\", cat_pipe, cat_cols)]\\n)\\nfull_pipe\";\n",
       "                var nbb_cells = Jupyter.notebook.get_cells();\n",
       "                for (var i = 0; i < nbb_cells.length; ++i) {\n",
       "                    if (nbb_cells[i].input_prompt_number == nbb_cell_id) {\n",
       "                        if (nbb_cells[i].get_text() == nbb_unformatted_code) {\n",
       "                             nbb_cells[i].set_text(nbb_formatted_code);\n",
       "                        }\n",
       "                        break;\n",
       "                    }\n",
       "                }\n",
       "            }, 500);\n",
       "            "
      ],
      "text/plain": [
       "<IPython.core.display.Javascript object>"
      ]
     },
     "metadata": {},
     "output_type": "display_data"
    }
   ],
   "source": [
    "# create preprocessing pipeline\n",
    "from sklearn.pipeline import Pipeline, make_pipeline\n",
    "from sklearn.preprocessing import StandardScaler\n",
    "from sklearn.impute import SimpleImputer\n",
    "from sklearn.preprocessing import OneHotEncoder\n",
    "from sklearn.compose import ColumnTransformer\n",
    "\n",
    "# select numerical and categorical columns\n",
    "num_cols = X_train.select_dtypes(exclude=\"object\").columns.tolist()\n",
    "cat_cols = X_train.select_dtypes(include=\"object\").columns.tolist()\n",
    "\n",
    "# numerical pipeline\n",
    "num_pipe = make_pipeline(SimpleImputer(strategy=\"mean\"), StandardScaler())\n",
    "\n",
    "# categorical pipeline\n",
    "cat_pipe = make_pipeline(\n",
    "    SimpleImputer(strategy=\"constant\", fill_value=\"NA\"),\n",
    "    OneHotEncoder(handle_unknown=\"ignore\", sparse=False),\n",
    ")\n",
    "\n",
    "# full pipeline for data preprocessing\n",
    "full_pipe = ColumnTransformer(\n",
    "    [(\"num\", num_pipe, num_cols), (\"cat\", cat_pipe, cat_cols)]\n",
    ")\n",
    "full_pipe"
   ]
  },
  {
   "cell_type": "code",
   "execution_count": 11,
   "id": "global-individual",
   "metadata": {},
   "outputs": [
    {
     "data": {
      "application/javascript": [
       "\n",
       "            setTimeout(function() {\n",
       "                var nbb_cell_id = 11;\n",
       "                var nbb_unformatted_code = \"# fit and transform training and test features\\nX_train_tr = full_pipe.fit_transform(X_train)\\nX_test_tr = full_pipe.transform(X_test)\";\n",
       "                var nbb_formatted_code = \"# fit and transform training and test features\\nX_train_tr = full_pipe.fit_transform(X_train)\\nX_test_tr = full_pipe.transform(X_test)\";\n",
       "                var nbb_cells = Jupyter.notebook.get_cells();\n",
       "                for (var i = 0; i < nbb_cells.length; ++i) {\n",
       "                    if (nbb_cells[i].input_prompt_number == nbb_cell_id) {\n",
       "                        if (nbb_cells[i].get_text() == nbb_unformatted_code) {\n",
       "                             nbb_cells[i].set_text(nbb_formatted_code);\n",
       "                        }\n",
       "                        break;\n",
       "                    }\n",
       "                }\n",
       "            }, 500);\n",
       "            "
      ],
      "text/plain": [
       "<IPython.core.display.Javascript object>"
      ]
     },
     "metadata": {},
     "output_type": "display_data"
    }
   ],
   "source": [
    "# fit and transform training and test features\n",
    "X_train_tr = full_pipe.fit_transform(X_train)\n",
    "X_test_tr = full_pipe.transform(X_test)"
   ]
  },
  {
   "cell_type": "code",
   "execution_count": 12,
   "id": "third-welding",
   "metadata": {},
   "outputs": [
    {
     "data": {
      "text/plain": [
       "array(['x0_Aug', 'x0_Dec', 'x0_Feb', 'x0_Jul', 'x0_June', 'x0_Mar',\n",
       "       'x0_May', 'x0_Nov', 'x0_Oct', 'x0_Sep', 'x1_New_Visitor',\n",
       "       'x1_Other', 'x1_Returning_Visitor', 'x2_No', 'x2_Yes'],\n",
       "      dtype=object)"
      ]
     },
     "execution_count": 12,
     "metadata": {},
     "output_type": "execute_result"
    },
    {
     "data": {
      "application/javascript": [
       "\n",
       "            setTimeout(function() {\n",
       "                var nbb_cell_id = 12;\n",
       "                var nbb_unformatted_code = \"full_pipe.named_transformers_[\\\"cat\\\"].named_steps[\\\"onehotencoder\\\"].get_feature_names()\";\n",
       "                var nbb_formatted_code = \"full_pipe.named_transformers_[\\\"cat\\\"].named_steps[\\\"onehotencoder\\\"].get_feature_names()\";\n",
       "                var nbb_cells = Jupyter.notebook.get_cells();\n",
       "                for (var i = 0; i < nbb_cells.length; ++i) {\n",
       "                    if (nbb_cells[i].input_prompt_number == nbb_cell_id) {\n",
       "                        if (nbb_cells[i].get_text() == nbb_unformatted_code) {\n",
       "                             nbb_cells[i].set_text(nbb_formatted_code);\n",
       "                        }\n",
       "                        break;\n",
       "                    }\n",
       "                }\n",
       "            }, 500);\n",
       "            "
      ],
      "text/plain": [
       "<IPython.core.display.Javascript object>"
      ]
     },
     "metadata": {},
     "output_type": "display_data"
    }
   ],
   "source": [
    "full_pipe.named_transformers_[\"cat\"].named_steps[\"onehotencoder\"].get_feature_names()"
   ]
  },
  {
   "cell_type": "code",
   "execution_count": 13,
   "id": "lesbian-muscle",
   "metadata": {},
   "outputs": [
    {
     "data": {
      "text/plain": [
       "[array(['Aug', 'Dec', 'Feb', 'Jul', 'June', 'Mar', 'May', 'Nov', 'Oct',\n",
       "        'Sep'], dtype=object),\n",
       " array(['New_Visitor', 'Other', 'Returning_Visitor'], dtype=object),\n",
       " array(['No', 'Yes'], dtype=object)]"
      ]
     },
     "execution_count": 13,
     "metadata": {},
     "output_type": "execute_result"
    },
    {
     "data": {
      "application/javascript": [
       "\n",
       "            setTimeout(function() {\n",
       "                var nbb_cell_id = 13;\n",
       "                var nbb_unformatted_code = \"full_pipe.named_transformers_[\\\"cat\\\"].named_steps[\\\"onehotencoder\\\"].categories_\";\n",
       "                var nbb_formatted_code = \"full_pipe.named_transformers_[\\\"cat\\\"].named_steps[\\\"onehotencoder\\\"].categories_\";\n",
       "                var nbb_cells = Jupyter.notebook.get_cells();\n",
       "                for (var i = 0; i < nbb_cells.length; ++i) {\n",
       "                    if (nbb_cells[i].input_prompt_number == nbb_cell_id) {\n",
       "                        if (nbb_cells[i].get_text() == nbb_unformatted_code) {\n",
       "                             nbb_cells[i].set_text(nbb_formatted_code);\n",
       "                        }\n",
       "                        break;\n",
       "                    }\n",
       "                }\n",
       "            }, 500);\n",
       "            "
      ],
      "text/plain": [
       "<IPython.core.display.Javascript object>"
      ]
     },
     "metadata": {},
     "output_type": "display_data"
    }
   ],
   "source": [
    "full_pipe.named_transformers_[\"cat\"].named_steps[\"onehotencoder\"].categories_"
   ]
  },
  {
   "cell_type": "code",
   "execution_count": 14,
   "id": "positive-sussex",
   "metadata": {},
   "outputs": [
    {
     "data": {
      "application/javascript": [
       "\n",
       "            setTimeout(function() {\n",
       "                var nbb_cell_id = 14;\n",
       "                var nbb_unformatted_code = \"# Get the list of categories generated by the one-hot-encoder\\nohe_categories = (\\n    full_pipe.named_transformers_[\\\"cat\\\"].named_steps[\\\"onehotencoder\\\"].categories_\\n)\";\n",
       "                var nbb_formatted_code = \"# Get the list of categories generated by the one-hot-encoder\\nohe_categories = (\\n    full_pipe.named_transformers_[\\\"cat\\\"].named_steps[\\\"onehotencoder\\\"].categories_\\n)\";\n",
       "                var nbb_cells = Jupyter.notebook.get_cells();\n",
       "                for (var i = 0; i < nbb_cells.length; ++i) {\n",
       "                    if (nbb_cells[i].input_prompt_number == nbb_cell_id) {\n",
       "                        if (nbb_cells[i].get_text() == nbb_unformatted_code) {\n",
       "                             nbb_cells[i].set_text(nbb_formatted_code);\n",
       "                        }\n",
       "                        break;\n",
       "                    }\n",
       "                }\n",
       "            }, 500);\n",
       "            "
      ],
      "text/plain": [
       "<IPython.core.display.Javascript object>"
      ]
     },
     "metadata": {},
     "output_type": "display_data"
    }
   ],
   "source": [
    "# Get the list of categories generated by the one-hot-encoder\n",
    "ohe_categories = (\n",
    "    full_pipe.named_transformers_[\"cat\"].named_steps[\"onehotencoder\"].categories_\n",
    ")"
   ]
  },
  {
   "cell_type": "code",
   "execution_count": 15,
   "id": "sitting-shift",
   "metadata": {},
   "outputs": [
    {
     "data": {
      "text/plain": [
       "['Month__Aug',\n",
       " 'Month__Dec',\n",
       " 'Month__Feb',\n",
       " 'Month__Jul',\n",
       " 'Month__June',\n",
       " 'Month__Mar',\n",
       " 'Month__May',\n",
       " 'Month__Nov',\n",
       " 'Month__Oct',\n",
       " 'Month__Sep',\n",
       " 'VisitorType__New_Visitor',\n",
       " 'VisitorType__Other',\n",
       " 'VisitorType__Returning_Visitor',\n",
       " 'Weekend__No',\n",
       " 'Weekend__Yes']"
      ]
     },
     "execution_count": 15,
     "metadata": {},
     "output_type": "execute_result"
    },
    {
     "data": {
      "application/javascript": [
       "\n",
       "            setTimeout(function() {\n",
       "                var nbb_cell_id = 15;\n",
       "                var nbb_unformatted_code = \"# Create nice names for our one hot encoded features\\nnew_ohe_features = [\\n    f\\\"{col}__{val}\\\" for col, vals in zip(cat_cols, ohe_categories) for val in vals\\n]\\nnew_ohe_features\";\n",
       "                var nbb_formatted_code = \"# Create nice names for our one hot encoded features\\nnew_ohe_features = [\\n    f\\\"{col}__{val}\\\" for col, vals in zip(cat_cols, ohe_categories) for val in vals\\n]\\nnew_ohe_features\";\n",
       "                var nbb_cells = Jupyter.notebook.get_cells();\n",
       "                for (var i = 0; i < nbb_cells.length; ++i) {\n",
       "                    if (nbb_cells[i].input_prompt_number == nbb_cell_id) {\n",
       "                        if (nbb_cells[i].get_text() == nbb_unformatted_code) {\n",
       "                             nbb_cells[i].set_text(nbb_formatted_code);\n",
       "                        }\n",
       "                        break;\n",
       "                    }\n",
       "                }\n",
       "            }, 500);\n",
       "            "
      ],
      "text/plain": [
       "<IPython.core.display.Javascript object>"
      ]
     },
     "metadata": {},
     "output_type": "display_data"
    }
   ],
   "source": [
    "# Create nice names for our one hot encoded features\n",
    "new_ohe_features = [\n",
    "    f\"{col}__{val}\" for col, vals in zip(cat_cols, ohe_categories) for val in vals\n",
    "]\n",
    "new_ohe_features"
   ]
  },
  {
   "cell_type": "code",
   "execution_count": 16,
   "id": "scheduled-travel",
   "metadata": {},
   "outputs": [
    {
     "data": {
      "application/javascript": [
       "\n",
       "            setTimeout(function() {\n",
       "                var nbb_cell_id = 16;\n",
       "                var nbb_unformatted_code = \"# Create a new list with all names of features\\nall_features = num_cols + new_ohe_features\\n\\n# Create pandas dataframe\\nX_train_tr = pd.DataFrame(X_train_tr, columns=all_features)\\nX_test_tr = pd.DataFrame(X_test_tr, columns=all_features)\";\n",
       "                var nbb_formatted_code = \"# Create a new list with all names of features\\nall_features = num_cols + new_ohe_features\\n\\n# Create pandas dataframe\\nX_train_tr = pd.DataFrame(X_train_tr, columns=all_features)\\nX_test_tr = pd.DataFrame(X_test_tr, columns=all_features)\";\n",
       "                var nbb_cells = Jupyter.notebook.get_cells();\n",
       "                for (var i = 0; i < nbb_cells.length; ++i) {\n",
       "                    if (nbb_cells[i].input_prompt_number == nbb_cell_id) {\n",
       "                        if (nbb_cells[i].get_text() == nbb_unformatted_code) {\n",
       "                             nbb_cells[i].set_text(nbb_formatted_code);\n",
       "                        }\n",
       "                        break;\n",
       "                    }\n",
       "                }\n",
       "            }, 500);\n",
       "            "
      ],
      "text/plain": [
       "<IPython.core.display.Javascript object>"
      ]
     },
     "metadata": {},
     "output_type": "display_data"
    }
   ],
   "source": [
    "# Create a new list with all names of features\n",
    "all_features = num_cols + new_ohe_features\n",
    "\n",
    "# Create pandas dataframe\n",
    "X_train_tr = pd.DataFrame(X_train_tr, columns=all_features)\n",
    "X_test_tr = pd.DataFrame(X_test_tr, columns=all_features)\n"
   ]
  },
  {
   "cell_type": "code",
   "execution_count": 17,
   "id": "judicial-yesterday",
   "metadata": {},
   "outputs": [
    {
     "data": {
      "text/html": [
       "<div>\n",
       "<style scoped>\n",
       "    .dataframe tbody tr th:only-of-type {\n",
       "        vertical-align: middle;\n",
       "    }\n",
       "\n",
       "    .dataframe tbody tr th {\n",
       "        vertical-align: top;\n",
       "    }\n",
       "\n",
       "    .dataframe thead th {\n",
       "        text-align: right;\n",
       "    }\n",
       "</style>\n",
       "<table border=\"1\" class=\"dataframe\">\n",
       "  <thead>\n",
       "    <tr style=\"text-align: right;\">\n",
       "      <th></th>\n",
       "      <th>Administrative</th>\n",
       "      <th>Administrative_Duration</th>\n",
       "      <th>Informational</th>\n",
       "      <th>Informational_Duration</th>\n",
       "      <th>ProductRelated</th>\n",
       "      <th>ProductRelated_Duration</th>\n",
       "      <th>BounceRates</th>\n",
       "      <th>ExitRates</th>\n",
       "      <th>PageValues</th>\n",
       "      <th>SpecialDay</th>\n",
       "      <th>OperatingSystems</th>\n",
       "      <th>Browser</th>\n",
       "      <th>Region</th>\n",
       "      <th>TrafficType</th>\n",
       "      <th>Month__Aug</th>\n",
       "      <th>Month__Dec</th>\n",
       "      <th>Month__Feb</th>\n",
       "      <th>Month__Jul</th>\n",
       "      <th>Month__June</th>\n",
       "      <th>Month__Mar</th>\n",
       "      <th>Month__May</th>\n",
       "      <th>Month__Nov</th>\n",
       "      <th>Month__Oct</th>\n",
       "      <th>Month__Sep</th>\n",
       "      <th>VisitorType__New_Visitor</th>\n",
       "      <th>VisitorType__Other</th>\n",
       "      <th>VisitorType__Returning_Visitor</th>\n",
       "      <th>Weekend__No</th>\n",
       "      <th>Weekend__Yes</th>\n",
       "    </tr>\n",
       "  </thead>\n",
       "  <tbody>\n",
       "    <tr>\n",
       "      <th>0</th>\n",
       "      <td>-0.699615</td>\n",
       "      <td>-0.465158</td>\n",
       "      <td>-0.397205</td>\n",
       "      <td>-0.252976</td>\n",
       "      <td>-0.601617</td>\n",
       "      <td>-0.609623</td>\n",
       "      <td>0.391685</td>\n",
       "      <td>0.159557</td>\n",
       "      <td>-0.314838</td>\n",
       "      <td>-0.3047</td>\n",
       "      <td>0.978651</td>\n",
       "      <td>-0.208010</td>\n",
       "      <td>-0.892301</td>\n",
       "      <td>-0.515315</td>\n",
       "      <td>0.0</td>\n",
       "      <td>1.0</td>\n",
       "      <td>0.0</td>\n",
       "      <td>0.0</td>\n",
       "      <td>0.0</td>\n",
       "      <td>0.0</td>\n",
       "      <td>0.0</td>\n",
       "      <td>0.0</td>\n",
       "      <td>0.0</td>\n",
       "      <td>0.0</td>\n",
       "      <td>1.0</td>\n",
       "      <td>0.0</td>\n",
       "      <td>0.0</td>\n",
       "      <td>1.0</td>\n",
       "      <td>0.0</td>\n",
       "    </tr>\n",
       "    <tr>\n",
       "      <th>1</th>\n",
       "      <td>-0.699615</td>\n",
       "      <td>-0.465158</td>\n",
       "      <td>-0.397205</td>\n",
       "      <td>-0.252976</td>\n",
       "      <td>-0.646686</td>\n",
       "      <td>-0.550600</td>\n",
       "      <td>-0.454537</td>\n",
       "      <td>0.509468</td>\n",
       "      <td>-0.314838</td>\n",
       "      <td>-0.3047</td>\n",
       "      <td>0.978651</td>\n",
       "      <td>-0.208010</td>\n",
       "      <td>2.013749</td>\n",
       "      <td>-0.763872</td>\n",
       "      <td>0.0</td>\n",
       "      <td>0.0</td>\n",
       "      <td>0.0</td>\n",
       "      <td>0.0</td>\n",
       "      <td>0.0</td>\n",
       "      <td>1.0</td>\n",
       "      <td>0.0</td>\n",
       "      <td>0.0</td>\n",
       "      <td>0.0</td>\n",
       "      <td>0.0</td>\n",
       "      <td>0.0</td>\n",
       "      <td>0.0</td>\n",
       "      <td>1.0</td>\n",
       "      <td>1.0</td>\n",
       "      <td>0.0</td>\n",
       "    </tr>\n",
       "    <tr>\n",
       "      <th>2</th>\n",
       "      <td>-0.699615</td>\n",
       "      <td>-0.465158</td>\n",
       "      <td>0.383546</td>\n",
       "      <td>0.720154</td>\n",
       "      <td>-0.534014</td>\n",
       "      <td>-0.410585</td>\n",
       "      <td>-0.454537</td>\n",
       "      <td>-0.590251</td>\n",
       "      <td>-0.314838</td>\n",
       "      <td>-0.3047</td>\n",
       "      <td>0.978651</td>\n",
       "      <td>-0.208010</td>\n",
       "      <td>0.353149</td>\n",
       "      <td>2.467373</td>\n",
       "      <td>0.0</td>\n",
       "      <td>0.0</td>\n",
       "      <td>0.0</td>\n",
       "      <td>0.0</td>\n",
       "      <td>0.0</td>\n",
       "      <td>1.0</td>\n",
       "      <td>0.0</td>\n",
       "      <td>0.0</td>\n",
       "      <td>0.0</td>\n",
       "      <td>0.0</td>\n",
       "      <td>0.0</td>\n",
       "      <td>0.0</td>\n",
       "      <td>1.0</td>\n",
       "      <td>0.0</td>\n",
       "      <td>1.0</td>\n",
       "    </tr>\n",
       "    <tr>\n",
       "      <th>3</th>\n",
       "      <td>-0.699615</td>\n",
       "      <td>-0.465158</td>\n",
       "      <td>-0.397205</td>\n",
       "      <td>-0.252976</td>\n",
       "      <td>-0.646686</td>\n",
       "      <td>-0.653970</td>\n",
       "      <td>3.776574</td>\n",
       "      <td>3.308752</td>\n",
       "      <td>-0.314838</td>\n",
       "      <td>-0.3047</td>\n",
       "      <td>-1.237178</td>\n",
       "      <td>3.285991</td>\n",
       "      <td>-0.477151</td>\n",
       "      <td>-0.763872</td>\n",
       "      <td>0.0</td>\n",
       "      <td>0.0</td>\n",
       "      <td>0.0</td>\n",
       "      <td>0.0</td>\n",
       "      <td>0.0</td>\n",
       "      <td>1.0</td>\n",
       "      <td>0.0</td>\n",
       "      <td>0.0</td>\n",
       "      <td>0.0</td>\n",
       "      <td>0.0</td>\n",
       "      <td>0.0</td>\n",
       "      <td>0.0</td>\n",
       "      <td>1.0</td>\n",
       "      <td>1.0</td>\n",
       "      <td>0.0</td>\n",
       "    </tr>\n",
       "    <tr>\n",
       "      <th>4</th>\n",
       "      <td>-0.699615</td>\n",
       "      <td>-0.465158</td>\n",
       "      <td>-0.397205</td>\n",
       "      <td>-0.252976</td>\n",
       "      <td>-0.624152</td>\n",
       "      <td>-0.646313</td>\n",
       "      <td>1.661019</td>\n",
       "      <td>2.259020</td>\n",
       "      <td>-0.314838</td>\n",
       "      <td>-0.3047</td>\n",
       "      <td>0.978651</td>\n",
       "      <td>-0.208010</td>\n",
       "      <td>-0.892301</td>\n",
       "      <td>-0.763872</td>\n",
       "      <td>0.0</td>\n",
       "      <td>0.0</td>\n",
       "      <td>0.0</td>\n",
       "      <td>0.0</td>\n",
       "      <td>0.0</td>\n",
       "      <td>1.0</td>\n",
       "      <td>0.0</td>\n",
       "      <td>0.0</td>\n",
       "      <td>0.0</td>\n",
       "      <td>0.0</td>\n",
       "      <td>0.0</td>\n",
       "      <td>0.0</td>\n",
       "      <td>1.0</td>\n",
       "      <td>1.0</td>\n",
       "      <td>0.0</td>\n",
       "    </tr>\n",
       "  </tbody>\n",
       "</table>\n",
       "</div>"
      ],
      "text/plain": [
       "   Administrative  Administrative_Duration  Informational  \\\n",
       "0       -0.699615                -0.465158      -0.397205   \n",
       "1       -0.699615                -0.465158      -0.397205   \n",
       "2       -0.699615                -0.465158       0.383546   \n",
       "3       -0.699615                -0.465158      -0.397205   \n",
       "4       -0.699615                -0.465158      -0.397205   \n",
       "\n",
       "   Informational_Duration  ProductRelated  ProductRelated_Duration  \\\n",
       "0               -0.252976       -0.601617                -0.609623   \n",
       "1               -0.252976       -0.646686                -0.550600   \n",
       "2                0.720154       -0.534014                -0.410585   \n",
       "3               -0.252976       -0.646686                -0.653970   \n",
       "4               -0.252976       -0.624152                -0.646313   \n",
       "\n",
       "   BounceRates  ExitRates  PageValues  SpecialDay  OperatingSystems   Browser  \\\n",
       "0     0.391685   0.159557   -0.314838     -0.3047          0.978651 -0.208010   \n",
       "1    -0.454537   0.509468   -0.314838     -0.3047          0.978651 -0.208010   \n",
       "2    -0.454537  -0.590251   -0.314838     -0.3047          0.978651 -0.208010   \n",
       "3     3.776574   3.308752   -0.314838     -0.3047         -1.237178  3.285991   \n",
       "4     1.661019   2.259020   -0.314838     -0.3047          0.978651 -0.208010   \n",
       "\n",
       "     Region  TrafficType  Month__Aug  Month__Dec  Month__Feb  Month__Jul  \\\n",
       "0 -0.892301    -0.515315         0.0         1.0         0.0         0.0   \n",
       "1  2.013749    -0.763872         0.0         0.0         0.0         0.0   \n",
       "2  0.353149     2.467373         0.0         0.0         0.0         0.0   \n",
       "3 -0.477151    -0.763872         0.0         0.0         0.0         0.0   \n",
       "4 -0.892301    -0.763872         0.0         0.0         0.0         0.0   \n",
       "\n",
       "   Month__June  Month__Mar  Month__May  Month__Nov  Month__Oct  Month__Sep  \\\n",
       "0          0.0         0.0         0.0         0.0         0.0         0.0   \n",
       "1          0.0         1.0         0.0         0.0         0.0         0.0   \n",
       "2          0.0         1.0         0.0         0.0         0.0         0.0   \n",
       "3          0.0         1.0         0.0         0.0         0.0         0.0   \n",
       "4          0.0         1.0         0.0         0.0         0.0         0.0   \n",
       "\n",
       "   VisitorType__New_Visitor  VisitorType__Other  \\\n",
       "0                       1.0                 0.0   \n",
       "1                       0.0                 0.0   \n",
       "2                       0.0                 0.0   \n",
       "3                       0.0                 0.0   \n",
       "4                       0.0                 0.0   \n",
       "\n",
       "   VisitorType__Returning_Visitor  Weekend__No  Weekend__Yes  \n",
       "0                             0.0          1.0           0.0  \n",
       "1                             1.0          1.0           0.0  \n",
       "2                             1.0          0.0           1.0  \n",
       "3                             1.0          1.0           0.0  \n",
       "4                             1.0          1.0           0.0  "
      ]
     },
     "execution_count": 17,
     "metadata": {},
     "output_type": "execute_result"
    },
    {
     "data": {
      "application/javascript": [
       "\n",
       "            setTimeout(function() {\n",
       "                var nbb_cell_id = 17;\n",
       "                var nbb_unformatted_code = \"X_train_tr.head()\";\n",
       "                var nbb_formatted_code = \"X_train_tr.head()\";\n",
       "                var nbb_cells = Jupyter.notebook.get_cells();\n",
       "                for (var i = 0; i < nbb_cells.length; ++i) {\n",
       "                    if (nbb_cells[i].input_prompt_number == nbb_cell_id) {\n",
       "                        if (nbb_cells[i].get_text() == nbb_unformatted_code) {\n",
       "                             nbb_cells[i].set_text(nbb_formatted_code);\n",
       "                        }\n",
       "                        break;\n",
       "                    }\n",
       "                }\n",
       "            }, 500);\n",
       "            "
      ],
      "text/plain": [
       "<IPython.core.display.Javascript object>"
      ]
     },
     "metadata": {},
     "output_type": "display_data"
    }
   ],
   "source": [
    "X_train_tr.head()"
   ]
  },
  {
   "cell_type": "markdown",
   "id": "american-potato",
   "metadata": {},
   "source": [
    "# ML Models"
   ]
  },
  {
   "cell_type": "markdown",
   "id": "serial-lending",
   "metadata": {},
   "source": [
    "## Logistic Regression"
   ]
  },
  {
   "cell_type": "code",
   "execution_count": 19,
   "id": "according-laptop",
   "metadata": {},
   "outputs": [
    {
     "data": {
      "application/javascript": [
       "\n",
       "            setTimeout(function() {\n",
       "                var nbb_cell_id = 19;\n",
       "                var nbb_unformatted_code = \"from sklearn.linear_model import LogisticRegression\\nfrom sklearn.pipeline import make_pipeline\\nfrom sklearn.model_selection import cross_val_score\";\n",
       "                var nbb_formatted_code = \"from sklearn.linear_model import LogisticRegression\\nfrom sklearn.pipeline import make_pipeline\\nfrom sklearn.model_selection import cross_val_score\";\n",
       "                var nbb_cells = Jupyter.notebook.get_cells();\n",
       "                for (var i = 0; i < nbb_cells.length; ++i) {\n",
       "                    if (nbb_cells[i].input_prompt_number == nbb_cell_id) {\n",
       "                        if (nbb_cells[i].get_text() == nbb_unformatted_code) {\n",
       "                             nbb_cells[i].set_text(nbb_formatted_code);\n",
       "                        }\n",
       "                        break;\n",
       "                    }\n",
       "                }\n",
       "            }, 500);\n",
       "            "
      ],
      "text/plain": [
       "<IPython.core.display.Javascript object>"
      ]
     },
     "metadata": {},
     "output_type": "display_data"
    }
   ],
   "source": [
    "from sklearn.linear_model import LogisticRegression\n",
    "from sklearn.pipeline import make_pipeline\n",
    "from sklearn.model_selection import cross_val_score"
   ]
  },
  {
   "cell_type": "code",
   "execution_count": 22,
   "id": "regulation-thursday",
   "metadata": {},
   "outputs": [
    {
     "name": "stdout",
     "output_type": "stream",
     "text": [
      "Scores: [0.68932791 0.72167978 0.74813425 0.72716555 0.72006225]\n",
      "Average score: 0.7212739488959479\n"
     ]
    },
    {
     "data": {
      "application/javascript": [
       "\n",
       "            setTimeout(function() {\n",
       "                var nbb_cell_id = 22;\n",
       "                var nbb_unformatted_code = \"log_reg = make_pipeline(full_pipe, LogisticRegression(random_state=42, max_iter=1000))\\nscores = cross_val_score(log_reg, X_train, y_train, cv=5, scoring=\\\"f1_macro\\\")\\nprint(\\\"Scores:\\\", scores)\\nprint(\\\"Average score:\\\", np.mean(scores))\";\n",
       "                var nbb_formatted_code = \"log_reg = make_pipeline(full_pipe, LogisticRegression(random_state=42, max_iter=1000))\\nscores = cross_val_score(log_reg, X_train, y_train, cv=5, scoring=\\\"f1_macro\\\")\\nprint(\\\"Scores:\\\", scores)\\nprint(\\\"Average score:\\\", np.mean(scores))\";\n",
       "                var nbb_cells = Jupyter.notebook.get_cells();\n",
       "                for (var i = 0; i < nbb_cells.length; ++i) {\n",
       "                    if (nbb_cells[i].input_prompt_number == nbb_cell_id) {\n",
       "                        if (nbb_cells[i].get_text() == nbb_unformatted_code) {\n",
       "                             nbb_cells[i].set_text(nbb_formatted_code);\n",
       "                        }\n",
       "                        break;\n",
       "                    }\n",
       "                }\n",
       "            }, 500);\n",
       "            "
      ],
      "text/plain": [
       "<IPython.core.display.Javascript object>"
      ]
     },
     "metadata": {},
     "output_type": "display_data"
    }
   ],
   "source": [
    "log_reg = make_pipeline(full_pipe, LogisticRegression(random_state=42, max_iter=1000))\n",
    "scores = cross_val_score(log_reg, X_train, y_train, cv=5, scoring=\"f1_macro\")\n",
    "print(\"Scores:\", scores)\n",
    "print(\"Average score:\", np.mean(scores))"
   ]
  },
  {
   "cell_type": "markdown",
   "id": "billion-tulsa",
   "metadata": {},
   "source": [
    "## Support vector Machines"
   ]
  },
  {
   "cell_type": "code",
   "execution_count": 30,
   "id": "academic-transfer",
   "metadata": {},
   "outputs": [
    {
     "data": {
      "application/javascript": [
       "\n",
       "            setTimeout(function() {\n",
       "                var nbb_cell_id = 30;\n",
       "                var nbb_unformatted_code = \"from sklearn.svm import SVC\";\n",
       "                var nbb_formatted_code = \"from sklearn.svm import SVC\";\n",
       "                var nbb_cells = Jupyter.notebook.get_cells();\n",
       "                for (var i = 0; i < nbb_cells.length; ++i) {\n",
       "                    if (nbb_cells[i].input_prompt_number == nbb_cell_id) {\n",
       "                        if (nbb_cells[i].get_text() == nbb_unformatted_code) {\n",
       "                             nbb_cells[i].set_text(nbb_formatted_code);\n",
       "                        }\n",
       "                        break;\n",
       "                    }\n",
       "                }\n",
       "            }, 500);\n",
       "            "
      ],
      "text/plain": [
       "<IPython.core.display.Javascript object>"
      ]
     },
     "metadata": {},
     "output_type": "display_data"
    }
   ],
   "source": [
    "from sklearn.svm import SVC"
   ]
  },
  {
   "cell_type": "code",
   "execution_count": 31,
   "id": "altered-toner",
   "metadata": {},
   "outputs": [
    {
     "name": "stdout",
     "output_type": "stream",
     "text": [
      "Scores: [0.74459026 0.75886837 0.77945311 0.74998016 0.76607948]\n",
      "Average score: 0.759794276992569\n"
     ]
    },
    {
     "data": {
      "application/javascript": [
       "\n",
       "            setTimeout(function() {\n",
       "                var nbb_cell_id = 31;\n",
       "                var nbb_unformatted_code = \"svm_clf = make_pipeline(full_pipe, SVC(random_state=42))\\nscores = cross_val_score(svm_clf, X_train, y_train, cv=5, scoring=\\\"f1_macro\\\")\\nprint(\\\"Scores:\\\", scores)\\nprint(\\\"Average score:\\\", np.mean(scores))\";\n",
       "                var nbb_formatted_code = \"svm_clf = make_pipeline(full_pipe, SVC(random_state=42))\\nscores = cross_val_score(svm_clf, X_train, y_train, cv=5, scoring=\\\"f1_macro\\\")\\nprint(\\\"Scores:\\\", scores)\\nprint(\\\"Average score:\\\", np.mean(scores))\";\n",
       "                var nbb_cells = Jupyter.notebook.get_cells();\n",
       "                for (var i = 0; i < nbb_cells.length; ++i) {\n",
       "                    if (nbb_cells[i].input_prompt_number == nbb_cell_id) {\n",
       "                        if (nbb_cells[i].get_text() == nbb_unformatted_code) {\n",
       "                             nbb_cells[i].set_text(nbb_formatted_code);\n",
       "                        }\n",
       "                        break;\n",
       "                    }\n",
       "                }\n",
       "            }, 500);\n",
       "            "
      ],
      "text/plain": [
       "<IPython.core.display.Javascript object>"
      ]
     },
     "metadata": {},
     "output_type": "display_data"
    }
   ],
   "source": [
    "svm_clf = make_pipeline(full_pipe, SVC(random_state=42))\n",
    "scores = cross_val_score(svm_clf, X_train, y_train, cv=5, scoring=\"f1_macro\")\n",
    "print(\"Scores:\", scores)\n",
    "print(\"Average score:\", np.mean(scores))"
   ]
  },
  {
   "cell_type": "markdown",
   "id": "potential-feature",
   "metadata": {},
   "source": [
    "## Decision Tree"
   ]
  },
  {
   "cell_type": "code",
   "execution_count": 32,
   "id": "tender-delicious",
   "metadata": {},
   "outputs": [
    {
     "data": {
      "application/javascript": [
       "\n",
       "            setTimeout(function() {\n",
       "                var nbb_cell_id = 32;\n",
       "                var nbb_unformatted_code = \"from sklearn.tree import DecisionTreeClassifier\";\n",
       "                var nbb_formatted_code = \"from sklearn.tree import DecisionTreeClassifier\";\n",
       "                var nbb_cells = Jupyter.notebook.get_cells();\n",
       "                for (var i = 0; i < nbb_cells.length; ++i) {\n",
       "                    if (nbb_cells[i].input_prompt_number == nbb_cell_id) {\n",
       "                        if (nbb_cells[i].get_text() == nbb_unformatted_code) {\n",
       "                             nbb_cells[i].set_text(nbb_formatted_code);\n",
       "                        }\n",
       "                        break;\n",
       "                    }\n",
       "                }\n",
       "            }, 500);\n",
       "            "
      ],
      "text/plain": [
       "<IPython.core.display.Javascript object>"
      ]
     },
     "metadata": {},
     "output_type": "display_data"
    }
   ],
   "source": [
    "from sklearn.tree import DecisionTreeClassifier"
   ]
  },
  {
   "cell_type": "code",
   "execution_count": 33,
   "id": "fancy-interpretation",
   "metadata": {},
   "outputs": [
    {
     "name": "stdout",
     "output_type": "stream",
     "text": [
      "Scores: [0.73785542 0.73626786 0.74025352 0.72277219 0.74545276]\n",
      "Average score: 0.7365203492625806\n"
     ]
    },
    {
     "data": {
      "application/javascript": [
       "\n",
       "            setTimeout(function() {\n",
       "                var nbb_cell_id = 33;\n",
       "                var nbb_unformatted_code = \"tree_clf = make_pipeline(full_pipe, DecisionTreeClassifier(random_state=42))\\nscores = cross_val_score(tree_clf, X_train, y_train, cv=5, scoring=\\\"f1_macro\\\")\\nprint(\\\"Scores:\\\", scores)\\nprint(\\\"Average score:\\\", np.mean(scores))\";\n",
       "                var nbb_formatted_code = \"tree_clf = make_pipeline(full_pipe, DecisionTreeClassifier(random_state=42))\\nscores = cross_val_score(tree_clf, X_train, y_train, cv=5, scoring=\\\"f1_macro\\\")\\nprint(\\\"Scores:\\\", scores)\\nprint(\\\"Average score:\\\", np.mean(scores))\";\n",
       "                var nbb_cells = Jupyter.notebook.get_cells();\n",
       "                for (var i = 0; i < nbb_cells.length; ++i) {\n",
       "                    if (nbb_cells[i].input_prompt_number == nbb_cell_id) {\n",
       "                        if (nbb_cells[i].get_text() == nbb_unformatted_code) {\n",
       "                             nbb_cells[i].set_text(nbb_formatted_code);\n",
       "                        }\n",
       "                        break;\n",
       "                    }\n",
       "                }\n",
       "            }, 500);\n",
       "            "
      ],
      "text/plain": [
       "<IPython.core.display.Javascript object>"
      ]
     },
     "metadata": {},
     "output_type": "display_data"
    }
   ],
   "source": [
    "tree_clf = make_pipeline(full_pipe, DecisionTreeClassifier(random_state=42))\n",
    "scores = cross_val_score(tree_clf, X_train, y_train, cv=5, scoring=\"f1_macro\")\n",
    "print(\"Scores:\", scores)\n",
    "print(\"Average score:\", np.mean(scores))"
   ]
  },
  {
   "cell_type": "markdown",
   "id": "lined-health",
   "metadata": {},
   "source": [
    "## Random Forest "
   ]
  },
  {
   "cell_type": "code",
   "execution_count": 34,
   "id": "emerging-advancement",
   "metadata": {},
   "outputs": [
    {
     "data": {
      "application/javascript": [
       "\n",
       "            setTimeout(function() {\n",
       "                var nbb_cell_id = 34;\n",
       "                var nbb_unformatted_code = \"from sklearn.ensemble import RandomForestClassifier\";\n",
       "                var nbb_formatted_code = \"from sklearn.ensemble import RandomForestClassifier\";\n",
       "                var nbb_cells = Jupyter.notebook.get_cells();\n",
       "                for (var i = 0; i < nbb_cells.length; ++i) {\n",
       "                    if (nbb_cells[i].input_prompt_number == nbb_cell_id) {\n",
       "                        if (nbb_cells[i].get_text() == nbb_unformatted_code) {\n",
       "                             nbb_cells[i].set_text(nbb_formatted_code);\n",
       "                        }\n",
       "                        break;\n",
       "                    }\n",
       "                }\n",
       "            }, 500);\n",
       "            "
      ],
      "text/plain": [
       "<IPython.core.display.Javascript object>"
      ]
     },
     "metadata": {},
     "output_type": "display_data"
    }
   ],
   "source": [
    "from sklearn.ensemble import RandomForestClassifier"
   ]
  },
  {
   "cell_type": "code",
   "execution_count": 35,
   "id": "conscious-aruba",
   "metadata": {},
   "outputs": [
    {
     "name": "stdout",
     "output_type": "stream",
     "text": [
      "Scores: [0.78011204 0.81484353 0.80738757 0.77836793 0.79697307]\n",
      "Average score: 0.7955368296101\n"
     ]
    },
    {
     "data": {
      "application/javascript": [
       "\n",
       "            setTimeout(function() {\n",
       "                var nbb_cell_id = 35;\n",
       "                var nbb_unformatted_code = \"rf_clf = make_pipeline(full_pipe, RandomForestClassifier(random_state=42))\\nscores = cross_val_score(rf_clf, X_train, y_train, cv=5, scoring=\\\"f1_macro\\\")\\nprint(\\\"Scores:\\\", scores)\\nprint(\\\"Average score:\\\", np.mean(scores))\";\n",
       "                var nbb_formatted_code = \"rf_clf = make_pipeline(full_pipe, RandomForestClassifier(random_state=42))\\nscores = cross_val_score(rf_clf, X_train, y_train, cv=5, scoring=\\\"f1_macro\\\")\\nprint(\\\"Scores:\\\", scores)\\nprint(\\\"Average score:\\\", np.mean(scores))\";\n",
       "                var nbb_cells = Jupyter.notebook.get_cells();\n",
       "                for (var i = 0; i < nbb_cells.length; ++i) {\n",
       "                    if (nbb_cells[i].input_prompt_number == nbb_cell_id) {\n",
       "                        if (nbb_cells[i].get_text() == nbb_unformatted_code) {\n",
       "                             nbb_cells[i].set_text(nbb_formatted_code);\n",
       "                        }\n",
       "                        break;\n",
       "                    }\n",
       "                }\n",
       "            }, 500);\n",
       "            "
      ],
      "text/plain": [
       "<IPython.core.display.Javascript object>"
      ]
     },
     "metadata": {},
     "output_type": "display_data"
    }
   ],
   "source": [
    "rf_clf = make_pipeline(full_pipe, RandomForestClassifier(random_state=42))\n",
    "scores = cross_val_score(rf_clf, X_train, y_train, cv=5, scoring=\"f1_macro\")\n",
    "print(\"Scores:\", scores)\n",
    "print(\"Average score:\", np.mean(scores))"
   ]
  },
  {
   "cell_type": "markdown",
   "id": "instructional-suite",
   "metadata": {},
   "source": [
    "## XGBoost"
   ]
  },
  {
   "cell_type": "code",
   "execution_count": 36,
   "id": "serious-freedom",
   "metadata": {},
   "outputs": [
    {
     "data": {
      "application/javascript": [
       "\n",
       "            setTimeout(function() {\n",
       "                var nbb_cell_id = 36;\n",
       "                var nbb_unformatted_code = \"from xgboost import XGBClassifier\";\n",
       "                var nbb_formatted_code = \"from xgboost import XGBClassifier\";\n",
       "                var nbb_cells = Jupyter.notebook.get_cells();\n",
       "                for (var i = 0; i < nbb_cells.length; ++i) {\n",
       "                    if (nbb_cells[i].input_prompt_number == nbb_cell_id) {\n",
       "                        if (nbb_cells[i].get_text() == nbb_unformatted_code) {\n",
       "                             nbb_cells[i].set_text(nbb_formatted_code);\n",
       "                        }\n",
       "                        break;\n",
       "                    }\n",
       "                }\n",
       "            }, 500);\n",
       "            "
      ],
      "text/plain": [
       "<IPython.core.display.Javascript object>"
      ]
     },
     "metadata": {},
     "output_type": "display_data"
    }
   ],
   "source": [
    "from xgboost import XGBClassifier"
   ]
  },
  {
   "cell_type": "code",
   "execution_count": 39,
   "id": "foreign-membrane",
   "metadata": {},
   "outputs": [
    {
     "name": "stdout",
     "output_type": "stream",
     "text": [
      "Scores: [0.76772639 0.79936458 0.81573609 0.77942372 0.78402912]\n",
      "Average score: 0.7892559826643669\n"
     ]
    },
    {
     "data": {
      "application/javascript": [
       "\n",
       "            setTimeout(function() {\n",
       "                var nbb_cell_id = 39;\n",
       "                var nbb_unformatted_code = \"xgb_clf = make_pipeline(\\n    full_pipe, XGBClassifier(random_state=42, eval_metric=\\\"logloss\\\", use_label_encoder=False)\\n)\\nscores = cross_val_score(xgb_clf, X_train, y_train, cv=5, scoring=\\\"f1_macro\\\")\\nprint(\\\"Scores:\\\", scores)\\nprint(\\\"Average score:\\\", np.mean(scores))\";\n",
       "                var nbb_formatted_code = \"xgb_clf = make_pipeline(\\n    full_pipe,\\n    XGBClassifier(random_state=42, eval_metric=\\\"logloss\\\", use_label_encoder=False),\\n)\\nscores = cross_val_score(xgb_clf, X_train, y_train, cv=5, scoring=\\\"f1_macro\\\")\\nprint(\\\"Scores:\\\", scores)\\nprint(\\\"Average score:\\\", np.mean(scores))\";\n",
       "                var nbb_cells = Jupyter.notebook.get_cells();\n",
       "                for (var i = 0; i < nbb_cells.length; ++i) {\n",
       "                    if (nbb_cells[i].input_prompt_number == nbb_cell_id) {\n",
       "                        if (nbb_cells[i].get_text() == nbb_unformatted_code) {\n",
       "                             nbb_cells[i].set_text(nbb_formatted_code);\n",
       "                        }\n",
       "                        break;\n",
       "                    }\n",
       "                }\n",
       "            }, 500);\n",
       "            "
      ],
      "text/plain": [
       "<IPython.core.display.Javascript object>"
      ]
     },
     "metadata": {},
     "output_type": "display_data"
    }
   ],
   "source": [
    "xgb_clf = make_pipeline(\n",
    "    full_pipe,\n",
    "    XGBClassifier(random_state=42, eval_metric=\"logloss\", use_label_encoder=False),\n",
    ")\n",
    "scores = cross_val_score(xgb_clf, X_train, y_train, cv=5, scoring=\"f1_macro\")\n",
    "print(\"Scores:\", scores)\n",
    "print(\"Average score:\", np.mean(scores))"
   ]
  },
  {
   "cell_type": "markdown",
   "id": "scenic-running",
   "metadata": {},
   "source": [
    "## Submission"
   ]
  },
  {
   "cell_type": "markdown",
   "id": "guilty-computer",
   "metadata": {},
   "source": [
    "so far, the random forest model performed best out of all the models that we tested, the xgboost model is also very close. Let's make a submission and see the results on leaderboard and later impoove these two models. "
   ]
  },
  {
   "cell_type": "code",
   "execution_count": 40,
   "id": "careful-delta",
   "metadata": {},
   "outputs": [
    {
     "data": {
      "text/html": [
       "<div>\n",
       "<style scoped>\n",
       "    .dataframe tbody tr th:only-of-type {\n",
       "        vertical-align: middle;\n",
       "    }\n",
       "\n",
       "    .dataframe tbody tr th {\n",
       "        vertical-align: top;\n",
       "    }\n",
       "\n",
       "    .dataframe thead th {\n",
       "        text-align: right;\n",
       "    }\n",
       "</style>\n",
       "<table border=\"1\" class=\"dataframe\">\n",
       "  <thead>\n",
       "    <tr style=\"text-align: right;\">\n",
       "      <th></th>\n",
       "      <th>id</th>\n",
       "      <th>revenue</th>\n",
       "    </tr>\n",
       "  </thead>\n",
       "  <tbody>\n",
       "    <tr>\n",
       "      <th>0</th>\n",
       "      <td>1</td>\n",
       "      <td>0</td>\n",
       "    </tr>\n",
       "    <tr>\n",
       "      <th>1</th>\n",
       "      <td>2</td>\n",
       "      <td>0</td>\n",
       "    </tr>\n",
       "    <tr>\n",
       "      <th>2</th>\n",
       "      <td>3</td>\n",
       "      <td>0</td>\n",
       "    </tr>\n",
       "    <tr>\n",
       "      <th>3</th>\n",
       "      <td>4</td>\n",
       "      <td>0</td>\n",
       "    </tr>\n",
       "    <tr>\n",
       "      <th>4</th>\n",
       "      <td>5</td>\n",
       "      <td>0</td>\n",
       "    </tr>\n",
       "    <tr>\n",
       "      <th>...</th>\n",
       "      <td>...</td>\n",
       "      <td>...</td>\n",
       "    </tr>\n",
       "    <tr>\n",
       "      <th>3694</th>\n",
       "      <td>3695</td>\n",
       "      <td>0</td>\n",
       "    </tr>\n",
       "    <tr>\n",
       "      <th>3695</th>\n",
       "      <td>3696</td>\n",
       "      <td>0</td>\n",
       "    </tr>\n",
       "    <tr>\n",
       "      <th>3696</th>\n",
       "      <td>3697</td>\n",
       "      <td>0</td>\n",
       "    </tr>\n",
       "    <tr>\n",
       "      <th>3697</th>\n",
       "      <td>3698</td>\n",
       "      <td>0</td>\n",
       "    </tr>\n",
       "    <tr>\n",
       "      <th>3698</th>\n",
       "      <td>3699</td>\n",
       "      <td>0</td>\n",
       "    </tr>\n",
       "  </tbody>\n",
       "</table>\n",
       "<p>3699 rows × 2 columns</p>\n",
       "</div>"
      ],
      "text/plain": [
       "        id  revenue\n",
       "0        1        0\n",
       "1        2        0\n",
       "2        3        0\n",
       "3        4        0\n",
       "4        5        0\n",
       "...    ...      ...\n",
       "3694  3695        0\n",
       "3695  3696        0\n",
       "3696  3697        0\n",
       "3697  3698        0\n",
       "3698  3699        0\n",
       "\n",
       "[3699 rows x 2 columns]"
      ]
     },
     "execution_count": 40,
     "metadata": {},
     "output_type": "execute_result"
    },
    {
     "data": {
      "application/javascript": [
       "\n",
       "            setTimeout(function() {\n",
       "                var nbb_cell_id = 40;\n",
       "                var nbb_unformatted_code = \"submission\";\n",
       "                var nbb_formatted_code = \"submission\";\n",
       "                var nbb_cells = Jupyter.notebook.get_cells();\n",
       "                for (var i = 0; i < nbb_cells.length; ++i) {\n",
       "                    if (nbb_cells[i].input_prompt_number == nbb_cell_id) {\n",
       "                        if (nbb_cells[i].get_text() == nbb_unformatted_code) {\n",
       "                             nbb_cells[i].set_text(nbb_formatted_code);\n",
       "                        }\n",
       "                        break;\n",
       "                    }\n",
       "                }\n",
       "            }, 500);\n",
       "            "
      ],
      "text/plain": [
       "<IPython.core.display.Javascript object>"
      ]
     },
     "metadata": {},
     "output_type": "display_data"
    }
   ],
   "source": [
    "submission"
   ]
  },
  {
   "cell_type": "code",
   "execution_count": 44,
   "id": "indirect-sheffield",
   "metadata": {},
   "outputs": [
    {
     "data": {
      "application/javascript": [
       "\n",
       "            setTimeout(function() {\n",
       "                var nbb_cell_id = 44;\n",
       "                var nbb_unformatted_code = \"rf_clf = make_pipeline(full_pipe, RandomForestClassifier(random_state=42))\\nrf_clf.fit(X_train, y_train)\\ny_pred = rf_clf.predict(X_test)\\nsubmission[\\\"revenue\\\"] = y_pred\";\n",
       "                var nbb_formatted_code = \"rf_clf = make_pipeline(full_pipe, RandomForestClassifier(random_state=42))\\nrf_clf.fit(X_train, y_train)\\ny_pred = rf_clf.predict(X_test)\\nsubmission[\\\"revenue\\\"] = y_pred\";\n",
       "                var nbb_cells = Jupyter.notebook.get_cells();\n",
       "                for (var i = 0; i < nbb_cells.length; ++i) {\n",
       "                    if (nbb_cells[i].input_prompt_number == nbb_cell_id) {\n",
       "                        if (nbb_cells[i].get_text() == nbb_unformatted_code) {\n",
       "                             nbb_cells[i].set_text(nbb_formatted_code);\n",
       "                        }\n",
       "                        break;\n",
       "                    }\n",
       "                }\n",
       "            }, 500);\n",
       "            "
      ],
      "text/plain": [
       "<IPython.core.display.Javascript object>"
      ]
     },
     "metadata": {},
     "output_type": "display_data"
    }
   ],
   "source": [
    "rf_clf = make_pipeline(full_pipe, RandomForestClassifier(random_state=42))\n",
    "rf_clf.fit(X_train, y_train)\n",
    "y_pred = rf_clf.predict(X_test)\n",
    "submission[\"revenue\"] = y_pred"
   ]
  },
  {
   "cell_type": "code",
   "execution_count": 45,
   "id": "official-sector",
   "metadata": {},
   "outputs": [
    {
     "data": {
      "application/javascript": [
       "\n",
       "            setTimeout(function() {\n",
       "                var nbb_cell_id = 45;\n",
       "                var nbb_unformatted_code = \"# function for saving data as csv file\\ndef save_dataframe(df, filename, file_path=data_path):\\n    path = os.path.join(file_path, filename)\\n    df.to_csv(path, index=False)\";\n",
       "                var nbb_formatted_code = \"# function for saving data as csv file\\ndef save_dataframe(df, filename, file_path=data_path):\\n    path = os.path.join(file_path, filename)\\n    df.to_csv(path, index=False)\";\n",
       "                var nbb_cells = Jupyter.notebook.get_cells();\n",
       "                for (var i = 0; i < nbb_cells.length; ++i) {\n",
       "                    if (nbb_cells[i].input_prompt_number == nbb_cell_id) {\n",
       "                        if (nbb_cells[i].get_text() == nbb_unformatted_code) {\n",
       "                             nbb_cells[i].set_text(nbb_formatted_code);\n",
       "                        }\n",
       "                        break;\n",
       "                    }\n",
       "                }\n",
       "            }, 500);\n",
       "            "
      ],
      "text/plain": [
       "<IPython.core.display.Javascript object>"
      ]
     },
     "metadata": {},
     "output_type": "display_data"
    }
   ],
   "source": [
    "# function for saving data as csv file\n",
    "def save_dataframe(df, filename, file_path=data_path):\n",
    "    path = os.path.join(file_path, filename)\n",
    "    df.to_csv(path, index=False)"
   ]
  },
  {
   "cell_type": "code",
   "execution_count": 46,
   "id": "authentic-chamber",
   "metadata": {},
   "outputs": [
    {
     "data": {
      "application/javascript": [
       "\n",
       "            setTimeout(function() {\n",
       "                var nbb_cell_id = 46;\n",
       "                var nbb_unformatted_code = \"save_dataframe(submission, \\\"rf_default_sub1.csv\\\")\";\n",
       "                var nbb_formatted_code = \"save_dataframe(submission, \\\"rf_default_sub1.csv\\\")\";\n",
       "                var nbb_cells = Jupyter.notebook.get_cells();\n",
       "                for (var i = 0; i < nbb_cells.length; ++i) {\n",
       "                    if (nbb_cells[i].input_prompt_number == nbb_cell_id) {\n",
       "                        if (nbb_cells[i].get_text() == nbb_unformatted_code) {\n",
       "                             nbb_cells[i].set_text(nbb_formatted_code);\n",
       "                        }\n",
       "                        break;\n",
       "                    }\n",
       "                }\n",
       "            }, 500);\n",
       "            "
      ],
      "text/plain": [
       "<IPython.core.display.Javascript object>"
      ]
     },
     "metadata": {},
     "output_type": "display_data"
    }
   ],
   "source": [
    "save_dataframe(submission, \"rf_default_sub1.csv\")"
   ]
  },
  {
   "cell_type": "markdown",
   "id": "divine-beauty",
   "metadata": {},
   "source": [
    "Using only the random forest model with default parameters, we are already in the `30th position`. The `f1 macro score` on the public leaderboard is `0.7776`.  "
   ]
  },
  {
   "cell_type": "code",
   "execution_count": null,
   "id": "restricted-showcase",
   "metadata": {},
   "outputs": [],
   "source": []
  }
 ],
 "metadata": {
  "kernelspec": {
   "display_name": "ospi_venv",
   "language": "python",
   "name": "ospi_venv"
  },
  "language_info": {
   "codemirror_mode": {
    "name": "ipython",
    "version": 3
   },
   "file_extension": ".py",
   "mimetype": "text/x-python",
   "name": "python",
   "nbconvert_exporter": "python",
   "pygments_lexer": "ipython3",
   "version": "3.8.2"
  }
 },
 "nbformat": 4,
 "nbformat_minor": 5
}
