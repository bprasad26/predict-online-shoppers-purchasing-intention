{
 "cells": [
  {
   "cell_type": "markdown",
   "id": "starting-reception",
   "metadata": {},
   "source": [
    "## Set up"
   ]
  },
  {
   "cell_type": "code",
   "execution_count": 57,
   "id": "ambient-minute",
   "metadata": {},
   "outputs": [
    {
     "name": "stdout",
     "output_type": "stream",
     "text": [
      "The nb_black extension is already loaded. To reload it, use:\n",
      "  %reload_ext nb_black\n"
     ]
    },
    {
     "data": {
      "application/javascript": [
       "\n",
       "            setTimeout(function() {\n",
       "                var nbb_cell_id = 57;\n",
       "                var nbb_unformatted_code = \"# import libraries\\nimport os\\nimport pandas as pd\\nimport numpy as np\\nimport plotly.graph_objects as go\\nimport plotly.express as px\\nimport matplotlib.pyplot as plt\\nimport seaborn as sns\\n\\n# display settings\\npd.options.display.max_columns = 999\\n%matplotlib inline\\n%load_ext nb_black\\n\\n# for reproducibility\\nnp.random.seed(42)\\n\\n# project paths\\nproject_root_dir = os.path.normpath(os.getcwd() + os.sep + os.pardir)\\n\\ndata_path = os.path.join(project_root_dir, \\\"data\\\")\\nos.makedirs(data_path, exist_ok=True)\\n\\nimage_path = os.path.join(project_root_dir, \\\"images\\\")\\nos.makedirs(image_path, exist_ok=True)\\n\\n\\n# function for reading data\\ndef read_data(filename, date_cols=None, file_path=data_path):\\n    csv_path = os.path.join(file_path, filename)\\n    return pd.read_csv(csv_path, parse_dates=date_cols)\\n\\n\\n# function for saving data as csv file\\ndef save_dataframe(df, filename, file_path=data_path):\\n    path = os.path.join(file_path, filename)\\n    df.to_csv(path, index=False)\";\n",
       "                var nbb_formatted_code = \"# import libraries\\nimport os\\nimport pandas as pd\\nimport numpy as np\\nimport plotly.graph_objects as go\\nimport plotly.express as px\\nimport matplotlib.pyplot as plt\\nimport seaborn as sns\\n\\n# display settings\\npd.options.display.max_columns = 999\\n%matplotlib inline\\n%load_ext nb_black\\n\\n# for reproducibility\\nnp.random.seed(42)\\n\\n# project paths\\nproject_root_dir = os.path.normpath(os.getcwd() + os.sep + os.pardir)\\n\\ndata_path = os.path.join(project_root_dir, \\\"data\\\")\\nos.makedirs(data_path, exist_ok=True)\\n\\nimage_path = os.path.join(project_root_dir, \\\"images\\\")\\nos.makedirs(image_path, exist_ok=True)\\n\\n\\n# function for reading data\\ndef read_data(filename, date_cols=None, file_path=data_path):\\n    csv_path = os.path.join(file_path, filename)\\n    return pd.read_csv(csv_path, parse_dates=date_cols)\\n\\n\\n# function for saving data as csv file\\ndef save_dataframe(df, filename, file_path=data_path):\\n    path = os.path.join(file_path, filename)\\n    df.to_csv(path, index=False)\";\n",
       "                var nbb_cells = Jupyter.notebook.get_cells();\n",
       "                for (var i = 0; i < nbb_cells.length; ++i) {\n",
       "                    if (nbb_cells[i].input_prompt_number == nbb_cell_id) {\n",
       "                        if (nbb_cells[i].get_text() == nbb_unformatted_code) {\n",
       "                             nbb_cells[i].set_text(nbb_formatted_code);\n",
       "                        }\n",
       "                        break;\n",
       "                    }\n",
       "                }\n",
       "            }, 500);\n",
       "            "
      ],
      "text/plain": [
       "<IPython.core.display.Javascript object>"
      ]
     },
     "metadata": {},
     "output_type": "display_data"
    }
   ],
   "source": [
    "# import libraries\n",
    "import os\n",
    "import pandas as pd\n",
    "import numpy as np\n",
    "import plotly.graph_objects as go\n",
    "import plotly.express as px\n",
    "import matplotlib.pyplot as plt\n",
    "import seaborn as sns\n",
    "\n",
    "# display settings\n",
    "pd.options.display.max_columns = 999\n",
    "%matplotlib inline\n",
    "%load_ext nb_black\n",
    "\n",
    "# for reproducibility\n",
    "np.random.seed(42)\n",
    "\n",
    "# project paths\n",
    "project_root_dir = os.path.normpath(os.getcwd() + os.sep + os.pardir)\n",
    "\n",
    "data_path = os.path.join(project_root_dir, \"data\")\n",
    "os.makedirs(data_path, exist_ok=True)\n",
    "\n",
    "image_path = os.path.join(project_root_dir, \"images\")\n",
    "os.makedirs(image_path, exist_ok=True)\n",
    "\n",
    "\n",
    "# function for reading data\n",
    "def read_data(filename, date_cols=None, file_path=data_path):\n",
    "    csv_path = os.path.join(file_path, filename)\n",
    "    return pd.read_csv(csv_path, parse_dates=date_cols)\n",
    "\n",
    "\n",
    "# function for saving data as csv file\n",
    "def save_dataframe(df, filename, file_path=data_path):\n",
    "    path = os.path.join(file_path, filename)\n",
    "    df.to_csv(path, index=False)\n"
   ]
  },
  {
   "cell_type": "code",
   "execution_count": 58,
   "id": "lucky-decision",
   "metadata": {},
   "outputs": [
    {
     "data": {
      "application/javascript": [
       "\n",
       "            setTimeout(function() {\n",
       "                var nbb_cell_id = 58;\n",
       "                var nbb_unformatted_code = \"train = read_data(\\\"Train.csv\\\")\\ntest = read_data(\\\"Test.csv\\\")\\nsubmission = read_data(\\\"SampleSubmission.csv\\\")\";\n",
       "                var nbb_formatted_code = \"train = read_data(\\\"Train.csv\\\")\\ntest = read_data(\\\"Test.csv\\\")\\nsubmission = read_data(\\\"SampleSubmission.csv\\\")\";\n",
       "                var nbb_cells = Jupyter.notebook.get_cells();\n",
       "                for (var i = 0; i < nbb_cells.length; ++i) {\n",
       "                    if (nbb_cells[i].input_prompt_number == nbb_cell_id) {\n",
       "                        if (nbb_cells[i].get_text() == nbb_unformatted_code) {\n",
       "                             nbb_cells[i].set_text(nbb_formatted_code);\n",
       "                        }\n",
       "                        break;\n",
       "                    }\n",
       "                }\n",
       "            }, 500);\n",
       "            "
      ],
      "text/plain": [
       "<IPython.core.display.Javascript object>"
      ]
     },
     "metadata": {},
     "output_type": "display_data"
    }
   ],
   "source": [
    "train = read_data(\"Train.csv\")\n",
    "test = read_data(\"Test.csv\")\n",
    "submission = read_data(\"SampleSubmission.csv\")"
   ]
  },
  {
   "cell_type": "code",
   "execution_count": 59,
   "id": "armed-edwards",
   "metadata": {},
   "outputs": [
    {
     "data": {
      "application/javascript": [
       "\n",
       "            setTimeout(function() {\n",
       "                var nbb_cell_id = 59;\n",
       "                var nbb_unformatted_code = \"from data_module import prepare_data\\n\\n# Note: fit the full pipeline to transform the data\\nX_train, y_train, X_test, full_pipe = prepare_data(train, test)\";\n",
       "                var nbb_formatted_code = \"from data_module import prepare_data\\n\\n# Note: fit the full pipeline to transform the data\\nX_train, y_train, X_test, full_pipe = prepare_data(train, test)\";\n",
       "                var nbb_cells = Jupyter.notebook.get_cells();\n",
       "                for (var i = 0; i < nbb_cells.length; ++i) {\n",
       "                    if (nbb_cells[i].input_prompt_number == nbb_cell_id) {\n",
       "                        if (nbb_cells[i].get_text() == nbb_unformatted_code) {\n",
       "                             nbb_cells[i].set_text(nbb_formatted_code);\n",
       "                        }\n",
       "                        break;\n",
       "                    }\n",
       "                }\n",
       "            }, 500);\n",
       "            "
      ],
      "text/plain": [
       "<IPython.core.display.Javascript object>"
      ]
     },
     "metadata": {},
     "output_type": "display_data"
    }
   ],
   "source": [
    "from data_module import prepare_data\n",
    "\n",
    "# Note: fit the full pipeline to transform the data\n",
    "X_train, y_train, X_test, full_pipe = prepare_data(train, test)"
   ]
  },
  {
   "cell_type": "code",
   "execution_count": 60,
   "id": "deluxe-communication",
   "metadata": {},
   "outputs": [
    {
     "data": {
      "application/javascript": [
       "\n",
       "            setTimeout(function() {\n",
       "                var nbb_cell_id = 60;\n",
       "                var nbb_unformatted_code = \"X_train_tr = full_pipe.fit_transform(X_train)\\nX_test_tr = full_pipe.transform(X_test)\";\n",
       "                var nbb_formatted_code = \"X_train_tr = full_pipe.fit_transform(X_train)\\nX_test_tr = full_pipe.transform(X_test)\";\n",
       "                var nbb_cells = Jupyter.notebook.get_cells();\n",
       "                for (var i = 0; i < nbb_cells.length; ++i) {\n",
       "                    if (nbb_cells[i].input_prompt_number == nbb_cell_id) {\n",
       "                        if (nbb_cells[i].get_text() == nbb_unformatted_code) {\n",
       "                             nbb_cells[i].set_text(nbb_formatted_code);\n",
       "                        }\n",
       "                        break;\n",
       "                    }\n",
       "                }\n",
       "            }, 500);\n",
       "            "
      ],
      "text/plain": [
       "<IPython.core.display.Javascript object>"
      ]
     },
     "metadata": {},
     "output_type": "display_data"
    }
   ],
   "source": [
    "X_train_tr = full_pipe.fit_transform(X_train)\n",
    "X_test_tr = full_pipe.transform(X_test)"
   ]
  },
  {
   "cell_type": "code",
   "execution_count": 61,
   "id": "healthy-marathon",
   "metadata": {},
   "outputs": [
    {
     "data": {
      "text/plain": [
       "ColumnTransformer(transformers=[('num',\n",
       "                                 Pipeline(steps=[('simpleimputer',\n",
       "                                                  SimpleImputer())]),\n",
       "                                 ['Administrative', 'Administrative_Duration',\n",
       "                                  'Informational', 'Informational_Duration',\n",
       "                                  'ProductRelated', 'ProductRelated_Duration',\n",
       "                                  'BounceRates', 'ExitRates', 'PageValues',\n",
       "                                  'SpecialDay', 'OperatingSystems', 'Browser',\n",
       "                                  'Region', 'TrafficType']),\n",
       "                                ('cat',\n",
       "                                 Pipeline(steps=[('simpleimputer',\n",
       "                                                  SimpleImputer(fill_value='NA',\n",
       "                                                                strategy='constant')),\n",
       "                                                 ('onehotencoder',\n",
       "                                                  OneHotEncoder(handle_unknown='ignore',\n",
       "                                                                sparse=False))]),\n",
       "                                 ['Month', 'VisitorType', 'Weekend'])])"
      ]
     },
     "execution_count": 61,
     "metadata": {},
     "output_type": "execute_result"
    },
    {
     "data": {
      "application/javascript": [
       "\n",
       "            setTimeout(function() {\n",
       "                var nbb_cell_id = 61;\n",
       "                var nbb_unformatted_code = \"full_pipe\";\n",
       "                var nbb_formatted_code = \"full_pipe\";\n",
       "                var nbb_cells = Jupyter.notebook.get_cells();\n",
       "                for (var i = 0; i < nbb_cells.length; ++i) {\n",
       "                    if (nbb_cells[i].input_prompt_number == nbb_cell_id) {\n",
       "                        if (nbb_cells[i].get_text() == nbb_unformatted_code) {\n",
       "                             nbb_cells[i].set_text(nbb_formatted_code);\n",
       "                        }\n",
       "                        break;\n",
       "                    }\n",
       "                }\n",
       "            }, 500);\n",
       "            "
      ],
      "text/plain": [
       "<IPython.core.display.Javascript object>"
      ]
     },
     "metadata": {},
     "output_type": "display_data"
    }
   ],
   "source": [
    "full_pipe"
   ]
  },
  {
   "cell_type": "code",
   "execution_count": 62,
   "id": "thirty-geneva",
   "metadata": {},
   "outputs": [
    {
     "data": {
      "text/plain": [
       "[array(['Aug', 'Dec', 'Feb', 'Jul', 'June', 'Mar', 'May', 'Nov', 'Oct',\n",
       "        'Sep'], dtype=object),\n",
       " array(['New_Visitor', 'Other', 'Returning_Visitor'], dtype=object),\n",
       " array(['No', 'Yes'], dtype=object)]"
      ]
     },
     "execution_count": 62,
     "metadata": {},
     "output_type": "execute_result"
    },
    {
     "data": {
      "application/javascript": [
       "\n",
       "            setTimeout(function() {\n",
       "                var nbb_cell_id = 62;\n",
       "                var nbb_unformatted_code = \"full_pipe.named_transformers_.cat.named_steps.onehotencoder.categories_\";\n",
       "                var nbb_formatted_code = \"full_pipe.named_transformers_.cat.named_steps.onehotencoder.categories_\";\n",
       "                var nbb_cells = Jupyter.notebook.get_cells();\n",
       "                for (var i = 0; i < nbb_cells.length; ++i) {\n",
       "                    if (nbb_cells[i].input_prompt_number == nbb_cell_id) {\n",
       "                        if (nbb_cells[i].get_text() == nbb_unformatted_code) {\n",
       "                             nbb_cells[i].set_text(nbb_formatted_code);\n",
       "                        }\n",
       "                        break;\n",
       "                    }\n",
       "                }\n",
       "            }, 500);\n",
       "            "
      ],
      "text/plain": [
       "<IPython.core.display.Javascript object>"
      ]
     },
     "metadata": {},
     "output_type": "display_data"
    }
   ],
   "source": [
    "full_pipe.named_transformers_.cat.named_steps.onehotencoder.categories_"
   ]
  },
  {
   "cell_type": "code",
   "execution_count": 63,
   "id": "paperback-circle",
   "metadata": {},
   "outputs": [
    {
     "data": {
      "application/javascript": [
       "\n",
       "            setTimeout(function() {\n",
       "                var nbb_cell_id = 63;\n",
       "                var nbb_unformatted_code = \"num_cols = X_train.select_dtypes(exclude=\\\"object\\\").columns.tolist()\\ncat_cols = X_train.select_dtypes(include=\\\"object\\\").columns.tolist()\\n\\n# get the list of one-hot encoded categories\\nohe_categories = full_pipe.named_transformers_.cat.named_steps.onehotencoder.categories_\\n# create ohe-hot encoded category column names\\nnew_ohe_features = [\\n    f\\\"{col}__{val}\\\" for col, vals in zip(cat_cols, ohe_categories) for val in vals\\n]\\n\\n# list of all features names\\nall_features = num_cols + new_ohe_features\";\n",
       "                var nbb_formatted_code = \"num_cols = X_train.select_dtypes(exclude=\\\"object\\\").columns.tolist()\\ncat_cols = X_train.select_dtypes(include=\\\"object\\\").columns.tolist()\\n\\n# get the list of one-hot encoded categories\\nohe_categories = full_pipe.named_transformers_.cat.named_steps.onehotencoder.categories_\\n# create ohe-hot encoded category column names\\nnew_ohe_features = [\\n    f\\\"{col}__{val}\\\" for col, vals in zip(cat_cols, ohe_categories) for val in vals\\n]\\n\\n# list of all features names\\nall_features = num_cols + new_ohe_features\";\n",
       "                var nbb_cells = Jupyter.notebook.get_cells();\n",
       "                for (var i = 0; i < nbb_cells.length; ++i) {\n",
       "                    if (nbb_cells[i].input_prompt_number == nbb_cell_id) {\n",
       "                        if (nbb_cells[i].get_text() == nbb_unformatted_code) {\n",
       "                             nbb_cells[i].set_text(nbb_formatted_code);\n",
       "                        }\n",
       "                        break;\n",
       "                    }\n",
       "                }\n",
       "            }, 500);\n",
       "            "
      ],
      "text/plain": [
       "<IPython.core.display.Javascript object>"
      ]
     },
     "metadata": {},
     "output_type": "display_data"
    }
   ],
   "source": [
    "num_cols = X_train.select_dtypes(exclude=\"object\").columns.tolist()\n",
    "cat_cols = X_train.select_dtypes(include=\"object\").columns.tolist()\n",
    "\n",
    "# get the list of one-hot encoded categories\n",
    "ohe_categories = full_pipe.named_transformers_.cat.named_steps.onehotencoder.categories_\n",
    "# create ohe-hot encoded category column names\n",
    "new_ohe_features = [\n",
    "    f\"{col}__{val}\" for col, vals in zip(cat_cols, ohe_categories) for val in vals\n",
    "]\n",
    "\n",
    "# list of all features names\n",
    "all_features = num_cols + new_ohe_features"
   ]
  },
  {
   "cell_type": "code",
   "execution_count": 64,
   "id": "hawaiian-queue",
   "metadata": {},
   "outputs": [
    {
     "data": {
      "application/javascript": [
       "\n",
       "            setTimeout(function() {\n",
       "                var nbb_cell_id = 64;\n",
       "                var nbb_unformatted_code = \"X_train_tr = pd.DataFrame(X_train_tr, columns=all_features)\\nX_test_tr = pd.DataFrame(X_test_tr, columns=all_features)\";\n",
       "                var nbb_formatted_code = \"X_train_tr = pd.DataFrame(X_train_tr, columns=all_features)\\nX_test_tr = pd.DataFrame(X_test_tr, columns=all_features)\";\n",
       "                var nbb_cells = Jupyter.notebook.get_cells();\n",
       "                for (var i = 0; i < nbb_cells.length; ++i) {\n",
       "                    if (nbb_cells[i].input_prompt_number == nbb_cell_id) {\n",
       "                        if (nbb_cells[i].get_text() == nbb_unformatted_code) {\n",
       "                             nbb_cells[i].set_text(nbb_formatted_code);\n",
       "                        }\n",
       "                        break;\n",
       "                    }\n",
       "                }\n",
       "            }, 500);\n",
       "            "
      ],
      "text/plain": [
       "<IPython.core.display.Javascript object>"
      ]
     },
     "metadata": {},
     "output_type": "display_data"
    }
   ],
   "source": [
    "X_train_tr = pd.DataFrame(X_train_tr, columns=all_features)\n",
    "X_test_tr = pd.DataFrame(X_test_tr, columns=all_features)"
   ]
  },
  {
   "cell_type": "code",
   "execution_count": 65,
   "id": "judicial-consultancy",
   "metadata": {},
   "outputs": [
    {
     "data": {
      "text/html": [
       "<div>\n",
       "<style scoped>\n",
       "    .dataframe tbody tr th:only-of-type {\n",
       "        vertical-align: middle;\n",
       "    }\n",
       "\n",
       "    .dataframe tbody tr th {\n",
       "        vertical-align: top;\n",
       "    }\n",
       "\n",
       "    .dataframe thead th {\n",
       "        text-align: right;\n",
       "    }\n",
       "</style>\n",
       "<table border=\"1\" class=\"dataframe\">\n",
       "  <thead>\n",
       "    <tr style=\"text-align: right;\">\n",
       "      <th></th>\n",
       "      <th>Administrative</th>\n",
       "      <th>Administrative_Duration</th>\n",
       "      <th>Informational</th>\n",
       "      <th>Informational_Duration</th>\n",
       "      <th>ProductRelated</th>\n",
       "      <th>ProductRelated_Duration</th>\n",
       "      <th>BounceRates</th>\n",
       "      <th>ExitRates</th>\n",
       "      <th>PageValues</th>\n",
       "      <th>SpecialDay</th>\n",
       "      <th>OperatingSystems</th>\n",
       "      <th>Browser</th>\n",
       "      <th>Region</th>\n",
       "      <th>TrafficType</th>\n",
       "      <th>Month__Aug</th>\n",
       "      <th>Month__Dec</th>\n",
       "      <th>Month__Feb</th>\n",
       "      <th>Month__Jul</th>\n",
       "      <th>Month__June</th>\n",
       "      <th>Month__Mar</th>\n",
       "      <th>Month__May</th>\n",
       "      <th>Month__Nov</th>\n",
       "      <th>Month__Oct</th>\n",
       "      <th>Month__Sep</th>\n",
       "      <th>VisitorType__New_Visitor</th>\n",
       "      <th>VisitorType__Other</th>\n",
       "      <th>VisitorType__Returning_Visitor</th>\n",
       "      <th>Weekend__No</th>\n",
       "      <th>Weekend__Yes</th>\n",
       "    </tr>\n",
       "  </thead>\n",
       "  <tbody>\n",
       "    <tr>\n",
       "      <th>0</th>\n",
       "      <td>0.0</td>\n",
       "      <td>0.0</td>\n",
       "      <td>0.0</td>\n",
       "      <td>0.0</td>\n",
       "      <td>5.0</td>\n",
       "      <td>81.083333</td>\n",
       "      <td>0.04</td>\n",
       "      <td>0.050000</td>\n",
       "      <td>0.0</td>\n",
       "      <td>0.0</td>\n",
       "      <td>3.0</td>\n",
       "      <td>2.0</td>\n",
       "      <td>1.0</td>\n",
       "      <td>2.0</td>\n",
       "      <td>0.0</td>\n",
       "      <td>1.0</td>\n",
       "      <td>0.0</td>\n",
       "      <td>0.0</td>\n",
       "      <td>0.0</td>\n",
       "      <td>0.0</td>\n",
       "      <td>0.0</td>\n",
       "      <td>0.0</td>\n",
       "      <td>0.0</td>\n",
       "      <td>0.0</td>\n",
       "      <td>1.0</td>\n",
       "      <td>0.0</td>\n",
       "      <td>0.0</td>\n",
       "      <td>1.0</td>\n",
       "      <td>0.0</td>\n",
       "    </tr>\n",
       "    <tr>\n",
       "      <th>1</th>\n",
       "      <td>0.0</td>\n",
       "      <td>0.0</td>\n",
       "      <td>0.0</td>\n",
       "      <td>0.0</td>\n",
       "      <td>3.0</td>\n",
       "      <td>189.000000</td>\n",
       "      <td>0.00</td>\n",
       "      <td>0.066667</td>\n",
       "      <td>0.0</td>\n",
       "      <td>0.0</td>\n",
       "      <td>3.0</td>\n",
       "      <td>2.0</td>\n",
       "      <td>8.0</td>\n",
       "      <td>1.0</td>\n",
       "      <td>0.0</td>\n",
       "      <td>0.0</td>\n",
       "      <td>0.0</td>\n",
       "      <td>0.0</td>\n",
       "      <td>0.0</td>\n",
       "      <td>1.0</td>\n",
       "      <td>0.0</td>\n",
       "      <td>0.0</td>\n",
       "      <td>0.0</td>\n",
       "      <td>0.0</td>\n",
       "      <td>0.0</td>\n",
       "      <td>0.0</td>\n",
       "      <td>1.0</td>\n",
       "      <td>1.0</td>\n",
       "      <td>0.0</td>\n",
       "    </tr>\n",
       "    <tr>\n",
       "      <th>2</th>\n",
       "      <td>0.0</td>\n",
       "      <td>0.0</td>\n",
       "      <td>1.0</td>\n",
       "      <td>132.0</td>\n",
       "      <td>8.0</td>\n",
       "      <td>445.000000</td>\n",
       "      <td>0.00</td>\n",
       "      <td>0.014286</td>\n",
       "      <td>0.0</td>\n",
       "      <td>0.0</td>\n",
       "      <td>3.0</td>\n",
       "      <td>2.0</td>\n",
       "      <td>4.0</td>\n",
       "      <td>14.0</td>\n",
       "      <td>0.0</td>\n",
       "      <td>0.0</td>\n",
       "      <td>0.0</td>\n",
       "      <td>0.0</td>\n",
       "      <td>0.0</td>\n",
       "      <td>1.0</td>\n",
       "      <td>0.0</td>\n",
       "      <td>0.0</td>\n",
       "      <td>0.0</td>\n",
       "      <td>0.0</td>\n",
       "      <td>0.0</td>\n",
       "      <td>0.0</td>\n",
       "      <td>1.0</td>\n",
       "      <td>0.0</td>\n",
       "      <td>1.0</td>\n",
       "    </tr>\n",
       "    <tr>\n",
       "      <th>3</th>\n",
       "      <td>0.0</td>\n",
       "      <td>0.0</td>\n",
       "      <td>0.0</td>\n",
       "      <td>0.0</td>\n",
       "      <td>3.0</td>\n",
       "      <td>0.000000</td>\n",
       "      <td>0.20</td>\n",
       "      <td>0.200000</td>\n",
       "      <td>0.0</td>\n",
       "      <td>0.0</td>\n",
       "      <td>1.0</td>\n",
       "      <td>8.0</td>\n",
       "      <td>2.0</td>\n",
       "      <td>1.0</td>\n",
       "      <td>0.0</td>\n",
       "      <td>0.0</td>\n",
       "      <td>0.0</td>\n",
       "      <td>0.0</td>\n",
       "      <td>0.0</td>\n",
       "      <td>1.0</td>\n",
       "      <td>0.0</td>\n",
       "      <td>0.0</td>\n",
       "      <td>0.0</td>\n",
       "      <td>0.0</td>\n",
       "      <td>0.0</td>\n",
       "      <td>0.0</td>\n",
       "      <td>1.0</td>\n",
       "      <td>1.0</td>\n",
       "      <td>0.0</td>\n",
       "    </tr>\n",
       "    <tr>\n",
       "      <th>4</th>\n",
       "      <td>0.0</td>\n",
       "      <td>0.0</td>\n",
       "      <td>0.0</td>\n",
       "      <td>0.0</td>\n",
       "      <td>4.0</td>\n",
       "      <td>14.000000</td>\n",
       "      <td>0.10</td>\n",
       "      <td>0.150000</td>\n",
       "      <td>0.0</td>\n",
       "      <td>0.0</td>\n",
       "      <td>3.0</td>\n",
       "      <td>2.0</td>\n",
       "      <td>1.0</td>\n",
       "      <td>1.0</td>\n",
       "      <td>0.0</td>\n",
       "      <td>0.0</td>\n",
       "      <td>0.0</td>\n",
       "      <td>0.0</td>\n",
       "      <td>0.0</td>\n",
       "      <td>1.0</td>\n",
       "      <td>0.0</td>\n",
       "      <td>0.0</td>\n",
       "      <td>0.0</td>\n",
       "      <td>0.0</td>\n",
       "      <td>0.0</td>\n",
       "      <td>0.0</td>\n",
       "      <td>1.0</td>\n",
       "      <td>1.0</td>\n",
       "      <td>0.0</td>\n",
       "    </tr>\n",
       "  </tbody>\n",
       "</table>\n",
       "</div>"
      ],
      "text/plain": [
       "   Administrative  Administrative_Duration  Informational  \\\n",
       "0             0.0                      0.0            0.0   \n",
       "1             0.0                      0.0            0.0   \n",
       "2             0.0                      0.0            1.0   \n",
       "3             0.0                      0.0            0.0   \n",
       "4             0.0                      0.0            0.0   \n",
       "\n",
       "   Informational_Duration  ProductRelated  ProductRelated_Duration  \\\n",
       "0                     0.0             5.0                81.083333   \n",
       "1                     0.0             3.0               189.000000   \n",
       "2                   132.0             8.0               445.000000   \n",
       "3                     0.0             3.0                 0.000000   \n",
       "4                     0.0             4.0                14.000000   \n",
       "\n",
       "   BounceRates  ExitRates  PageValues  SpecialDay  OperatingSystems  Browser  \\\n",
       "0         0.04   0.050000         0.0         0.0               3.0      2.0   \n",
       "1         0.00   0.066667         0.0         0.0               3.0      2.0   \n",
       "2         0.00   0.014286         0.0         0.0               3.0      2.0   \n",
       "3         0.20   0.200000         0.0         0.0               1.0      8.0   \n",
       "4         0.10   0.150000         0.0         0.0               3.0      2.0   \n",
       "\n",
       "   Region  TrafficType  Month__Aug  Month__Dec  Month__Feb  Month__Jul  \\\n",
       "0     1.0          2.0         0.0         1.0         0.0         0.0   \n",
       "1     8.0          1.0         0.0         0.0         0.0         0.0   \n",
       "2     4.0         14.0         0.0         0.0         0.0         0.0   \n",
       "3     2.0          1.0         0.0         0.0         0.0         0.0   \n",
       "4     1.0          1.0         0.0         0.0         0.0         0.0   \n",
       "\n",
       "   Month__June  Month__Mar  Month__May  Month__Nov  Month__Oct  Month__Sep  \\\n",
       "0          0.0         0.0         0.0         0.0         0.0         0.0   \n",
       "1          0.0         1.0         0.0         0.0         0.0         0.0   \n",
       "2          0.0         1.0         0.0         0.0         0.0         0.0   \n",
       "3          0.0         1.0         0.0         0.0         0.0         0.0   \n",
       "4          0.0         1.0         0.0         0.0         0.0         0.0   \n",
       "\n",
       "   VisitorType__New_Visitor  VisitorType__Other  \\\n",
       "0                       1.0                 0.0   \n",
       "1                       0.0                 0.0   \n",
       "2                       0.0                 0.0   \n",
       "3                       0.0                 0.0   \n",
       "4                       0.0                 0.0   \n",
       "\n",
       "   VisitorType__Returning_Visitor  Weekend__No  Weekend__Yes  \n",
       "0                             0.0          1.0           0.0  \n",
       "1                             1.0          1.0           0.0  \n",
       "2                             1.0          0.0           1.0  \n",
       "3                             1.0          1.0           0.0  \n",
       "4                             1.0          1.0           0.0  "
      ]
     },
     "execution_count": 65,
     "metadata": {},
     "output_type": "execute_result"
    },
    {
     "data": {
      "application/javascript": [
       "\n",
       "            setTimeout(function() {\n",
       "                var nbb_cell_id = 65;\n",
       "                var nbb_unformatted_code = \"X_train_tr.head()\";\n",
       "                var nbb_formatted_code = \"X_train_tr.head()\";\n",
       "                var nbb_cells = Jupyter.notebook.get_cells();\n",
       "                for (var i = 0; i < nbb_cells.length; ++i) {\n",
       "                    if (nbb_cells[i].input_prompt_number == nbb_cell_id) {\n",
       "                        if (nbb_cells[i].get_text() == nbb_unformatted_code) {\n",
       "                             nbb_cells[i].set_text(nbb_formatted_code);\n",
       "                        }\n",
       "                        break;\n",
       "                    }\n",
       "                }\n",
       "            }, 500);\n",
       "            "
      ],
      "text/plain": [
       "<IPython.core.display.Javascript object>"
      ]
     },
     "metadata": {},
     "output_type": "display_data"
    }
   ],
   "source": [
    "X_train_tr.head()"
   ]
  },
  {
   "cell_type": "code",
   "execution_count": 66,
   "id": "included-default",
   "metadata": {},
   "outputs": [
    {
     "data": {
      "text/html": [
       "<div>\n",
       "<style scoped>\n",
       "    .dataframe tbody tr th:only-of-type {\n",
       "        vertical-align: middle;\n",
       "    }\n",
       "\n",
       "    .dataframe tbody tr th {\n",
       "        vertical-align: top;\n",
       "    }\n",
       "\n",
       "    .dataframe thead th {\n",
       "        text-align: right;\n",
       "    }\n",
       "</style>\n",
       "<table border=\"1\" class=\"dataframe\">\n",
       "  <thead>\n",
       "    <tr style=\"text-align: right;\">\n",
       "      <th></th>\n",
       "      <th>Administrative</th>\n",
       "      <th>Administrative_Duration</th>\n",
       "      <th>Informational</th>\n",
       "      <th>Informational_Duration</th>\n",
       "      <th>ProductRelated</th>\n",
       "      <th>ProductRelated_Duration</th>\n",
       "      <th>BounceRates</th>\n",
       "      <th>ExitRates</th>\n",
       "      <th>PageValues</th>\n",
       "      <th>SpecialDay</th>\n",
       "      <th>Month</th>\n",
       "      <th>OperatingSystems</th>\n",
       "      <th>Browser</th>\n",
       "      <th>Region</th>\n",
       "      <th>TrafficType</th>\n",
       "      <th>VisitorType</th>\n",
       "      <th>Weekend</th>\n",
       "    </tr>\n",
       "    <tr>\n",
       "      <th>id</th>\n",
       "      <th></th>\n",
       "      <th></th>\n",
       "      <th></th>\n",
       "      <th></th>\n",
       "      <th></th>\n",
       "      <th></th>\n",
       "      <th></th>\n",
       "      <th></th>\n",
       "      <th></th>\n",
       "      <th></th>\n",
       "      <th></th>\n",
       "      <th></th>\n",
       "      <th></th>\n",
       "      <th></th>\n",
       "      <th></th>\n",
       "      <th></th>\n",
       "      <th></th>\n",
       "    </tr>\n",
       "  </thead>\n",
       "  <tbody>\n",
       "    <tr>\n",
       "      <th>1</th>\n",
       "      <td>0</td>\n",
       "      <td>0.0</td>\n",
       "      <td>0</td>\n",
       "      <td>0.0</td>\n",
       "      <td>5</td>\n",
       "      <td>81.083333</td>\n",
       "      <td>0.04</td>\n",
       "      <td>0.050000</td>\n",
       "      <td>0.0</td>\n",
       "      <td>0.0</td>\n",
       "      <td>Dec</td>\n",
       "      <td>3</td>\n",
       "      <td>2</td>\n",
       "      <td>1</td>\n",
       "      <td>2</td>\n",
       "      <td>New_Visitor</td>\n",
       "      <td>No</td>\n",
       "    </tr>\n",
       "    <tr>\n",
       "      <th>2</th>\n",
       "      <td>0</td>\n",
       "      <td>0.0</td>\n",
       "      <td>0</td>\n",
       "      <td>0.0</td>\n",
       "      <td>3</td>\n",
       "      <td>189.000000</td>\n",
       "      <td>0.00</td>\n",
       "      <td>0.066667</td>\n",
       "      <td>0.0</td>\n",
       "      <td>0.0</td>\n",
       "      <td>Mar</td>\n",
       "      <td>3</td>\n",
       "      <td>2</td>\n",
       "      <td>8</td>\n",
       "      <td>1</td>\n",
       "      <td>Returning_Visitor</td>\n",
       "      <td>No</td>\n",
       "    </tr>\n",
       "    <tr>\n",
       "      <th>3</th>\n",
       "      <td>0</td>\n",
       "      <td>0.0</td>\n",
       "      <td>1</td>\n",
       "      <td>132.0</td>\n",
       "      <td>8</td>\n",
       "      <td>445.000000</td>\n",
       "      <td>0.00</td>\n",
       "      <td>0.014286</td>\n",
       "      <td>0.0</td>\n",
       "      <td>0.0</td>\n",
       "      <td>Mar</td>\n",
       "      <td>3</td>\n",
       "      <td>2</td>\n",
       "      <td>4</td>\n",
       "      <td>14</td>\n",
       "      <td>Returning_Visitor</td>\n",
       "      <td>Yes</td>\n",
       "    </tr>\n",
       "    <tr>\n",
       "      <th>4</th>\n",
       "      <td>0</td>\n",
       "      <td>0.0</td>\n",
       "      <td>0</td>\n",
       "      <td>0.0</td>\n",
       "      <td>3</td>\n",
       "      <td>0.000000</td>\n",
       "      <td>0.20</td>\n",
       "      <td>0.200000</td>\n",
       "      <td>0.0</td>\n",
       "      <td>0.0</td>\n",
       "      <td>Mar</td>\n",
       "      <td>1</td>\n",
       "      <td>8</td>\n",
       "      <td>2</td>\n",
       "      <td>1</td>\n",
       "      <td>Returning_Visitor</td>\n",
       "      <td>No</td>\n",
       "    </tr>\n",
       "    <tr>\n",
       "      <th>5</th>\n",
       "      <td>0</td>\n",
       "      <td>0.0</td>\n",
       "      <td>0</td>\n",
       "      <td>0.0</td>\n",
       "      <td>4</td>\n",
       "      <td>14.000000</td>\n",
       "      <td>0.10</td>\n",
       "      <td>0.150000</td>\n",
       "      <td>0.0</td>\n",
       "      <td>0.0</td>\n",
       "      <td>Mar</td>\n",
       "      <td>3</td>\n",
       "      <td>2</td>\n",
       "      <td>1</td>\n",
       "      <td>1</td>\n",
       "      <td>Returning_Visitor</td>\n",
       "      <td>No</td>\n",
       "    </tr>\n",
       "  </tbody>\n",
       "</table>\n",
       "</div>"
      ],
      "text/plain": [
       "    Administrative  Administrative_Duration  Informational  \\\n",
       "id                                                           \n",
       "1                0                      0.0              0   \n",
       "2                0                      0.0              0   \n",
       "3                0                      0.0              1   \n",
       "4                0                      0.0              0   \n",
       "5                0                      0.0              0   \n",
       "\n",
       "    Informational_Duration  ProductRelated  ProductRelated_Duration  \\\n",
       "id                                                                    \n",
       "1                      0.0               5                81.083333   \n",
       "2                      0.0               3               189.000000   \n",
       "3                    132.0               8               445.000000   \n",
       "4                      0.0               3                 0.000000   \n",
       "5                      0.0               4                14.000000   \n",
       "\n",
       "    BounceRates  ExitRates  PageValues  SpecialDay Month  OperatingSystems  \\\n",
       "id                                                                           \n",
       "1          0.04   0.050000         0.0         0.0   Dec                 3   \n",
       "2          0.00   0.066667         0.0         0.0   Mar                 3   \n",
       "3          0.00   0.014286         0.0         0.0   Mar                 3   \n",
       "4          0.20   0.200000         0.0         0.0   Mar                 1   \n",
       "5          0.10   0.150000         0.0         0.0   Mar                 3   \n",
       "\n",
       "    Browser  Region  TrafficType        VisitorType Weekend  \n",
       "id                                                           \n",
       "1         2       1            2        New_Visitor      No  \n",
       "2         2       8            1  Returning_Visitor      No  \n",
       "3         2       4           14  Returning_Visitor     Yes  \n",
       "4         8       2            1  Returning_Visitor      No  \n",
       "5         2       1            1  Returning_Visitor      No  "
      ]
     },
     "execution_count": 66,
     "metadata": {},
     "output_type": "execute_result"
    },
    {
     "data": {
      "application/javascript": [
       "\n",
       "            setTimeout(function() {\n",
       "                var nbb_cell_id = 66;\n",
       "                var nbb_unformatted_code = \"X_train.head()\";\n",
       "                var nbb_formatted_code = \"X_train.head()\";\n",
       "                var nbb_cells = Jupyter.notebook.get_cells();\n",
       "                for (var i = 0; i < nbb_cells.length; ++i) {\n",
       "                    if (nbb_cells[i].input_prompt_number == nbb_cell_id) {\n",
       "                        if (nbb_cells[i].get_text() == nbb_unformatted_code) {\n",
       "                             nbb_cells[i].set_text(nbb_formatted_code);\n",
       "                        }\n",
       "                        break;\n",
       "                    }\n",
       "                }\n",
       "            }, 500);\n",
       "            "
      ],
      "text/plain": [
       "<IPython.core.display.Javascript object>"
      ]
     },
     "metadata": {},
     "output_type": "display_data"
    }
   ],
   "source": [
    "X_train.head()"
   ]
  },
  {
   "cell_type": "markdown",
   "id": "dutch-cambridge",
   "metadata": {},
   "source": [
    "## Model Interpretation"
   ]
  },
  {
   "cell_type": "markdown",
   "id": "federal-acquisition",
   "metadata": {},
   "source": [
    "## Permutation Importance"
   ]
  },
  {
   "cell_type": "code",
   "execution_count": 67,
   "id": "operational-southwest",
   "metadata": {},
   "outputs": [
    {
     "data": {
      "application/javascript": [
       "\n",
       "            setTimeout(function() {\n",
       "                var nbb_cell_id = 67;\n",
       "                var nbb_unformatted_code = \"from sklearn.model_selection import train_test_split\\n\\nX_train_tr, X_valid_tr, y_train, y_valid = train_test_split(\\n    X_train_tr, y_train, test_size=0.25, random_state=42, stratify=y_train\\n)\";\n",
       "                var nbb_formatted_code = \"from sklearn.model_selection import train_test_split\\n\\nX_train_tr, X_valid_tr, y_train, y_valid = train_test_split(\\n    X_train_tr, y_train, test_size=0.25, random_state=42, stratify=y_train\\n)\";\n",
       "                var nbb_cells = Jupyter.notebook.get_cells();\n",
       "                for (var i = 0; i < nbb_cells.length; ++i) {\n",
       "                    if (nbb_cells[i].input_prompt_number == nbb_cell_id) {\n",
       "                        if (nbb_cells[i].get_text() == nbb_unformatted_code) {\n",
       "                             nbb_cells[i].set_text(nbb_formatted_code);\n",
       "                        }\n",
       "                        break;\n",
       "                    }\n",
       "                }\n",
       "            }, 500);\n",
       "            "
      ],
      "text/plain": [
       "<IPython.core.display.Javascript object>"
      ]
     },
     "metadata": {},
     "output_type": "display_data"
    }
   ],
   "source": [
    "from sklearn.model_selection import train_test_split\n",
    "\n",
    "X_train_tr, X_valid_tr, y_train, y_valid = train_test_split(\n",
    "    X_train_tr, y_train, test_size=0.25, random_state=42, stratify=y_train\n",
    ")"
   ]
  },
  {
   "cell_type": "code",
   "execution_count": 68,
   "id": "modular-involvement",
   "metadata": {},
   "outputs": [
    {
     "data": {
      "text/plain": [
       "RandomForestClassifier(max_depth=12, min_samples_leaf=3, min_samples_split=3,\n",
       "                       n_estimators=443, random_state=42)"
      ]
     },
     "execution_count": 68,
     "metadata": {},
     "output_type": "execute_result"
    },
    {
     "data": {
      "application/javascript": [
       "\n",
       "            setTimeout(function() {\n",
       "                var nbb_cell_id = 68;\n",
       "                var nbb_unformatted_code = \"# random forest model\\nfrom sklearn.ensemble import RandomForestClassifier\\n\\nrf_clf = RandomForestClassifier(\\n    max_depth=12,\\n    min_samples_leaf=3,\\n    min_samples_split=3,\\n    n_estimators=443,\\n    random_state=42,\\n)\\n\\nrf_clf.fit(X_train_tr, y_train)\";\n",
       "                var nbb_formatted_code = \"# random forest model\\nfrom sklearn.ensemble import RandomForestClassifier\\n\\nrf_clf = RandomForestClassifier(\\n    max_depth=12,\\n    min_samples_leaf=3,\\n    min_samples_split=3,\\n    n_estimators=443,\\n    random_state=42,\\n)\\n\\nrf_clf.fit(X_train_tr, y_train)\";\n",
       "                var nbb_cells = Jupyter.notebook.get_cells();\n",
       "                for (var i = 0; i < nbb_cells.length; ++i) {\n",
       "                    if (nbb_cells[i].input_prompt_number == nbb_cell_id) {\n",
       "                        if (nbb_cells[i].get_text() == nbb_unformatted_code) {\n",
       "                             nbb_cells[i].set_text(nbb_formatted_code);\n",
       "                        }\n",
       "                        break;\n",
       "                    }\n",
       "                }\n",
       "            }, 500);\n",
       "            "
      ],
      "text/plain": [
       "<IPython.core.display.Javascript object>"
      ]
     },
     "metadata": {},
     "output_type": "display_data"
    }
   ],
   "source": [
    "# random forest model\n",
    "from sklearn.ensemble import RandomForestClassifier\n",
    "\n",
    "rf_clf = RandomForestClassifier(\n",
    "    max_depth=12,\n",
    "    min_samples_leaf=3,\n",
    "    min_samples_split=3,\n",
    "    n_estimators=443,\n",
    "    random_state=42,\n",
    ")\n",
    "\n",
    "rf_clf.fit(X_train_tr, y_train)"
   ]
  },
  {
   "cell_type": "code",
   "execution_count": 69,
   "id": "lesbian-third",
   "metadata": {},
   "outputs": [
    {
     "data": {
      "text/html": [
       "\n",
       "    <style>\n",
       "    table.eli5-weights tr:hover {\n",
       "        filter: brightness(85%);\n",
       "    }\n",
       "</style>\n",
       "\n",
       "\n",
       "\n",
       "    \n",
       "\n",
       "    \n",
       "\n",
       "    \n",
       "\n",
       "    \n",
       "\n",
       "    \n",
       "\n",
       "    \n",
       "\n",
       "\n",
       "    \n",
       "\n",
       "    \n",
       "\n",
       "    \n",
       "\n",
       "    \n",
       "\n",
       "    \n",
       "\n",
       "    \n",
       "\n",
       "\n",
       "    \n",
       "\n",
       "    \n",
       "\n",
       "    \n",
       "\n",
       "    \n",
       "\n",
       "    \n",
       "        <table class=\"eli5-weights eli5-feature-importances\" style=\"border-collapse: collapse; border: none; margin-top: 0em; table-layout: auto;\">\n",
       "    <thead>\n",
       "    <tr style=\"border: none;\">\n",
       "        <th style=\"padding: 0 1em 0 0.5em; text-align: right; border: none;\">Weight</th>\n",
       "        <th style=\"padding: 0 0.5em 0 0.5em; text-align: left; border: none;\">Feature</th>\n",
       "    </tr>\n",
       "    </thead>\n",
       "    <tbody>\n",
       "    \n",
       "        <tr style=\"background-color: hsl(120, 100.00%, 80.00%); border: none;\">\n",
       "            <td style=\"padding: 0 1em 0 0.5em; text-align: right; border: none;\">\n",
       "                0.1171\n",
       "                \n",
       "                    &plusmn; 0.0067\n",
       "                \n",
       "            </td>\n",
       "            <td style=\"padding: 0 0.5em 0 0.5em; text-align: left; border: none;\">\n",
       "                PageValues\n",
       "            </td>\n",
       "        </tr>\n",
       "    \n",
       "        <tr style=\"background-color: hsl(120, 100.00%, 97.69%); border: none;\">\n",
       "            <td style=\"padding: 0 1em 0 0.5em; text-align: right; border: none;\">\n",
       "                0.0054\n",
       "                \n",
       "                    &plusmn; 0.0033\n",
       "                \n",
       "            </td>\n",
       "            <td style=\"padding: 0 0.5em 0 0.5em; text-align: left; border: none;\">\n",
       "                ExitRates\n",
       "            </td>\n",
       "        </tr>\n",
       "    \n",
       "        <tr style=\"background-color: hsl(120, 100.00%, 97.97%); border: none;\">\n",
       "            <td style=\"padding: 0 1em 0 0.5em; text-align: right; border: none;\">\n",
       "                0.0044\n",
       "                \n",
       "                    &plusmn; 0.0055\n",
       "                \n",
       "            </td>\n",
       "            <td style=\"padding: 0 0.5em 0 0.5em; text-align: left; border: none;\">\n",
       "                Month__Nov\n",
       "            </td>\n",
       "        </tr>\n",
       "    \n",
       "        <tr style=\"background-color: hsl(120, 100.00%, 98.41%); border: none;\">\n",
       "            <td style=\"padding: 0 1em 0 0.5em; text-align: right; border: none;\">\n",
       "                0.0032\n",
       "                \n",
       "                    &plusmn; 0.0026\n",
       "                \n",
       "            </td>\n",
       "            <td style=\"padding: 0 0.5em 0 0.5em; text-align: left; border: none;\">\n",
       "                ProductRelated_Duration\n",
       "            </td>\n",
       "        </tr>\n",
       "    \n",
       "        <tr style=\"background-color: hsl(120, 100.00%, 98.51%); border: none;\">\n",
       "            <td style=\"padding: 0 1em 0 0.5em; text-align: right; border: none;\">\n",
       "                0.0029\n",
       "                \n",
       "                    &plusmn; 0.0022\n",
       "                \n",
       "            </td>\n",
       "            <td style=\"padding: 0 0.5em 0 0.5em; text-align: left; border: none;\">\n",
       "                BounceRates\n",
       "            </td>\n",
       "        </tr>\n",
       "    \n",
       "        <tr style=\"background-color: hsl(120, 100.00%, 99.06%); border: none;\">\n",
       "            <td style=\"padding: 0 1em 0 0.5em; text-align: right; border: none;\">\n",
       "                0.0015\n",
       "                \n",
       "                    &plusmn; 0.0052\n",
       "                \n",
       "            </td>\n",
       "            <td style=\"padding: 0 0.5em 0 0.5em; text-align: left; border: none;\">\n",
       "                ProductRelated\n",
       "            </td>\n",
       "        </tr>\n",
       "    \n",
       "        <tr style=\"background-color: hsl(120, 100.00%, 99.14%); border: none;\">\n",
       "            <td style=\"padding: 0 1em 0 0.5em; text-align: right; border: none;\">\n",
       "                0.0013\n",
       "                \n",
       "                    &plusmn; 0.0021\n",
       "                \n",
       "            </td>\n",
       "            <td style=\"padding: 0 0.5em 0 0.5em; text-align: left; border: none;\">\n",
       "                Month__Dec\n",
       "            </td>\n",
       "        </tr>\n",
       "    \n",
       "        <tr style=\"background-color: hsl(120, 100.00%, 99.19%); border: none;\">\n",
       "            <td style=\"padding: 0 1em 0 0.5em; text-align: right; border: none;\">\n",
       "                0.0012\n",
       "                \n",
       "                    &plusmn; 0.0025\n",
       "                \n",
       "            </td>\n",
       "            <td style=\"padding: 0 0.5em 0 0.5em; text-align: left; border: none;\">\n",
       "                Month__May\n",
       "            </td>\n",
       "        </tr>\n",
       "    \n",
       "        <tr style=\"background-color: hsl(120, 100.00%, 99.28%); border: none;\">\n",
       "            <td style=\"padding: 0 1em 0 0.5em; text-align: right; border: none;\">\n",
       "                0.0010\n",
       "                \n",
       "                    &plusmn; 0.0018\n",
       "                \n",
       "            </td>\n",
       "            <td style=\"padding: 0 0.5em 0 0.5em; text-align: left; border: none;\">\n",
       "                VisitorType__New_Visitor\n",
       "            </td>\n",
       "        </tr>\n",
       "    \n",
       "        <tr style=\"background-color: hsl(120, 100.00%, 99.58%); border: none;\">\n",
       "            <td style=\"padding: 0 1em 0 0.5em; text-align: right; border: none;\">\n",
       "                0.0005\n",
       "                \n",
       "                    &plusmn; 0.0006\n",
       "                \n",
       "            </td>\n",
       "            <td style=\"padding: 0 0.5em 0 0.5em; text-align: left; border: none;\">\n",
       "                Month__Sep\n",
       "            </td>\n",
       "        </tr>\n",
       "    \n",
       "        <tr style=\"background-color: hsl(120, 100.00%, 99.71%); border: none;\">\n",
       "            <td style=\"padding: 0 1em 0 0.5em; text-align: right; border: none;\">\n",
       "                0.0003\n",
       "                \n",
       "                    &plusmn; 0.0017\n",
       "                \n",
       "            </td>\n",
       "            <td style=\"padding: 0 0.5em 0 0.5em; text-align: left; border: none;\">\n",
       "                TrafficType\n",
       "            </td>\n",
       "        </tr>\n",
       "    \n",
       "        <tr style=\"background-color: hsl(120, 100.00%, 99.87%); border: none;\">\n",
       "            <td style=\"padding: 0 1em 0 0.5em; text-align: right; border: none;\">\n",
       "                0.0001\n",
       "                \n",
       "                    &plusmn; 0.0004\n",
       "                \n",
       "            </td>\n",
       "            <td style=\"padding: 0 0.5em 0 0.5em; text-align: left; border: none;\">\n",
       "                Month__Jul\n",
       "            </td>\n",
       "        </tr>\n",
       "    \n",
       "        <tr style=\"background-color: hsl(120, 100.00%, 100.00%); border: none;\">\n",
       "            <td style=\"padding: 0 1em 0 0.5em; text-align: right; border: none;\">\n",
       "                0.0000\n",
       "                \n",
       "                    &plusmn; 0.0008\n",
       "                \n",
       "            </td>\n",
       "            <td style=\"padding: 0 0.5em 0 0.5em; text-align: left; border: none;\">\n",
       "                VisitorType__Returning_Visitor\n",
       "            </td>\n",
       "        </tr>\n",
       "    \n",
       "        <tr style=\"background-color: hsl(0, 100.00%, 100.00%); border: none;\">\n",
       "            <td style=\"padding: 0 1em 0 0.5em; text-align: right; border: none;\">\n",
       "                0\n",
       "                \n",
       "                    &plusmn; 0.0000\n",
       "                \n",
       "            </td>\n",
       "            <td style=\"padding: 0 0.5em 0 0.5em; text-align: left; border: none;\">\n",
       "                Month__Feb\n",
       "            </td>\n",
       "        </tr>\n",
       "    \n",
       "        <tr style=\"background-color: hsl(0, 100.00%, 100.00%); border: none;\">\n",
       "            <td style=\"padding: 0 1em 0 0.5em; text-align: right; border: none;\">\n",
       "                0\n",
       "                \n",
       "                    &plusmn; 0.0000\n",
       "                \n",
       "            </td>\n",
       "            <td style=\"padding: 0 0.5em 0 0.5em; text-align: left; border: none;\">\n",
       "                Month__Aug\n",
       "            </td>\n",
       "        </tr>\n",
       "    \n",
       "        <tr style=\"background-color: hsl(0, 100.00%, 100.00%); border: none;\">\n",
       "            <td style=\"padding: 0 1em 0 0.5em; text-align: right; border: none;\">\n",
       "                0\n",
       "                \n",
       "                    &plusmn; 0.0000\n",
       "                \n",
       "            </td>\n",
       "            <td style=\"padding: 0 0.5em 0 0.5em; text-align: left; border: none;\">\n",
       "                VisitorType__Other\n",
       "            </td>\n",
       "        </tr>\n",
       "    \n",
       "        <tr style=\"background-color: hsl(0, 100.00%, 100.00%); border: none;\">\n",
       "            <td style=\"padding: 0 1em 0 0.5em; text-align: right; border: none;\">\n",
       "                0\n",
       "                \n",
       "                    &plusmn; 0.0000\n",
       "                \n",
       "            </td>\n",
       "            <td style=\"padding: 0 0.5em 0 0.5em; text-align: left; border: none;\">\n",
       "                Month__June\n",
       "            </td>\n",
       "        </tr>\n",
       "    \n",
       "        <tr style=\"background-color: hsl(0, 100.00%, 99.87%); border: none;\">\n",
       "            <td style=\"padding: 0 1em 0 0.5em; text-align: right; border: none;\">\n",
       "                -0.0001\n",
       "                \n",
       "                    &plusmn; 0.0011\n",
       "                \n",
       "            </td>\n",
       "            <td style=\"padding: 0 0.5em 0 0.5em; text-align: left; border: none;\">\n",
       "                Region\n",
       "            </td>\n",
       "        </tr>\n",
       "    \n",
       "        <tr style=\"background-color: hsl(0, 100.00%, 99.87%); border: none;\">\n",
       "            <td style=\"padding: 0 1em 0 0.5em; text-align: right; border: none;\">\n",
       "                -0.0001\n",
       "                \n",
       "                    &plusmn; 0.0007\n",
       "                \n",
       "            </td>\n",
       "            <td style=\"padding: 0 0.5em 0 0.5em; text-align: left; border: none;\">\n",
       "                Weekend__No\n",
       "            </td>\n",
       "        </tr>\n",
       "    \n",
       "        <tr style=\"background-color: hsl(0, 100.00%, 99.87%); border: none;\">\n",
       "            <td style=\"padding: 0 1em 0 0.5em; text-align: right; border: none;\">\n",
       "                -0.0001\n",
       "                \n",
       "                    &plusmn; 0.0004\n",
       "                \n",
       "            </td>\n",
       "            <td style=\"padding: 0 0.5em 0 0.5em; text-align: left; border: none;\">\n",
       "                Month__Oct\n",
       "            </td>\n",
       "        </tr>\n",
       "    \n",
       "    \n",
       "        \n",
       "            <tr style=\"background-color: hsl(0, 100.00%, 99.87%); border: none;\">\n",
       "                <td colspan=\"2\" style=\"padding: 0 0.5em 0 0.5em; text-align: center; border: none; white-space: nowrap;\">\n",
       "                    <i>&hellip; 9 more &hellip;</i>\n",
       "                </td>\n",
       "            </tr>\n",
       "        \n",
       "    \n",
       "    </tbody>\n",
       "</table>\n",
       "    \n",
       "\n",
       "    \n",
       "\n",
       "\n",
       "    \n",
       "\n",
       "    \n",
       "\n",
       "    \n",
       "\n",
       "    \n",
       "\n",
       "    \n",
       "\n",
       "    \n",
       "\n",
       "\n",
       "\n"
      ],
      "text/plain": [
       "<IPython.core.display.HTML object>"
      ]
     },
     "execution_count": 69,
     "metadata": {},
     "output_type": "execute_result"
    },
    {
     "data": {
      "application/javascript": [
       "\n",
       "            setTimeout(function() {\n",
       "                var nbb_cell_id = 69;\n",
       "                var nbb_unformatted_code = \"import eli5\\nfrom eli5.sklearn import PermutationImportance\\n\\nperm = PermutationImportance(rf_clf, random_state=42)\\nperm.fit(X_valid_tr, y_valid)\\neli5.show_weights(perm, feature_names=all_features)\";\n",
       "                var nbb_formatted_code = \"import eli5\\nfrom eli5.sklearn import PermutationImportance\\n\\nperm = PermutationImportance(rf_clf, random_state=42)\\nperm.fit(X_valid_tr, y_valid)\\neli5.show_weights(perm, feature_names=all_features)\";\n",
       "                var nbb_cells = Jupyter.notebook.get_cells();\n",
       "                for (var i = 0; i < nbb_cells.length; ++i) {\n",
       "                    if (nbb_cells[i].input_prompt_number == nbb_cell_id) {\n",
       "                        if (nbb_cells[i].get_text() == nbb_unformatted_code) {\n",
       "                             nbb_cells[i].set_text(nbb_formatted_code);\n",
       "                        }\n",
       "                        break;\n",
       "                    }\n",
       "                }\n",
       "            }, 500);\n",
       "            "
      ],
      "text/plain": [
       "<IPython.core.display.Javascript object>"
      ]
     },
     "metadata": {},
     "output_type": "display_data"
    }
   ],
   "source": [
    "import eli5\n",
    "from eli5.sklearn import PermutationImportance\n",
    "\n",
    "perm = PermutationImportance(rf_clf, random_state=42)\n",
    "perm.fit(X_valid_tr, y_valid)\n",
    "eli5.show_weights(perm, feature_names=all_features)"
   ]
  },
  {
   "cell_type": "markdown",
   "id": "desirable-nightmare",
   "metadata": {},
   "source": [
    "The `top 6` most important feature of the model is `Page values`, `Exit Rates`, `Month_Nov`, `Product related duration`, `Bounce Rates`, `Product related`. Apart from the month of `Nov` some other important months are `Dec` and `May`, also `new visitor` is more important than the `returning visitor`. These results are consistent with our initial eda analysis.  "
   ]
  },
  {
   "cell_type": "markdown",
   "id": "veterinary-strip",
   "metadata": {},
   "source": [
    "## Decision Tree visualization"
   ]
  },
  {
   "cell_type": "code",
   "execution_count": 70,
   "id": "based-falls",
   "metadata": {},
   "outputs": [
    {
     "data": {
      "image/svg+xml": [
       "<?xml version=\"1.0\" encoding=\"UTF-8\" standalone=\"no\"?>\n",
       "<!DOCTYPE svg PUBLIC \"-//W3C//DTD SVG 1.1//EN\"\n",
       " \"http://www.w3.org/Graphics/SVG/1.1/DTD/svg11.dtd\">\n",
       "<!-- Generated by graphviz version 2.40.1 (20161225.0304)\n",
       " -->\n",
       "<!-- Title: Tree Pages: 1 -->\n",
       "<svg width=\"587pt\" height=\"314pt\"\n",
       " viewBox=\"0.00 0.00 587.00 314.00\" xmlns=\"http://www.w3.org/2000/svg\" xmlns:xlink=\"http://www.w3.org/1999/xlink\">\n",
       "<g id=\"graph0\" class=\"graph\" transform=\"scale(1 1) rotate(0) translate(4 310)\">\n",
       "<title>Tree</title>\n",
       "<polygon fill=\"#ffffff\" stroke=\"transparent\" points=\"-4,4 -4,-310 583,-310 583,4 -4,4\"/>\n",
       "<!-- 0 -->\n",
       "<g id=\"node1\" class=\"node\">\n",
       "<title>0</title>\n",
       "<path fill=\"#ea985d\" stroke=\"#000000\" d=\"M354.5,-306C354.5,-306 227.5,-306 227.5,-306 221.5,-306 215.5,-300 215.5,-294 215.5,-294 215.5,-235 215.5,-235 215.5,-229 221.5,-223 227.5,-223 227.5,-223 354.5,-223 354.5,-223 360.5,-223 366.5,-229 366.5,-235 366.5,-235 366.5,-294 366.5,-294 366.5,-300 360.5,-306 354.5,-306\"/>\n",
       "<text text-anchor=\"middle\" x=\"291\" y=\"-290.8\" font-family=\"Helvetica,sans-Serif\" font-size=\"14.00\" fill=\"#000000\">PageValues &lt;= 0.992</text>\n",
       "<text text-anchor=\"middle\" x=\"291\" y=\"-275.8\" font-family=\"Helvetica,sans-Serif\" font-size=\"14.00\" fill=\"#000000\">gini = 0.261</text>\n",
       "<text text-anchor=\"middle\" x=\"291\" y=\"-260.8\" font-family=\"Helvetica,sans-Serif\" font-size=\"14.00\" fill=\"#000000\">samples = 6473</text>\n",
       "<text text-anchor=\"middle\" x=\"291\" y=\"-245.8\" font-family=\"Helvetica,sans-Serif\" font-size=\"14.00\" fill=\"#000000\">value = [5473, 1000]</text>\n",
       "<text text-anchor=\"middle\" x=\"291\" y=\"-230.8\" font-family=\"Helvetica,sans-Serif\" font-size=\"14.00\" fill=\"#000000\">class = 0</text>\n",
       "</g>\n",
       "<!-- 1 -->\n",
       "<g id=\"node2\" class=\"node\">\n",
       "<title>1</title>\n",
       "<path fill=\"#e68641\" stroke=\"#000000\" d=\"M268.5,-187C268.5,-187 153.5,-187 153.5,-187 147.5,-187 141.5,-181 141.5,-175 141.5,-175 141.5,-116 141.5,-116 141.5,-110 147.5,-104 153.5,-104 153.5,-104 268.5,-104 268.5,-104 274.5,-104 280.5,-110 280.5,-116 280.5,-116 280.5,-175 280.5,-175 280.5,-181 274.5,-187 268.5,-187\"/>\n",
       "<text text-anchor=\"middle\" x=\"211\" y=\"-171.8\" font-family=\"Helvetica,sans-Serif\" font-size=\"14.00\" fill=\"#000000\">Month__Nov &lt;= 0.5</text>\n",
       "<text text-anchor=\"middle\" x=\"211\" y=\"-156.8\" font-family=\"Helvetica,sans-Serif\" font-size=\"14.00\" fill=\"#000000\">gini = 0.077</text>\n",
       "<text text-anchor=\"middle\" x=\"211\" y=\"-141.8\" font-family=\"Helvetica,sans-Serif\" font-size=\"14.00\" fill=\"#000000\">samples = 5097</text>\n",
       "<text text-anchor=\"middle\" x=\"211\" y=\"-126.8\" font-family=\"Helvetica,sans-Serif\" font-size=\"14.00\" fill=\"#000000\">value = [4892, 205]</text>\n",
       "<text text-anchor=\"middle\" x=\"211\" y=\"-111.8\" font-family=\"Helvetica,sans-Serif\" font-size=\"14.00\" fill=\"#000000\">class = 0</text>\n",
       "</g>\n",
       "<!-- 0&#45;&gt;1 -->\n",
       "<g id=\"edge1\" class=\"edge\">\n",
       "<title>0&#45;&gt;1</title>\n",
       "<path fill=\"none\" stroke=\"#000000\" d=\"M263.0199,-222.8796C257.1469,-214.1434 250.8927,-204.8404 244.8321,-195.8253\"/>\n",
       "<polygon fill=\"#000000\" stroke=\"#000000\" points=\"247.5834,-193.6444 239.0995,-187.2981 241.7741,-197.5498 247.5834,-193.6444\"/>\n",
       "<text text-anchor=\"middle\" x=\"234.2915\" y=\"-208.1314\" font-family=\"Helvetica,sans-Serif\" font-size=\"14.00\" fill=\"#000000\">True</text>\n",
       "</g>\n",
       "<!-- 4 -->\n",
       "<g id=\"node5\" class=\"node\">\n",
       "<title>4</title>\n",
       "<path fill=\"#cae5f8\" stroke=\"#000000\" d=\"M431,-187C431,-187 311,-187 311,-187 305,-187 299,-181 299,-175 299,-175 299,-116 299,-116 299,-110 305,-104 311,-104 311,-104 431,-104 431,-104 437,-104 443,-110 443,-116 443,-116 443,-175 443,-175 443,-181 437,-187 431,-187\"/>\n",
       "<text text-anchor=\"middle\" x=\"371\" y=\"-171.8\" font-family=\"Helvetica,sans-Serif\" font-size=\"14.00\" fill=\"#000000\">BounceRates &lt;= 0.0</text>\n",
       "<text text-anchor=\"middle\" x=\"371\" y=\"-156.8\" font-family=\"Helvetica,sans-Serif\" font-size=\"14.00\" fill=\"#000000\">gini = 0.488</text>\n",
       "<text text-anchor=\"middle\" x=\"371\" y=\"-141.8\" font-family=\"Helvetica,sans-Serif\" font-size=\"14.00\" fill=\"#000000\">samples = 1376</text>\n",
       "<text text-anchor=\"middle\" x=\"371\" y=\"-126.8\" font-family=\"Helvetica,sans-Serif\" font-size=\"14.00\" fill=\"#000000\">value = [581, 795]</text>\n",
       "<text text-anchor=\"middle\" x=\"371\" y=\"-111.8\" font-family=\"Helvetica,sans-Serif\" font-size=\"14.00\" fill=\"#000000\">class = 1</text>\n",
       "</g>\n",
       "<!-- 0&#45;&gt;4 -->\n",
       "<g id=\"edge4\" class=\"edge\">\n",
       "<title>0&#45;&gt;4</title>\n",
       "<path fill=\"none\" stroke=\"#000000\" d=\"M318.9801,-222.8796C324.8531,-214.1434 331.1073,-204.8404 337.1679,-195.8253\"/>\n",
       "<polygon fill=\"#000000\" stroke=\"#000000\" points=\"340.2259,-197.5498 342.9005,-187.2981 334.4166,-193.6444 340.2259,-197.5498\"/>\n",
       "<text text-anchor=\"middle\" x=\"347.7085\" y=\"-208.1314\" font-family=\"Helvetica,sans-Serif\" font-size=\"14.00\" fill=\"#000000\">False</text>\n",
       "</g>\n",
       "<!-- 2 -->\n",
       "<g id=\"node3\" class=\"node\">\n",
       "<title>2</title>\n",
       "<path fill=\"#e5833d\" stroke=\"#000000\" d=\"M116,-68C116,-68 12,-68 12,-68 6,-68 0,-62 0,-56 0,-56 0,-12 0,-12 0,-6 6,0 12,0 12,0 116,0 116,0 122,0 128,-6 128,-12 128,-12 128,-56 128,-56 128,-62 122,-68 116,-68\"/>\n",
       "<text text-anchor=\"middle\" x=\"64\" y=\"-52.8\" font-family=\"Helvetica,sans-Serif\" font-size=\"14.00\" fill=\"#000000\">gini = 0.036</text>\n",
       "<text text-anchor=\"middle\" x=\"64\" y=\"-37.8\" font-family=\"Helvetica,sans-Serif\" font-size=\"14.00\" fill=\"#000000\">samples = 3903</text>\n",
       "<text text-anchor=\"middle\" x=\"64\" y=\"-22.8\" font-family=\"Helvetica,sans-Serif\" font-size=\"14.00\" fill=\"#000000\">value = [3831, 72]</text>\n",
       "<text text-anchor=\"middle\" x=\"64\" y=\"-7.8\" font-family=\"Helvetica,sans-Serif\" font-size=\"14.00\" fill=\"#000000\">class = 0</text>\n",
       "</g>\n",
       "<!-- 1&#45;&gt;2 -->\n",
       "<g id=\"edge2\" class=\"edge\">\n",
       "<title>1&#45;&gt;2</title>\n",
       "<path fill=\"none\" stroke=\"#000000\" d=\"M156.2626,-103.9815C143.5399,-94.3313 130.0134,-84.0714 117.3515,-74.4673\"/>\n",
       "<polygon fill=\"#000000\" stroke=\"#000000\" points=\"119.2553,-71.5184 109.1727,-68.2637 115.025,-77.0956 119.2553,-71.5184\"/>\n",
       "</g>\n",
       "<!-- 3 -->\n",
       "<g id=\"node4\" class=\"node\">\n",
       "<title>3</title>\n",
       "<path fill=\"#e89152\" stroke=\"#000000\" d=\"M270,-68C270,-68 158,-68 158,-68 152,-68 146,-62 146,-56 146,-56 146,-12 146,-12 146,-6 152,0 158,0 158,0 270,0 270,0 276,0 282,-6 282,-12 282,-12 282,-56 282,-56 282,-62 276,-68 270,-68\"/>\n",
       "<text text-anchor=\"middle\" x=\"214\" y=\"-52.8\" font-family=\"Helvetica,sans-Serif\" font-size=\"14.00\" fill=\"#000000\">gini = 0.198</text>\n",
       "<text text-anchor=\"middle\" x=\"214\" y=\"-37.8\" font-family=\"Helvetica,sans-Serif\" font-size=\"14.00\" fill=\"#000000\">samples = 1194</text>\n",
       "<text text-anchor=\"middle\" x=\"214\" y=\"-22.8\" font-family=\"Helvetica,sans-Serif\" font-size=\"14.00\" fill=\"#000000\">value = [1061, 133]</text>\n",
       "<text text-anchor=\"middle\" x=\"214\" y=\"-7.8\" font-family=\"Helvetica,sans-Serif\" font-size=\"14.00\" fill=\"#000000\">class = 0</text>\n",
       "</g>\n",
       "<!-- 1&#45;&gt;3 -->\n",
       "<g id=\"edge3\" class=\"edge\">\n",
       "<title>1&#45;&gt;3</title>\n",
       "<path fill=\"none\" stroke=\"#000000\" d=\"M212.1171,-103.9815C212.3421,-95.618 212.5795,-86.7965 212.807,-78.3409\"/>\n",
       "<polygon fill=\"#000000\" stroke=\"#000000\" points=\"216.3078,-78.3542 213.0781,-68.2637 209.3103,-78.1659 216.3078,-78.3542\"/>\n",
       "</g>\n",
       "<!-- 5 -->\n",
       "<g id=\"node6\" class=\"node\">\n",
       "<title>5</title>\n",
       "<path fill=\"#7cbeee\" stroke=\"#000000\" d=\"M421,-68C421,-68 317,-68 317,-68 311,-68 305,-62 305,-56 305,-56 305,-12 305,-12 305,-6 311,0 317,0 317,0 421,0 421,0 427,0 433,-6 433,-12 433,-12 433,-56 433,-56 433,-62 427,-68 421,-68\"/>\n",
       "<text text-anchor=\"middle\" x=\"369\" y=\"-52.8\" font-family=\"Helvetica,sans-Serif\" font-size=\"14.00\" fill=\"#000000\">gini = 0.378</text>\n",
       "<text text-anchor=\"middle\" x=\"369\" y=\"-37.8\" font-family=\"Helvetica,sans-Serif\" font-size=\"14.00\" fill=\"#000000\">samples = 640</text>\n",
       "<text text-anchor=\"middle\" x=\"369\" y=\"-22.8\" font-family=\"Helvetica,sans-Serif\" font-size=\"14.00\" fill=\"#000000\">value = [162, 478]</text>\n",
       "<text text-anchor=\"middle\" x=\"369\" y=\"-7.8\" font-family=\"Helvetica,sans-Serif\" font-size=\"14.00\" fill=\"#000000\">class = 1</text>\n",
       "</g>\n",
       "<!-- 4&#45;&gt;5 -->\n",
       "<g id=\"edge5\" class=\"edge\">\n",
       "<title>4&#45;&gt;5</title>\n",
       "<path fill=\"none\" stroke=\"#000000\" d=\"M370.2553,-103.9815C370.1053,-95.618 369.947,-86.7965 369.7954,-78.3409\"/>\n",
       "<polygon fill=\"#000000\" stroke=\"#000000\" points=\"373.2935,-78.1993 369.6146,-68.2637 366.2946,-78.3249 373.2935,-78.1993\"/>\n",
       "</g>\n",
       "<!-- 6 -->\n",
       "<g id=\"node7\" class=\"node\">\n",
       "<title>6</title>\n",
       "<path fill=\"#f9e0cf\" stroke=\"#000000\" d=\"M567,-68C567,-68 463,-68 463,-68 457,-68 451,-62 451,-56 451,-56 451,-12 451,-12 451,-6 457,0 463,0 463,0 567,0 567,0 573,0 579,-6 579,-12 579,-12 579,-56 579,-56 579,-62 573,-68 567,-68\"/>\n",
       "<text text-anchor=\"middle\" x=\"515\" y=\"-52.8\" font-family=\"Helvetica,sans-Serif\" font-size=\"14.00\" fill=\"#000000\">gini = 0.49</text>\n",
       "<text text-anchor=\"middle\" x=\"515\" y=\"-37.8\" font-family=\"Helvetica,sans-Serif\" font-size=\"14.00\" fill=\"#000000\">samples = 736</text>\n",
       "<text text-anchor=\"middle\" x=\"515\" y=\"-22.8\" font-family=\"Helvetica,sans-Serif\" font-size=\"14.00\" fill=\"#000000\">value = [419, 317]</text>\n",
       "<text text-anchor=\"middle\" x=\"515\" y=\"-7.8\" font-family=\"Helvetica,sans-Serif\" font-size=\"14.00\" fill=\"#000000\">class = 0</text>\n",
       "</g>\n",
       "<!-- 4&#45;&gt;6 -->\n",
       "<g id=\"edge6\" class=\"edge\">\n",
       "<title>4&#45;&gt;6</title>\n",
       "<path fill=\"none\" stroke=\"#000000\" d=\"M424.6203,-103.9815C437.0833,-94.3313 450.3338,-84.0714 462.7373,-74.4673\"/>\n",
       "<polygon fill=\"#000000\" stroke=\"#000000\" points=\"464.9851,-77.1534 470.7492,-68.2637 460.6995,-71.6186 464.9851,-77.1534\"/>\n",
       "</g>\n",
       "</g>\n",
       "</svg>\n"
      ],
      "text/plain": [
       "<graphviz.files.Source at 0x145feffd0>"
      ]
     },
     "execution_count": 70,
     "metadata": {},
     "output_type": "execute_result"
    },
    {
     "data": {
      "application/javascript": [
       "\n",
       "            setTimeout(function() {\n",
       "                var nbb_cell_id = 70;\n",
       "                var nbb_unformatted_code = \"from sklearn import tree\\nfrom sklearn.tree import DecisionTreeClassifier\\nfrom graphviz import Source\\n\\ntree_clf = DecisionTreeClassifier(random_state=42, max_depth=2)\\ntree_clf.fit(X_train_tr, y_train)\\n\\ntree_graph = tree.export_graphviz(\\n    tree_clf,\\n    out_file=os.path.join(image_path, \\\"decision_tree_new.png\\\"),\\n    feature_names=all_features,\\n    filled=True,\\n    rounded=True,\\n    class_names=[\\\"0\\\", \\\"1\\\"],\\n)\\nSource.from_file(os.path.join(image_path, \\\"decision_tree_new.png\\\"))\";\n",
       "                var nbb_formatted_code = \"from sklearn import tree\\nfrom sklearn.tree import DecisionTreeClassifier\\nfrom graphviz import Source\\n\\ntree_clf = DecisionTreeClassifier(random_state=42, max_depth=2)\\ntree_clf.fit(X_train_tr, y_train)\\n\\ntree_graph = tree.export_graphviz(\\n    tree_clf,\\n    out_file=os.path.join(image_path, \\\"decision_tree_new.png\\\"),\\n    feature_names=all_features,\\n    filled=True,\\n    rounded=True,\\n    class_names=[\\\"0\\\", \\\"1\\\"],\\n)\\nSource.from_file(os.path.join(image_path, \\\"decision_tree_new.png\\\"))\";\n",
       "                var nbb_cells = Jupyter.notebook.get_cells();\n",
       "                for (var i = 0; i < nbb_cells.length; ++i) {\n",
       "                    if (nbb_cells[i].input_prompt_number == nbb_cell_id) {\n",
       "                        if (nbb_cells[i].get_text() == nbb_unformatted_code) {\n",
       "                             nbb_cells[i].set_text(nbb_formatted_code);\n",
       "                        }\n",
       "                        break;\n",
       "                    }\n",
       "                }\n",
       "            }, 500);\n",
       "            "
      ],
      "text/plain": [
       "<IPython.core.display.Javascript object>"
      ]
     },
     "metadata": {},
     "output_type": "display_data"
    }
   ],
   "source": [
    "from sklearn import tree\n",
    "from sklearn.tree import DecisionTreeClassifier\n",
    "from graphviz import Source\n",
    "\n",
    "tree_clf = DecisionTreeClassifier(random_state=42, max_depth=2)\n",
    "tree_clf.fit(X_train_tr, y_train)\n",
    "\n",
    "tree_graph = tree.export_graphviz(\n",
    "    tree_clf,\n",
    "    out_file=os.path.join(image_path, \"decision_tree_new.png\"),\n",
    "    feature_names=all_features,\n",
    "    filled=True,\n",
    "    rounded=True,\n",
    "    class_names=[\"0\", \"1\"],\n",
    ")\n",
    "Source.from_file(os.path.join(image_path, \"decision_tree_new.png\"))"
   ]
  },
  {
   "cell_type": "markdown",
   "id": "directed-dependence",
   "metadata": {},
   "source": [
    "Here, first the decision tree in the root node(depth 0 at top) asks, whether the `Page value <= $1 ?`, if it is then the decision tree asks another question at depth 1 at left, whether the `month is Nov or Not` in `either case` all the instances are classified as `class 0`. Overall if the `page value <= $1` then the decision tree predict that the customer will `not buy` from the online website. If the `page value > $1` then the decision tree again ask another question in the right node at depth 1, whether the `Bounce Rate <= 0` if it is then the decision tree predicts that the customers belongs to `class 1` means that the customer `will buy` from the website and `if not` then the customer will `not buy` from the website. \n",
    "\n",
    "Overall, the decision tree predict that a customer belongs to `class 1` that they will buy if they satisfy both the conditions that they have a `page value > $1` and the `bounce rate <= 0`. "
   ]
  },
  {
   "cell_type": "markdown",
   "id": "responsible-portfolio",
   "metadata": {},
   "source": [
    "## SHAP Values"
   ]
  },
  {
   "cell_type": "code",
   "execution_count": 71,
   "id": "eleven-scout",
   "metadata": {},
   "outputs": [
    {
     "data": {
      "application/javascript": [
       "\n",
       "            setTimeout(function() {\n",
       "                var nbb_cell_id = 71;\n",
       "                var nbb_unformatted_code = \"X_valid_tr = X_valid_tr.reset_index().drop(\\\"index\\\", axis=1)\\ny_valid = y_valid.reset_index().drop(\\\"id\\\", axis=1)\";\n",
       "                var nbb_formatted_code = \"X_valid_tr = X_valid_tr.reset_index().drop(\\\"index\\\", axis=1)\\ny_valid = y_valid.reset_index().drop(\\\"id\\\", axis=1)\";\n",
       "                var nbb_cells = Jupyter.notebook.get_cells();\n",
       "                for (var i = 0; i < nbb_cells.length; ++i) {\n",
       "                    if (nbb_cells[i].input_prompt_number == nbb_cell_id) {\n",
       "                        if (nbb_cells[i].get_text() == nbb_unformatted_code) {\n",
       "                             nbb_cells[i].set_text(nbb_formatted_code);\n",
       "                        }\n",
       "                        break;\n",
       "                    }\n",
       "                }\n",
       "            }, 500);\n",
       "            "
      ],
      "text/plain": [
       "<IPython.core.display.Javascript object>"
      ]
     },
     "metadata": {},
     "output_type": "display_data"
    }
   ],
   "source": [
    "X_valid_tr = X_valid_tr.reset_index().drop(\"index\", axis=1)\n",
    "y_valid = y_valid.reset_index().drop(\"id\", axis=1)"
   ]
  },
  {
   "cell_type": "code",
   "execution_count": 72,
   "id": "improved-queensland",
   "metadata": {},
   "outputs": [
    {
     "data": {
      "text/html": [
       "<div>\n",
       "<style scoped>\n",
       "    .dataframe tbody tr th:only-of-type {\n",
       "        vertical-align: middle;\n",
       "    }\n",
       "\n",
       "    .dataframe tbody tr th {\n",
       "        vertical-align: top;\n",
       "    }\n",
       "\n",
       "    .dataframe thead th {\n",
       "        text-align: right;\n",
       "    }\n",
       "</style>\n",
       "<table border=\"1\" class=\"dataframe\">\n",
       "  <thead>\n",
       "    <tr style=\"text-align: right;\">\n",
       "      <th></th>\n",
       "      <th>Administrative</th>\n",
       "      <th>Administrative_Duration</th>\n",
       "      <th>Informational</th>\n",
       "      <th>Informational_Duration</th>\n",
       "      <th>ProductRelated</th>\n",
       "      <th>ProductRelated_Duration</th>\n",
       "      <th>BounceRates</th>\n",
       "      <th>ExitRates</th>\n",
       "      <th>PageValues</th>\n",
       "      <th>SpecialDay</th>\n",
       "      <th>OperatingSystems</th>\n",
       "      <th>Browser</th>\n",
       "      <th>Region</th>\n",
       "      <th>TrafficType</th>\n",
       "      <th>Month__Aug</th>\n",
       "      <th>Month__Dec</th>\n",
       "      <th>Month__Feb</th>\n",
       "      <th>Month__Jul</th>\n",
       "      <th>Month__June</th>\n",
       "      <th>Month__Mar</th>\n",
       "      <th>Month__May</th>\n",
       "      <th>Month__Nov</th>\n",
       "      <th>Month__Oct</th>\n",
       "      <th>Month__Sep</th>\n",
       "      <th>VisitorType__New_Visitor</th>\n",
       "      <th>VisitorType__Other</th>\n",
       "      <th>VisitorType__Returning_Visitor</th>\n",
       "      <th>Weekend__No</th>\n",
       "      <th>Weekend__Yes</th>\n",
       "    </tr>\n",
       "  </thead>\n",
       "  <tbody>\n",
       "    <tr>\n",
       "      <th>999</th>\n",
       "      <td>0.0</td>\n",
       "      <td>0.0</td>\n",
       "      <td>0.0</td>\n",
       "      <td>0.0</td>\n",
       "      <td>39.0</td>\n",
       "      <td>1183.5</td>\n",
       "      <td>0.012821</td>\n",
       "      <td>0.033333</td>\n",
       "      <td>0.0</td>\n",
       "      <td>0.0</td>\n",
       "      <td>2.0</td>\n",
       "      <td>2.0</td>\n",
       "      <td>7.0</td>\n",
       "      <td>1.0</td>\n",
       "      <td>0.0</td>\n",
       "      <td>0.0</td>\n",
       "      <td>0.0</td>\n",
       "      <td>0.0</td>\n",
       "      <td>0.0</td>\n",
       "      <td>0.0</td>\n",
       "      <td>1.0</td>\n",
       "      <td>0.0</td>\n",
       "      <td>0.0</td>\n",
       "      <td>0.0</td>\n",
       "      <td>0.0</td>\n",
       "      <td>0.0</td>\n",
       "      <td>1.0</td>\n",
       "      <td>1.0</td>\n",
       "      <td>0.0</td>\n",
       "    </tr>\n",
       "  </tbody>\n",
       "</table>\n",
       "</div>"
      ],
      "text/plain": [
       "     Administrative  Administrative_Duration  Informational  \\\n",
       "999             0.0                      0.0            0.0   \n",
       "\n",
       "     Informational_Duration  ProductRelated  ProductRelated_Duration  \\\n",
       "999                     0.0            39.0                   1183.5   \n",
       "\n",
       "     BounceRates  ExitRates  PageValues  SpecialDay  OperatingSystems  \\\n",
       "999     0.012821   0.033333         0.0         0.0               2.0   \n",
       "\n",
       "     Browser  Region  TrafficType  Month__Aug  Month__Dec  Month__Feb  \\\n",
       "999      2.0     7.0          1.0         0.0         0.0         0.0   \n",
       "\n",
       "     Month__Jul  Month__June  Month__Mar  Month__May  Month__Nov  Month__Oct  \\\n",
       "999         0.0          0.0         0.0         1.0         0.0         0.0   \n",
       "\n",
       "     Month__Sep  VisitorType__New_Visitor  VisitorType__Other  \\\n",
       "999         0.0                       0.0                 0.0   \n",
       "\n",
       "     VisitorType__Returning_Visitor  Weekend__No  Weekend__Yes  \n",
       "999                             1.0          1.0           0.0  "
      ]
     },
     "execution_count": 72,
     "metadata": {},
     "output_type": "execute_result"
    },
    {
     "data": {
      "application/javascript": [
       "\n",
       "            setTimeout(function() {\n",
       "                var nbb_cell_id = 72;\n",
       "                var nbb_unformatted_code = \"pd.DataFrame(X_valid_tr.iloc[999]).T\";\n",
       "                var nbb_formatted_code = \"pd.DataFrame(X_valid_tr.iloc[999]).T\";\n",
       "                var nbb_cells = Jupyter.notebook.get_cells();\n",
       "                for (var i = 0; i < nbb_cells.length; ++i) {\n",
       "                    if (nbb_cells[i].input_prompt_number == nbb_cell_id) {\n",
       "                        if (nbb_cells[i].get_text() == nbb_unformatted_code) {\n",
       "                             nbb_cells[i].set_text(nbb_formatted_code);\n",
       "                        }\n",
       "                        break;\n",
       "                    }\n",
       "                }\n",
       "            }, 500);\n",
       "            "
      ],
      "text/plain": [
       "<IPython.core.display.Javascript object>"
      ]
     },
     "metadata": {},
     "output_type": "display_data"
    }
   ],
   "source": [
    "pd.DataFrame(X_valid_tr.iloc[999]).T"
   ]
  },
  {
   "cell_type": "code",
   "execution_count": 73,
   "id": "speaking-germany",
   "metadata": {},
   "outputs": [
    {
     "data": {
      "text/plain": [
       "target    0\n",
       "Name: 999, dtype: int64"
      ]
     },
     "execution_count": 73,
     "metadata": {},
     "output_type": "execute_result"
    },
    {
     "data": {
      "application/javascript": [
       "\n",
       "            setTimeout(function() {\n",
       "                var nbb_cell_id = 73;\n",
       "                var nbb_unformatted_code = \"y_valid.iloc[999]\";\n",
       "                var nbb_formatted_code = \"y_valid.iloc[999]\";\n",
       "                var nbb_cells = Jupyter.notebook.get_cells();\n",
       "                for (var i = 0; i < nbb_cells.length; ++i) {\n",
       "                    if (nbb_cells[i].input_prompt_number == nbb_cell_id) {\n",
       "                        if (nbb_cells[i].get_text() == nbb_unformatted_code) {\n",
       "                             nbb_cells[i].set_text(nbb_formatted_code);\n",
       "                        }\n",
       "                        break;\n",
       "                    }\n",
       "                }\n",
       "            }, 500);\n",
       "            "
      ],
      "text/plain": [
       "<IPython.core.display.Javascript object>"
      ]
     },
     "metadata": {},
     "output_type": "display_data"
    }
   ],
   "source": [
    "y_valid.iloc[999]"
   ]
  },
  {
   "cell_type": "code",
   "execution_count": 74,
   "id": "hybrid-recycling",
   "metadata": {},
   "outputs": [
    {
     "data": {
      "text/plain": [
       "array([[0.9938284, 0.0061716]])"
      ]
     },
     "execution_count": 74,
     "metadata": {},
     "output_type": "execute_result"
    },
    {
     "data": {
      "application/javascript": [
       "\n",
       "            setTimeout(function() {\n",
       "                var nbb_cell_id = 74;\n",
       "                var nbb_unformatted_code = \"rf_clf.predict_proba([X_valid_tr.iloc[999]])\";\n",
       "                var nbb_formatted_code = \"rf_clf.predict_proba([X_valid_tr.iloc[999]])\";\n",
       "                var nbb_cells = Jupyter.notebook.get_cells();\n",
       "                for (var i = 0; i < nbb_cells.length; ++i) {\n",
       "                    if (nbb_cells[i].input_prompt_number == nbb_cell_id) {\n",
       "                        if (nbb_cells[i].get_text() == nbb_unformatted_code) {\n",
       "                             nbb_cells[i].set_text(nbb_formatted_code);\n",
       "                        }\n",
       "                        break;\n",
       "                    }\n",
       "                }\n",
       "            }, 500);\n",
       "            "
      ],
      "text/plain": [
       "<IPython.core.display.Javascript object>"
      ]
     },
     "metadata": {},
     "output_type": "display_data"
    }
   ],
   "source": [
    "rf_clf.predict_proba([X_valid_tr.iloc[999]])"
   ]
  },
  {
   "cell_type": "code",
   "execution_count": 75,
   "id": "traditional-webmaster",
   "metadata": {},
   "outputs": [
    {
     "data": {
      "application/javascript": [
       "\n",
       "            setTimeout(function() {\n",
       "                var nbb_cell_id = 75;\n",
       "                var nbb_unformatted_code = \"import shap\";\n",
       "                var nbb_formatted_code = \"import shap\";\n",
       "                var nbb_cells = Jupyter.notebook.get_cells();\n",
       "                for (var i = 0; i < nbb_cells.length; ++i) {\n",
       "                    if (nbb_cells[i].input_prompt_number == nbb_cell_id) {\n",
       "                        if (nbb_cells[i].get_text() == nbb_unformatted_code) {\n",
       "                             nbb_cells[i].set_text(nbb_formatted_code);\n",
       "                        }\n",
       "                        break;\n",
       "                    }\n",
       "                }\n",
       "            }, 500);\n",
       "            "
      ],
      "text/plain": [
       "<IPython.core.display.Javascript object>"
      ]
     },
     "metadata": {},
     "output_type": "display_data"
    }
   ],
   "source": [
    "import shap"
   ]
  },
  {
   "cell_type": "code",
   "execution_count": 76,
   "id": "increased-merit",
   "metadata": {},
   "outputs": [
    {
     "data": {
      "application/javascript": [
       "\n",
       "            setTimeout(function() {\n",
       "                var nbb_cell_id = 76;\n",
       "                var nbb_unformatted_code = \"# create a tree explainer object\\nexplainer = shap.TreeExplainer(rf_clf)\\n# calculate shap values\\nshap_values = explainer.shap_values(X_valid_tr)\";\n",
       "                var nbb_formatted_code = \"# create a tree explainer object\\nexplainer = shap.TreeExplainer(rf_clf)\\n# calculate shap values\\nshap_values = explainer.shap_values(X_valid_tr)\";\n",
       "                var nbb_cells = Jupyter.notebook.get_cells();\n",
       "                for (var i = 0; i < nbb_cells.length; ++i) {\n",
       "                    if (nbb_cells[i].input_prompt_number == nbb_cell_id) {\n",
       "                        if (nbb_cells[i].get_text() == nbb_unformatted_code) {\n",
       "                             nbb_cells[i].set_text(nbb_formatted_code);\n",
       "                        }\n",
       "                        break;\n",
       "                    }\n",
       "                }\n",
       "            }, 500);\n",
       "            "
      ],
      "text/plain": [
       "<IPython.core.display.Javascript object>"
      ]
     },
     "metadata": {},
     "output_type": "display_data"
    }
   ],
   "source": [
    "# create a tree explainer object\n",
    "explainer = shap.TreeExplainer(rf_clf)\n",
    "# calculate shap values\n",
    "shap_values = explainer.shap_values(X_valid_tr)"
   ]
  },
  {
   "cell_type": "code",
   "execution_count": 77,
   "id": "central-elizabeth",
   "metadata": {},
   "outputs": [
    {
     "data": {
      "text/plain": [
       "2"
      ]
     },
     "execution_count": 77,
     "metadata": {},
     "output_type": "execute_result"
    },
    {
     "data": {
      "application/javascript": [
       "\n",
       "            setTimeout(function() {\n",
       "                var nbb_cell_id = 77;\n",
       "                var nbb_unformatted_code = \"len(shap_values)\";\n",
       "                var nbb_formatted_code = \"len(shap_values)\";\n",
       "                var nbb_cells = Jupyter.notebook.get_cells();\n",
       "                for (var i = 0; i < nbb_cells.length; ++i) {\n",
       "                    if (nbb_cells[i].input_prompt_number == nbb_cell_id) {\n",
       "                        if (nbb_cells[i].get_text() == nbb_unformatted_code) {\n",
       "                             nbb_cells[i].set_text(nbb_formatted_code);\n",
       "                        }\n",
       "                        break;\n",
       "                    }\n",
       "                }\n",
       "            }, 500);\n",
       "            "
      ],
      "text/plain": [
       "<IPython.core.display.Javascript object>"
      ]
     },
     "metadata": {},
     "output_type": "display_data"
    }
   ],
   "source": [
    "len(shap_values)"
   ]
  },
  {
   "cell_type": "code",
   "execution_count": 78,
   "id": "meaningful-feelings",
   "metadata": {},
   "outputs": [
    {
     "data": {
      "text/plain": [
       "2158"
      ]
     },
     "execution_count": 78,
     "metadata": {},
     "output_type": "execute_result"
    },
    {
     "data": {
      "application/javascript": [
       "\n",
       "            setTimeout(function() {\n",
       "                var nbb_cell_id = 78;\n",
       "                var nbb_unformatted_code = \"# length of all negative outcomes\\nlen(shap_values[0])\";\n",
       "                var nbb_formatted_code = \"# length of all negative outcomes\\nlen(shap_values[0])\";\n",
       "                var nbb_cells = Jupyter.notebook.get_cells();\n",
       "                for (var i = 0; i < nbb_cells.length; ++i) {\n",
       "                    if (nbb_cells[i].input_prompt_number == nbb_cell_id) {\n",
       "                        if (nbb_cells[i].get_text() == nbb_unformatted_code) {\n",
       "                             nbb_cells[i].set_text(nbb_formatted_code);\n",
       "                        }\n",
       "                        break;\n",
       "                    }\n",
       "                }\n",
       "            }, 500);\n",
       "            "
      ],
      "text/plain": [
       "<IPython.core.display.Javascript object>"
      ]
     },
     "metadata": {},
     "output_type": "display_data"
    }
   ],
   "source": [
    "# length of all negative outcomes\n",
    "len(shap_values[0])"
   ]
  },
  {
   "cell_type": "code",
   "execution_count": 79,
   "id": "generous-rebel",
   "metadata": {},
   "outputs": [
    {
     "data": {
      "text/plain": [
       "2158"
      ]
     },
     "execution_count": 79,
     "metadata": {},
     "output_type": "execute_result"
    },
    {
     "data": {
      "application/javascript": [
       "\n",
       "            setTimeout(function() {\n",
       "                var nbb_cell_id = 79;\n",
       "                var nbb_unformatted_code = \"# length of all positive outcomes\\nlen(shap_values[1])\";\n",
       "                var nbb_formatted_code = \"# length of all positive outcomes\\nlen(shap_values[1])\";\n",
       "                var nbb_cells = Jupyter.notebook.get_cells();\n",
       "                for (var i = 0; i < nbb_cells.length; ++i) {\n",
       "                    if (nbb_cells[i].input_prompt_number == nbb_cell_id) {\n",
       "                        if (nbb_cells[i].get_text() == nbb_unformatted_code) {\n",
       "                             nbb_cells[i].set_text(nbb_formatted_code);\n",
       "                        }\n",
       "                        break;\n",
       "                    }\n",
       "                }\n",
       "            }, 500);\n",
       "            "
      ],
      "text/plain": [
       "<IPython.core.display.Javascript object>"
      ]
     },
     "metadata": {},
     "output_type": "display_data"
    }
   ],
   "source": [
    "# length of all positive outcomes\n",
    "len(shap_values[1])"
   ]
  },
  {
   "cell_type": "code",
   "execution_count": 80,
   "id": "hazardous-acquisition",
   "metadata": {},
   "outputs": [
    {
     "data": {
      "text/plain": [
       "29"
      ]
     },
     "execution_count": 80,
     "metadata": {},
     "output_type": "execute_result"
    },
    {
     "data": {
      "application/javascript": [
       "\n",
       "            setTimeout(function() {\n",
       "                var nbb_cell_id = 80;\n",
       "                var nbb_unformatted_code = \"# len of first negative outcomes\\nlen(shap_values[0][0])\";\n",
       "                var nbb_formatted_code = \"# len of first negative outcomes\\nlen(shap_values[0][0])\";\n",
       "                var nbb_cells = Jupyter.notebook.get_cells();\n",
       "                for (var i = 0; i < nbb_cells.length; ++i) {\n",
       "                    if (nbb_cells[i].input_prompt_number == nbb_cell_id) {\n",
       "                        if (nbb_cells[i].get_text() == nbb_unformatted_code) {\n",
       "                             nbb_cells[i].set_text(nbb_formatted_code);\n",
       "                        }\n",
       "                        break;\n",
       "                    }\n",
       "                }\n",
       "            }, 500);\n",
       "            "
      ],
      "text/plain": [
       "<IPython.core.display.Javascript object>"
      ]
     },
     "metadata": {},
     "output_type": "display_data"
    }
   ],
   "source": [
    "# len of first negative outcomes\n",
    "len(shap_values[0][0])"
   ]
  },
  {
   "cell_type": "code",
   "execution_count": 81,
   "id": "special-springer",
   "metadata": {},
   "outputs": [
    {
     "data": {
      "text/plain": [
       "array([-8.54729693e-03, -1.65905658e-02,  7.49639660e-04,  9.14486326e-04,\n",
       "        1.68856287e-02,  2.58950972e-03, -5.34263981e-02, -2.10329315e-02,\n",
       "        1.63657203e-01,  1.14204458e-03, -1.72481934e-03, -2.66240971e-03,\n",
       "        3.24431054e-04, -6.77508745e-05, -3.20611722e-04,  2.78957811e-03,\n",
       "        2.25364501e-05, -7.88991621e-04, -1.95197810e-05,  6.15757891e-04,\n",
       "        7.51028497e-03, -2.77566833e-02, -2.85723841e-04,  6.05334222e-03,\n",
       "       -2.49471398e-03, -7.12227271e-06, -3.75145746e-03, -3.26930834e-04,\n",
       "       -7.41395842e-04])"
      ]
     },
     "execution_count": 81,
     "metadata": {},
     "output_type": "execute_result"
    },
    {
     "data": {
      "application/javascript": [
       "\n",
       "            setTimeout(function() {\n",
       "                var nbb_cell_id = 81;\n",
       "                var nbb_unformatted_code = \"# shap values for first positive outcomes\\nshap_values[1][0]\";\n",
       "                var nbb_formatted_code = \"# shap values for first positive outcomes\\nshap_values[1][0]\";\n",
       "                var nbb_cells = Jupyter.notebook.get_cells();\n",
       "                for (var i = 0; i < nbb_cells.length; ++i) {\n",
       "                    if (nbb_cells[i].input_prompt_number == nbb_cell_id) {\n",
       "                        if (nbb_cells[i].get_text() == nbb_unformatted_code) {\n",
       "                             nbb_cells[i].set_text(nbb_formatted_code);\n",
       "                        }\n",
       "                        break;\n",
       "                    }\n",
       "                }\n",
       "            }, 500);\n",
       "            "
      ],
      "text/plain": [
       "<IPython.core.display.Javascript object>"
      ]
     },
     "metadata": {},
     "output_type": "display_data"
    }
   ],
   "source": [
    "# shap values for first positive outcomes\n",
    "shap_values[1][0]"
   ]
  },
  {
   "cell_type": "markdown",
   "id": "enormous-delight",
   "metadata": {},
   "source": [
    "## Local Interpretation"
   ]
  },
  {
   "cell_type": "markdown",
   "id": "suffering-parent",
   "metadata": {},
   "source": [
    "### Why the model thinks that this customer will not buy, P(buy=0.006) ? "
   ]
  },
  {
   "cell_type": "code",
   "execution_count": 82,
   "id": "czech-courtesy",
   "metadata": {},
   "outputs": [
    {
     "data": {
      "image/png": "[encoded data removed]",
      "text/plain": [
       "<Figure size 576x468 with 3 Axes>"
      ]
     },
     "metadata": {},
     "output_type": "display_data"
    },
    {
     "data": {
      "application/javascript": [
       "\n",
       "            setTimeout(function() {\n",
       "                var nbb_cell_id = 82;\n",
       "                var nbb_unformatted_code = \"shap.plots._waterfall.waterfall_legacy(\\n    expected_value=explainer.expected_value[1],\\n    shap_values=shap_values[1][999],\\n    features=X_valid_tr.iloc[999],\\n    feature_names=all_features,\\n)\";\n",
       "                var nbb_formatted_code = \"shap.plots._waterfall.waterfall_legacy(\\n    expected_value=explainer.expected_value[1],\\n    shap_values=shap_values[1][999],\\n    features=X_valid_tr.iloc[999],\\n    feature_names=all_features,\\n)\";\n",
       "                var nbb_cells = Jupyter.notebook.get_cells();\n",
       "                for (var i = 0; i < nbb_cells.length; ++i) {\n",
       "                    if (nbb_cells[i].input_prompt_number == nbb_cell_id) {\n",
       "                        if (nbb_cells[i].get_text() == nbb_unformatted_code) {\n",
       "                             nbb_cells[i].set_text(nbb_formatted_code);\n",
       "                        }\n",
       "                        break;\n",
       "                    }\n",
       "                }\n",
       "            }, 500);\n",
       "            "
      ],
      "text/plain": [
       "<IPython.core.display.Javascript object>"
      ]
     },
     "metadata": {},
     "output_type": "display_data"
    }
   ],
   "source": [
    "shap.plots._waterfall.waterfall_legacy(\n",
    "    expected_value=explainer.expected_value[1],\n",
    "    shap_values=shap_values[1][999],\n",
    "    features=X_valid_tr.iloc[999],\n",
    "    feature_names=all_features,\n",
    ")"
   ]
  },
  {
   "cell_type": "markdown",
   "id": "automotive-merchant",
   "metadata": {},
   "source": [
    "On average, the probability that a customer will buy from the online shop is `15.5%`, and the probability that this particular customer will buy is `0.6%`. The reason for this is that the `Page value for this customer is $0`, which `reduce the probabilty of buying by 9%`. The `month is not Nov`, `Exit Rate of 3.3%` and `bounce rate of 1.3%` and `Month is May`, further decrease the probability of buying by `1% each` from the expected probability value."
   ]
  },
  {
   "cell_type": "markdown",
   "id": "accepted-thanksgiving",
   "metadata": {},
   "source": [
    "### Why the model thinks that this customer will buy, P(buy=0.868) ?"
   ]
  },
  {
   "cell_type": "code",
   "execution_count": 83,
   "id": "macro-reserve",
   "metadata": {},
   "outputs": [
    {
     "data": {
      "application/javascript": [
       "\n",
       "            setTimeout(function() {\n",
       "                var nbb_cell_id = 83;\n",
       "                var nbb_unformatted_code = \"y_prob = rf_clf.predict_proba(X_valid_tr)\";\n",
       "                var nbb_formatted_code = \"y_prob = rf_clf.predict_proba(X_valid_tr)\";\n",
       "                var nbb_cells = Jupyter.notebook.get_cells();\n",
       "                for (var i = 0; i < nbb_cells.length; ++i) {\n",
       "                    if (nbb_cells[i].input_prompt_number == nbb_cell_id) {\n",
       "                        if (nbb_cells[i].get_text() == nbb_unformatted_code) {\n",
       "                             nbb_cells[i].set_text(nbb_formatted_code);\n",
       "                        }\n",
       "                        break;\n",
       "                    }\n",
       "                }\n",
       "            }, 500);\n",
       "            "
      ],
      "text/plain": [
       "<IPython.core.display.Javascript object>"
      ]
     },
     "metadata": {},
     "output_type": "display_data"
    }
   ],
   "source": [
    "y_prob = rf_clf.predict_proba(X_valid_tr)"
   ]
  },
  {
   "cell_type": "code",
   "execution_count": 84,
   "id": "apart-magnitude",
   "metadata": {},
   "outputs": [
    {
     "data": {
      "text/plain": [
       "(array([   3,   11,   24,   38,   45,   66,   71,   72,   80,   95,  117,\n",
       "         160,  166,  168,  171,  188,  191,  196,  198,  216,  218,  219,\n",
       "         234,  236,  238,  246,  247,  251,  259,  275,  279,  284,  299,\n",
       "         312,  336,  340,  356,  365,  367,  379,  393,  400,  404,  405,\n",
       "         428,  429,  446,  473,  475,  479,  500,  505,  506,  508,  525,\n",
       "         531,  535,  541,  546,  551,  573,  579,  583,  584,  599,  609,\n",
       "         635,  637,  646,  648,  649,  657,  670,  673,  687,  713,  714,\n",
       "         717,  718,  720,  733,  741,  742,  747,  749,  755,  807,  826,\n",
       "         827,  829,  849,  852,  864,  874,  878,  879,  893,  897,  900,\n",
       "         926,  931,  945,  947,  950,  956,  980,  994,  995, 1012, 1034,\n",
       "        1035, 1042, 1044, 1051, 1060, 1065, 1070, 1075, 1076, 1099, 1100,\n",
       "        1103, 1104, 1118, 1127, 1135, 1141, 1142, 1150, 1157, 1159, 1177,\n",
       "        1192, 1205, 1218, 1224, 1227, 1268, 1272, 1280, 1295, 1307, 1322,\n",
       "        1335, 1337, 1353, 1364, 1368, 1370, 1379, 1380, 1382, 1383, 1393,\n",
       "        1396, 1401, 1404, 1419, 1420, 1425, 1437, 1452, 1455, 1460, 1482,\n",
       "        1505, 1506, 1523, 1528, 1532, 1536, 1544, 1565, 1569, 1588, 1592,\n",
       "        1593, 1603, 1623, 1634, 1635, 1650, 1674, 1676, 1677, 1679, 1701,\n",
       "        1708, 1711, 1722, 1725, 1742, 1751, 1758, 1769, 1783, 1790, 1796,\n",
       "        1813, 1824, 1826, 1832, 1865, 1868, 1871, 1872, 1882, 1887, 1894,\n",
       "        1896, 1906, 1909, 1911, 1933, 1940, 1958, 1962, 1967, 1981, 1993,\n",
       "        2003, 2008, 2009, 2012, 2013, 2021, 2047, 2085, 2107, 2142, 2149,\n",
       "        2152, 2154]),)"
      ]
     },
     "execution_count": 84,
     "metadata": {},
     "output_type": "execute_result"
    },
    {
     "data": {
      "application/javascript": [
       "\n",
       "            setTimeout(function() {\n",
       "                var nbb_cell_id = 84;\n",
       "                var nbb_unformatted_code = \"np.where(y_prob[:, 1] > 0.5)\";\n",
       "                var nbb_formatted_code = \"np.where(y_prob[:, 1] > 0.5)\";\n",
       "                var nbb_cells = Jupyter.notebook.get_cells();\n",
       "                for (var i = 0; i < nbb_cells.length; ++i) {\n",
       "                    if (nbb_cells[i].input_prompt_number == nbb_cell_id) {\n",
       "                        if (nbb_cells[i].get_text() == nbb_unformatted_code) {\n",
       "                             nbb_cells[i].set_text(nbb_formatted_code);\n",
       "                        }\n",
       "                        break;\n",
       "                    }\n",
       "                }\n",
       "            }, 500);\n",
       "            "
      ],
      "text/plain": [
       "<IPython.core.display.Javascript object>"
      ]
     },
     "metadata": {},
     "output_type": "display_data"
    }
   ],
   "source": [
    "np.where(y_prob[:, 1] > 0.5)"
   ]
  },
  {
   "cell_type": "code",
   "execution_count": 85,
   "id": "suffering-compact",
   "metadata": {},
   "outputs": [
    {
     "data": {
      "text/plain": [
       "array([0.13249537, 0.86750463])"
      ]
     },
     "execution_count": 85,
     "metadata": {},
     "output_type": "execute_result"
    },
    {
     "data": {
      "application/javascript": [
       "\n",
       "            setTimeout(function() {\n",
       "                var nbb_cell_id = 85;\n",
       "                var nbb_unformatted_code = \"y_prob[24, :]\";\n",
       "                var nbb_formatted_code = \"y_prob[24, :]\";\n",
       "                var nbb_cells = Jupyter.notebook.get_cells();\n",
       "                for (var i = 0; i < nbb_cells.length; ++i) {\n",
       "                    if (nbb_cells[i].input_prompt_number == nbb_cell_id) {\n",
       "                        if (nbb_cells[i].get_text() == nbb_unformatted_code) {\n",
       "                             nbb_cells[i].set_text(nbb_formatted_code);\n",
       "                        }\n",
       "                        break;\n",
       "                    }\n",
       "                }\n",
       "            }, 500);\n",
       "            "
      ],
      "text/plain": [
       "<IPython.core.display.Javascript object>"
      ]
     },
     "metadata": {},
     "output_type": "display_data"
    }
   ],
   "source": [
    "y_prob[24, :]"
   ]
  },
  {
   "cell_type": "code",
   "execution_count": 86,
   "id": "coupled-wright",
   "metadata": {},
   "outputs": [
    {
     "data": {
      "image/png": "[encoded data removed]",
      "text/plain": [
       "<Figure size 576x468 with 3 Axes>"
      ]
     },
     "metadata": {},
     "output_type": "display_data"
    },
    {
     "data": {
      "application/javascript": [
       "\n",
       "            setTimeout(function() {\n",
       "                var nbb_cell_id = 86;\n",
       "                var nbb_unformatted_code = \"shap.plots._waterfall.waterfall_legacy(\\n    expected_value=explainer.expected_value[\\n        1\\n    ],  # expected value of buying or positive class\\n    shap_values=shap_values[1][24],  # shap value for customer whose index is 24\\n    features=X_valid_tr.iloc[24],  # feature values for customer whose index is 24\\n    feature_names=all_features,  # feature names\\n)\";\n",
       "                var nbb_formatted_code = \"shap.plots._waterfall.waterfall_legacy(\\n    expected_value=explainer.expected_value[\\n        1\\n    ],  # expected value of buying or positive class\\n    shap_values=shap_values[1][24],  # shap value for customer whose index is 24\\n    features=X_valid_tr.iloc[24],  # feature values for customer whose index is 24\\n    feature_names=all_features,  # feature names\\n)\";\n",
       "                var nbb_cells = Jupyter.notebook.get_cells();\n",
       "                for (var i = 0; i < nbb_cells.length; ++i) {\n",
       "                    if (nbb_cells[i].input_prompt_number == nbb_cell_id) {\n",
       "                        if (nbb_cells[i].get_text() == nbb_unformatted_code) {\n",
       "                             nbb_cells[i].set_text(nbb_formatted_code);\n",
       "                        }\n",
       "                        break;\n",
       "                    }\n",
       "                }\n",
       "            }, 500);\n",
       "            "
      ],
      "text/plain": [
       "<IPython.core.display.Javascript object>"
      ]
     },
     "metadata": {},
     "output_type": "display_data"
    }
   ],
   "source": [
    "shap.plots._waterfall.waterfall_legacy(\n",
    "    expected_value=explainer.expected_value[\n",
    "        1\n",
    "    ],  # expected value of buying or positive class\n",
    "    shap_values=shap_values[1][24],  # shap value for customer whose index is 24\n",
    "    features=X_valid_tr.iloc[24],  # feature values for customer whose index is 24\n",
    "    feature_names=all_features,  # feature names\n",
    ")"
   ]
  },
  {
   "cell_type": "markdown",
   "id": "other-fifth",
   "metadata": {},
   "source": [
    "This customer has a `page value of $288` which increases the probability of buying alone by `54%`, the `bounce rate of 0` also increases the probability by `4%`. The `ProductRelated(=12)`, `Exit Rate(=0.017)` both increases the probability by `3%` and `so on`. "
   ]
  },
  {
   "cell_type": "markdown",
   "id": "proved-bermuda",
   "metadata": {},
   "source": [
    "## Global Interpretation"
   ]
  },
  {
   "cell_type": "code",
   "execution_count": 87,
   "id": "affecting-terminal",
   "metadata": {},
   "outputs": [
    {
     "data": {
      "image/png": "[encoded data removed]",
      "text/plain": [
       "<Figure size 576x684 with 1 Axes>"
      ]
     },
     "metadata": {
      "needs_background": "light"
     },
     "output_type": "display_data"
    },
    {
     "data": {
      "application/javascript": [
       "\n",
       "            setTimeout(function() {\n",
       "                var nbb_cell_id = 87;\n",
       "                var nbb_unformatted_code = \"# feature importance\\nshap.summary_plot(\\n    shap_values[1],\\n    features=X_valid_tr,\\n    feature_names=all_features,\\n    plot_type=\\\"bar\\\",\\n    show=False,\\n)\\nplt.title(\\\"Feature Importance for class 1\\\")\\nplt.show()\";\n",
       "                var nbb_formatted_code = \"# feature importance\\nshap.summary_plot(\\n    shap_values[1],\\n    features=X_valid_tr,\\n    feature_names=all_features,\\n    plot_type=\\\"bar\\\",\\n    show=False,\\n)\\nplt.title(\\\"Feature Importance for class 1\\\")\\nplt.show()\";\n",
       "                var nbb_cells = Jupyter.notebook.get_cells();\n",
       "                for (var i = 0; i < nbb_cells.length; ++i) {\n",
       "                    if (nbb_cells[i].input_prompt_number == nbb_cell_id) {\n",
       "                        if (nbb_cells[i].get_text() == nbb_unformatted_code) {\n",
       "                             nbb_cells[i].set_text(nbb_formatted_code);\n",
       "                        }\n",
       "                        break;\n",
       "                    }\n",
       "                }\n",
       "            }, 500);\n",
       "            "
      ],
      "text/plain": [
       "<IPython.core.display.Javascript object>"
      ]
     },
     "metadata": {},
     "output_type": "display_data"
    }
   ],
   "source": [
    "# feature importance\n",
    "shap.summary_plot(\n",
    "    shap_values[1],\n",
    "    features=X_valid_tr,\n",
    "    feature_names=all_features,\n",
    "    plot_type=\"bar\",\n",
    "    show=False,\n",
    ")\n",
    "plt.title(\"Feature Importance for class 1\")\n",
    "plt.show()"
   ]
  },
  {
   "cell_type": "code",
   "execution_count": 88,
   "id": "narrow-intro",
   "metadata": {},
   "outputs": [
    {
     "data": {
      "image/png": "[encoded data removed]",
      "text/plain": [
       "<Figure size 576x684 with 2 Axes>"
      ]
     },
     "metadata": {
      "needs_background": "light"
     },
     "output_type": "display_data"
    },
    {
     "data": {
      "application/javascript": [
       "\n",
       "            setTimeout(function() {\n",
       "                var nbb_cell_id = 88;\n",
       "                var nbb_unformatted_code = \"shap.summary_plot(shap_values[1], features=X_valid_tr, feature_names=all_features)\";\n",
       "                var nbb_formatted_code = \"shap.summary_plot(shap_values[1], features=X_valid_tr, feature_names=all_features)\";\n",
       "                var nbb_cells = Jupyter.notebook.get_cells();\n",
       "                for (var i = 0; i < nbb_cells.length; ++i) {\n",
       "                    if (nbb_cells[i].input_prompt_number == nbb_cell_id) {\n",
       "                        if (nbb_cells[i].get_text() == nbb_unformatted_code) {\n",
       "                             nbb_cells[i].set_text(nbb_formatted_code);\n",
       "                        }\n",
       "                        break;\n",
       "                    }\n",
       "                }\n",
       "            }, 500);\n",
       "            "
      ],
      "text/plain": [
       "<IPython.core.display.Javascript object>"
      ]
     },
     "metadata": {},
     "output_type": "display_data"
    }
   ],
   "source": [
    "shap.summary_plot(shap_values[1], features=X_valid_tr, feature_names=all_features)"
   ]
  },
  {
   "cell_type": "code",
   "execution_count": 89,
   "id": "perfect-signature",
   "metadata": {},
   "outputs": [
    {
     "data": {
      "image/png": "[encoded data removed]",
      "text/plain": [
       "<Figure size 540x360 with 2 Axes>"
      ]
     },
     "metadata": {
      "needs_background": "light"
     },
     "output_type": "display_data"
    },
    {
     "data": {
      "application/javascript": [
       "\n",
       "            setTimeout(function() {\n",
       "                var nbb_cell_id = 89;\n",
       "                var nbb_unformatted_code = \"shap.dependence_plot(\\n    \\\"PageValues\\\",\\n    shap_values=shap_values[1],\\n    features=X_valid_tr,\\n    feature_names=all_features,\\n)\";\n",
       "                var nbb_formatted_code = \"shap.dependence_plot(\\n    \\\"PageValues\\\",\\n    shap_values=shap_values[1],\\n    features=X_valid_tr,\\n    feature_names=all_features,\\n)\";\n",
       "                var nbb_cells = Jupyter.notebook.get_cells();\n",
       "                for (var i = 0; i < nbb_cells.length; ++i) {\n",
       "                    if (nbb_cells[i].input_prompt_number == nbb_cell_id) {\n",
       "                        if (nbb_cells[i].get_text() == nbb_unformatted_code) {\n",
       "                             nbb_cells[i].set_text(nbb_formatted_code);\n",
       "                        }\n",
       "                        break;\n",
       "                    }\n",
       "                }\n",
       "            }, 500);\n",
       "            "
      ],
      "text/plain": [
       "<IPython.core.display.Javascript object>"
      ]
     },
     "metadata": {},
     "output_type": "display_data"
    }
   ],
   "source": [
    "shap.dependence_plot(\n",
    "    \"PageValues\",\n",
    "    shap_values=shap_values[1],\n",
    "    features=X_valid_tr,\n",
    "    feature_names=all_features,\n",
    ")"
   ]
  },
  {
   "cell_type": "markdown",
   "id": "forced-shock",
   "metadata": {},
   "source": [
    "As we can see that as the `Page Value` increases the shap values for page value also increase that is the probability that someone will buy also increases and after a certain point the plot becomes flat means the page value stop influencing the outcome. The negative shap values means it decreases the probability that a customer will buy from the website. And the feature that interact most with the page values is `Exit Rates`. A lower value of exit rates leads to higher probability that the customer will buy and vice-versa."
   ]
  },
  {
   "cell_type": "code",
   "execution_count": 90,
   "id": "later-nepal",
   "metadata": {},
   "outputs": [
    {
     "data": {
      "image/png": "[encoded data removed]",
      "text/plain": [
       "<Figure size 540x360 with 2 Axes>"
      ]
     },
     "metadata": {
      "needs_background": "light"
     },
     "output_type": "display_data"
    },
    {
     "data": {
      "application/javascript": [
       "\n",
       "            setTimeout(function() {\n",
       "                var nbb_cell_id = 90;\n",
       "                var nbb_unformatted_code = \"shap.dependence_plot(\\n    \\\"Month__Nov\\\",\\n    shap_values=shap_values[1],\\n    features=X_valid_tr,\\n    feature_names=all_features,\\n)\";\n",
       "                var nbb_formatted_code = \"shap.dependence_plot(\\n    \\\"Month__Nov\\\",\\n    shap_values=shap_values[1],\\n    features=X_valid_tr,\\n    feature_names=all_features,\\n)\";\n",
       "                var nbb_cells = Jupyter.notebook.get_cells();\n",
       "                for (var i = 0; i < nbb_cells.length; ++i) {\n",
       "                    if (nbb_cells[i].input_prompt_number == nbb_cell_id) {\n",
       "                        if (nbb_cells[i].get_text() == nbb_unformatted_code) {\n",
       "                             nbb_cells[i].set_text(nbb_formatted_code);\n",
       "                        }\n",
       "                        break;\n",
       "                    }\n",
       "                }\n",
       "            }, 500);\n",
       "            "
      ],
      "text/plain": [
       "<IPython.core.display.Javascript object>"
      ]
     },
     "metadata": {},
     "output_type": "display_data"
    }
   ],
   "source": [
    "shap.dependence_plot(\n",
    "    \"Month__Nov\",\n",
    "    shap_values=shap_values[1],\n",
    "    features=X_valid_tr,\n",
    "    feature_names=all_features,\n",
    ")"
   ]
  },
  {
   "cell_type": "markdown",
   "id": "passing-difficulty",
   "metadata": {},
   "source": [
    "When the `month is No`v the probability that someone will buy `is higher` than when it's `not Nov` as (Month_Nov=1) has higher shap values. The product related feature interacts most with the Month Nov. Higher value of product related results in higher positive outcome when the month is nov but it flips when the month is not nov. "
   ]
  },
  {
   "cell_type": "code",
   "execution_count": 91,
   "id": "occupied-basis",
   "metadata": {},
   "outputs": [
    {
     "data": {
      "image/png": "[encoded data removed]",
      "text/plain": [
       "<Figure size 540x360 with 2 Axes>"
      ]
     },
     "metadata": {
      "needs_background": "light"
     },
     "output_type": "display_data"
    },
    {
     "data": {
      "application/javascript": [
       "\n",
       "            setTimeout(function() {\n",
       "                var nbb_cell_id = 91;\n",
       "                var nbb_unformatted_code = \"shap.dependence_plot(\\n    \\\"ExitRates\\\",\\n    shap_values=shap_values[1],\\n    features=X_valid_tr,\\n    feature_names=all_features,\\n)\";\n",
       "                var nbb_formatted_code = \"shap.dependence_plot(\\n    \\\"ExitRates\\\",\\n    shap_values=shap_values[1],\\n    features=X_valid_tr,\\n    feature_names=all_features,\\n)\";\n",
       "                var nbb_cells = Jupyter.notebook.get_cells();\n",
       "                for (var i = 0; i < nbb_cells.length; ++i) {\n",
       "                    if (nbb_cells[i].input_prompt_number == nbb_cell_id) {\n",
       "                        if (nbb_cells[i].get_text() == nbb_unformatted_code) {\n",
       "                             nbb_cells[i].set_text(nbb_formatted_code);\n",
       "                        }\n",
       "                        break;\n",
       "                    }\n",
       "                }\n",
       "            }, 500);\n",
       "            "
      ],
      "text/plain": [
       "<IPython.core.display.Javascript object>"
      ]
     },
     "metadata": {},
     "output_type": "display_data"
    }
   ],
   "source": [
    "shap.dependence_plot(\n",
    "    \"ExitRates\",\n",
    "    shap_values=shap_values[1],\n",
    "    features=X_valid_tr,\n",
    "    feature_names=all_features,\n",
    ")"
   ]
  },
  {
   "cell_type": "markdown",
   "id": "prostate-absorption",
   "metadata": {},
   "source": [
    "There is a `negative relationship` between the `exit rate` and the probability that someone `will buy`. `Higher` the value of it the `lower` will be the probability that someone will buy from the website. We can also see that `page values` interacts most with the `exit rates`. A customer has higher page value when it has lower exit rates and when the exit rates is too high the page value becomes the lowest. "
   ]
  },
  {
   "cell_type": "code",
   "execution_count": 92,
   "id": "precise-lighter",
   "metadata": {},
   "outputs": [
    {
     "data": {
      "image/png": "[encoded data removed]",
      "text/plain": [
       "<Figure size 540x360 with 2 Axes>"
      ]
     },
     "metadata": {
      "needs_background": "light"
     },
     "output_type": "display_data"
    },
    {
     "data": {
      "application/javascript": [
       "\n",
       "            setTimeout(function() {\n",
       "                var nbb_cell_id = 92;\n",
       "                var nbb_unformatted_code = \"shap.dependence_plot(\\n    \\\"BounceRates\\\",\\n    shap_values=shap_values[1],\\n    features=X_valid_tr,\\n    feature_names=all_features,\\n)\";\n",
       "                var nbb_formatted_code = \"shap.dependence_plot(\\n    \\\"BounceRates\\\",\\n    shap_values=shap_values[1],\\n    features=X_valid_tr,\\n    feature_names=all_features,\\n)\";\n",
       "                var nbb_cells = Jupyter.notebook.get_cells();\n",
       "                for (var i = 0; i < nbb_cells.length; ++i) {\n",
       "                    if (nbb_cells[i].input_prompt_number == nbb_cell_id) {\n",
       "                        if (nbb_cells[i].get_text() == nbb_unformatted_code) {\n",
       "                             nbb_cells[i].set_text(nbb_formatted_code);\n",
       "                        }\n",
       "                        break;\n",
       "                    }\n",
       "                }\n",
       "            }, 500);\n",
       "            "
      ],
      "text/plain": [
       "<IPython.core.display.Javascript object>"
      ]
     },
     "metadata": {},
     "output_type": "display_data"
    }
   ],
   "source": [
    "shap.dependence_plot(\n",
    "    \"BounceRates\",\n",
    "    shap_values=shap_values[1],\n",
    "    features=X_valid_tr,\n",
    "    feature_names=all_features,\n",
    ")"
   ]
  },
  {
   "cell_type": "markdown",
   "id": "helpful-hormone",
   "metadata": {},
   "source": [
    "This feature is also have negative relationship with the positive class. If we look at the shap values for the negative class 0, the relationship wll reverse."
   ]
  },
  {
   "cell_type": "code",
   "execution_count": 93,
   "id": "worst-fitting",
   "metadata": {},
   "outputs": [
    {
     "data": {
      "image/png": "[encoded data removed]",
      "text/plain": [
       "<Figure size 540x360 with 2 Axes>"
      ]
     },
     "metadata": {
      "needs_background": "light"
     },
     "output_type": "display_data"
    },
    {
     "data": {
      "application/javascript": [
       "\n",
       "            setTimeout(function() {\n",
       "                var nbb_cell_id = 93;\n",
       "                var nbb_unformatted_code = \"# Bounce rate shap values for the negative class\\nshap.dependence_plot(\\n    \\\"BounceRates\\\",\\n    shap_values=shap_values[0],\\n    features=X_valid_tr,\\n    feature_names=all_features,\\n)\";\n",
       "                var nbb_formatted_code = \"# Bounce rate shap values for the negative class\\nshap.dependence_plot(\\n    \\\"BounceRates\\\",\\n    shap_values=shap_values[0],\\n    features=X_valid_tr,\\n    feature_names=all_features,\\n)\";\n",
       "                var nbb_cells = Jupyter.notebook.get_cells();\n",
       "                for (var i = 0; i < nbb_cells.length; ++i) {\n",
       "                    if (nbb_cells[i].input_prompt_number == nbb_cell_id) {\n",
       "                        if (nbb_cells[i].get_text() == nbb_unformatted_code) {\n",
       "                             nbb_cells[i].set_text(nbb_formatted_code);\n",
       "                        }\n",
       "                        break;\n",
       "                    }\n",
       "                }\n",
       "            }, 500);\n",
       "            "
      ],
      "text/plain": [
       "<IPython.core.display.Javascript object>"
      ]
     },
     "metadata": {},
     "output_type": "display_data"
    }
   ],
   "source": [
    "# Bounce rate shap values for the negative class\n",
    "shap.dependence_plot(\n",
    "    \"BounceRates\",\n",
    "    shap_values=shap_values[0],\n",
    "    features=X_valid_tr,\n",
    "    feature_names=all_features,\n",
    ")"
   ]
  },
  {
   "cell_type": "code",
   "execution_count": 94,
   "id": "occupational-technical",
   "metadata": {},
   "outputs": [
    {
     "name": "stderr",
     "output_type": "stream",
     "text": [
      "Passing parameters norm and vmin/vmax simultaneously is deprecated since 3.3 and will become an error two minor releases later. Please pass vmin/vmax directly to the norm when creating it.\n"
     ]
    },
    {
     "data": {
      "image/png": "[encoded data removed]",
      "text/plain": [
       "<Figure size 540x360 with 2 Axes>"
      ]
     },
     "metadata": {
      "needs_background": "light"
     },
     "output_type": "display_data"
    },
    {
     "data": {
      "application/javascript": [
       "\n",
       "            setTimeout(function() {\n",
       "                var nbb_cell_id = 94;\n",
       "                var nbb_unformatted_code = \"shap.dependence_plot(\\n    \\\"ProductRelated_Duration\\\",\\n    shap_values=shap_values[1],\\n    features=X_valid_tr,\\n    feature_names=all_features,\\n)\";\n",
       "                var nbb_formatted_code = \"shap.dependence_plot(\\n    \\\"ProductRelated_Duration\\\",\\n    shap_values=shap_values[1],\\n    features=X_valid_tr,\\n    feature_names=all_features,\\n)\";\n",
       "                var nbb_cells = Jupyter.notebook.get_cells();\n",
       "                for (var i = 0; i < nbb_cells.length; ++i) {\n",
       "                    if (nbb_cells[i].input_prompt_number == nbb_cell_id) {\n",
       "                        if (nbb_cells[i].get_text() == nbb_unformatted_code) {\n",
       "                             nbb_cells[i].set_text(nbb_formatted_code);\n",
       "                        }\n",
       "                        break;\n",
       "                    }\n",
       "                }\n",
       "            }, 500);\n",
       "            "
      ],
      "text/plain": [
       "<IPython.core.display.Javascript object>"
      ]
     },
     "metadata": {},
     "output_type": "display_data"
    }
   ],
   "source": [
    "shap.dependence_plot(\n",
    "    \"ProductRelated_Duration\",\n",
    "    shap_values=shap_values[1],\n",
    "    features=X_valid_tr,\n",
    "    feature_names=all_features,\n",
    ")"
   ]
  },
  {
   "cell_type": "code",
   "execution_count": 95,
   "id": "liked-antique",
   "metadata": {},
   "outputs": [
    {
     "data": {
      "image/png": "[encoded data removed]",
      "text/plain": [
       "<Figure size 540x360 with 2 Axes>"
      ]
     },
     "metadata": {
      "needs_background": "light"
     },
     "output_type": "display_data"
    },
    {
     "data": {
      "application/javascript": [
       "\n",
       "            setTimeout(function() {\n",
       "                var nbb_cell_id = 95;\n",
       "                var nbb_unformatted_code = \"shap.dependence_plot(\\n    \\\"ProductRelated\\\",\\n    shap_values=shap_values[1],\\n    features=X_valid_tr,\\n    feature_names=all_features,\\n)\";\n",
       "                var nbb_formatted_code = \"shap.dependence_plot(\\n    \\\"ProductRelated\\\",\\n    shap_values=shap_values[1],\\n    features=X_valid_tr,\\n    feature_names=all_features,\\n)\";\n",
       "                var nbb_cells = Jupyter.notebook.get_cells();\n",
       "                for (var i = 0; i < nbb_cells.length; ++i) {\n",
       "                    if (nbb_cells[i].input_prompt_number == nbb_cell_id) {\n",
       "                        if (nbb_cells[i].get_text() == nbb_unformatted_code) {\n",
       "                             nbb_cells[i].set_text(nbb_formatted_code);\n",
       "                        }\n",
       "                        break;\n",
       "                    }\n",
       "                }\n",
       "            }, 500);\n",
       "            "
      ],
      "text/plain": [
       "<IPython.core.display.Javascript object>"
      ]
     },
     "metadata": {},
     "output_type": "display_data"
    }
   ],
   "source": [
    "shap.dependence_plot(\n",
    "    \"ProductRelated\",\n",
    "    shap_values=shap_values[1],\n",
    "    features=X_valid_tr,\n",
    "    feature_names=all_features,\n",
    ")"
   ]
  },
  {
   "cell_type": "code",
   "execution_count": 96,
   "id": "completed-probability",
   "metadata": {},
   "outputs": [
    {
     "data": {
      "image/png": "[encoded data removed]",
      "text/plain": [
       "<Figure size 540x360 with 2 Axes>"
      ]
     },
     "metadata": {
      "needs_background": "light"
     },
     "output_type": "display_data"
    },
    {
     "data": {
      "application/javascript": [
       "\n",
       "            setTimeout(function() {\n",
       "                var nbb_cell_id = 96;\n",
       "                var nbb_unformatted_code = \"shap.dependence_plot(\\n    \\\"Month__May\\\",\\n    shap_values=shap_values[1],\\n    features=X_valid_tr,\\n    feature_names=all_features,\\n)\";\n",
       "                var nbb_formatted_code = \"shap.dependence_plot(\\n    \\\"Month__May\\\",\\n    shap_values=shap_values[1],\\n    features=X_valid_tr,\\n    feature_names=all_features,\\n)\";\n",
       "                var nbb_cells = Jupyter.notebook.get_cells();\n",
       "                for (var i = 0; i < nbb_cells.length; ++i) {\n",
       "                    if (nbb_cells[i].input_prompt_number == nbb_cell_id) {\n",
       "                        if (nbb_cells[i].get_text() == nbb_unformatted_code) {\n",
       "                             nbb_cells[i].set_text(nbb_formatted_code);\n",
       "                        }\n",
       "                        break;\n",
       "                    }\n",
       "                }\n",
       "            }, 500);\n",
       "            "
      ],
      "text/plain": [
       "<IPython.core.display.Javascript object>"
      ]
     },
     "metadata": {},
     "output_type": "display_data"
    }
   ],
   "source": [
    "shap.dependence_plot(\n",
    "    \"Month__May\",\n",
    "    shap_values=shap_values[1],\n",
    "    features=X_valid_tr,\n",
    "    feature_names=all_features,\n",
    ")"
   ]
  },
  {
   "cell_type": "markdown",
   "id": "actual-dress",
   "metadata": {},
   "source": [
    "Probability of buying is higher when month is not may and lower when month is may. Which we found during eda."
   ]
  },
  {
   "cell_type": "code",
   "execution_count": 97,
   "id": "occupational-invention",
   "metadata": {},
   "outputs": [
    {
     "data": {
      "image/png": "[encoded data removed]",
      "text/plain": [
       "<Figure size 540x360 with 2 Axes>"
      ]
     },
     "metadata": {
      "needs_background": "light"
     },
     "output_type": "display_data"
    },
    {
     "data": {
      "application/javascript": [
       "\n",
       "            setTimeout(function() {\n",
       "                var nbb_cell_id = 97;\n",
       "                var nbb_unformatted_code = \"shap.dependence_plot(\\n    \\\"Month__Dec\\\",\\n    shap_values=shap_values[1],\\n    features=X_valid_tr,\\n    feature_names=all_features,\\n)\";\n",
       "                var nbb_formatted_code = \"shap.dependence_plot(\\n    \\\"Month__Dec\\\",\\n    shap_values=shap_values[1],\\n    features=X_valid_tr,\\n    feature_names=all_features,\\n)\";\n",
       "                var nbb_cells = Jupyter.notebook.get_cells();\n",
       "                for (var i = 0; i < nbb_cells.length; ++i) {\n",
       "                    if (nbb_cells[i].input_prompt_number == nbb_cell_id) {\n",
       "                        if (nbb_cells[i].get_text() == nbb_unformatted_code) {\n",
       "                             nbb_cells[i].set_text(nbb_formatted_code);\n",
       "                        }\n",
       "                        break;\n",
       "                    }\n",
       "                }\n",
       "            }, 500);\n",
       "            "
      ],
      "text/plain": [
       "<IPython.core.display.Javascript object>"
      ]
     },
     "metadata": {},
     "output_type": "display_data"
    }
   ],
   "source": [
    "shap.dependence_plot(\n",
    "    \"Month__Dec\",\n",
    "    shap_values=shap_values[1],\n",
    "    features=X_valid_tr,\n",
    "    feature_names=all_features,\n",
    ")"
   ]
  },
  {
   "cell_type": "markdown",
   "id": "inner-universe",
   "metadata": {},
   "source": [
    "This is same for the month of Dec also. As in `December`, `May`, and in `March` the percentage of traffic was high but the conversion percentage was lower that is why the model is giving lower probability that a customer will buy compared to the month of `November` where visitor percentage was less but the conversion percentage was higher that is why the model is giving higher probability of conversion. "
   ]
  },
  {
   "cell_type": "markdown",
   "id": "junior-treasury",
   "metadata": {},
   "source": [
    "## Model with only most important features"
   ]
  },
  {
   "cell_type": "code",
   "execution_count": 98,
   "id": "super-tamil",
   "metadata": {},
   "outputs": [
    {
     "data": {
      "application/javascript": [
       "\n",
       "            setTimeout(function() {\n",
       "                var nbb_cell_id = 98;\n",
       "                var nbb_unformatted_code = \"cols = [\\n    \\\"PageValues\\\",\\n    \\\"ExitRates\\\",\\n    \\\"ProductRelated\\\",\\n    \\\"ProductRelated_Duration\\\",\\n    \\\"BounceRates\\\",\\n    \\\"VisitorType__New_Visitor\\\",\\n    \\\"VisitorType__Returning_Visitor\\\",\\n    \\\"VisitorType__Other\\\",\\n    \\\"Month__Aug\\\",\\n    \\\"Month__Dec\\\",\\n    \\\"Month__Feb\\\",\\n    \\\"Month__Jul\\\",\\n    \\\"Month__June\\\",\\n    \\\"Month__Mar\\\",\\n    \\\"Month__May\\\",\\n    \\\"Month__Nov\\\",\\n    \\\"Month__Oct\\\",\\n    \\\"Month__Sep\\\",\\n]\";\n",
       "                var nbb_formatted_code = \"cols = [\\n    \\\"PageValues\\\",\\n    \\\"ExitRates\\\",\\n    \\\"ProductRelated\\\",\\n    \\\"ProductRelated_Duration\\\",\\n    \\\"BounceRates\\\",\\n    \\\"VisitorType__New_Visitor\\\",\\n    \\\"VisitorType__Returning_Visitor\\\",\\n    \\\"VisitorType__Other\\\",\\n    \\\"Month__Aug\\\",\\n    \\\"Month__Dec\\\",\\n    \\\"Month__Feb\\\",\\n    \\\"Month__Jul\\\",\\n    \\\"Month__June\\\",\\n    \\\"Month__Mar\\\",\\n    \\\"Month__May\\\",\\n    \\\"Month__Nov\\\",\\n    \\\"Month__Oct\\\",\\n    \\\"Month__Sep\\\",\\n]\";\n",
       "                var nbb_cells = Jupyter.notebook.get_cells();\n",
       "                for (var i = 0; i < nbb_cells.length; ++i) {\n",
       "                    if (nbb_cells[i].input_prompt_number == nbb_cell_id) {\n",
       "                        if (nbb_cells[i].get_text() == nbb_unformatted_code) {\n",
       "                             nbb_cells[i].set_text(nbb_formatted_code);\n",
       "                        }\n",
       "                        break;\n",
       "                    }\n",
       "                }\n",
       "            }, 500);\n",
       "            "
      ],
      "text/plain": [
       "<IPython.core.display.Javascript object>"
      ]
     },
     "metadata": {},
     "output_type": "display_data"
    }
   ],
   "source": [
    "cols = [\n",
    "    \"PageValues\",\n",
    "    \"ExitRates\",\n",
    "    \"ProductRelated\",\n",
    "    \"ProductRelated_Duration\",\n",
    "    \"BounceRates\",\n",
    "    \"VisitorType__New_Visitor\",\n",
    "    \"VisitorType__Returning_Visitor\",\n",
    "    \"VisitorType__Other\",\n",
    "    \"Month__Aug\",\n",
    "    \"Month__Dec\",\n",
    "    \"Month__Feb\",\n",
    "    \"Month__Jul\",\n",
    "    \"Month__June\",\n",
    "    \"Month__Mar\",\n",
    "    \"Month__May\",\n",
    "    \"Month__Nov\",\n",
    "    \"Month__Oct\",\n",
    "    \"Month__Sep\",\n",
    "]"
   ]
  },
  {
   "cell_type": "code",
   "execution_count": 99,
   "id": "american-desktop",
   "metadata": {},
   "outputs": [
    {
     "name": "stdout",
     "output_type": "stream",
     "text": [
      "Scores: [0.79954151 0.80045151 0.79616033 0.80873813 0.78314676]\n",
      "Average score: 0.7976076490409583\n"
     ]
    },
    {
     "data": {
      "application/javascript": [
       "\n",
       "            setTimeout(function() {\n",
       "                var nbb_cell_id = 99;\n",
       "                var nbb_unformatted_code = \"from sklearn.ensemble import RandomForestClassifier\\nfrom sklearn.model_selection import cross_val_score\\n\\nrf_clf = RandomForestClassifier(random_state=42)\\nscores = cross_val_score(rf_clf, X_train_tr[cols], y_train, cv=5, scoring=\\\"f1_macro\\\")\\nprint(\\\"Scores:\\\", scores)\\nprint(\\\"Average score:\\\", np.mean(scores))\";\n",
       "                var nbb_formatted_code = \"from sklearn.ensemble import RandomForestClassifier\\nfrom sklearn.model_selection import cross_val_score\\n\\nrf_clf = RandomForestClassifier(random_state=42)\\nscores = cross_val_score(rf_clf, X_train_tr[cols], y_train, cv=5, scoring=\\\"f1_macro\\\")\\nprint(\\\"Scores:\\\", scores)\\nprint(\\\"Average score:\\\", np.mean(scores))\";\n",
       "                var nbb_cells = Jupyter.notebook.get_cells();\n",
       "                for (var i = 0; i < nbb_cells.length; ++i) {\n",
       "                    if (nbb_cells[i].input_prompt_number == nbb_cell_id) {\n",
       "                        if (nbb_cells[i].get_text() == nbb_unformatted_code) {\n",
       "                             nbb_cells[i].set_text(nbb_formatted_code);\n",
       "                        }\n",
       "                        break;\n",
       "                    }\n",
       "                }\n",
       "            }, 500);\n",
       "            "
      ],
      "text/plain": [
       "<IPython.core.display.Javascript object>"
      ]
     },
     "metadata": {},
     "output_type": "display_data"
    }
   ],
   "source": [
    "from sklearn.ensemble import RandomForestClassifier\n",
    "from sklearn.model_selection import cross_val_score\n",
    "\n",
    "rf_clf = RandomForestClassifier(random_state=42)\n",
    "scores = cross_val_score(rf_clf, X_train_tr[cols], y_train, cv=5, scoring=\"f1_macro\")\n",
    "print(\"Scores:\", scores)\n",
    "print(\"Average score:\", np.mean(scores))"
   ]
  },
  {
   "cell_type": "code",
   "execution_count": 100,
   "id": "vocal-hobby",
   "metadata": {},
   "outputs": [
    {
     "data": {
      "application/javascript": [
       "\n",
       "            setTimeout(function() {\n",
       "                var nbb_cell_id = 100;\n",
       "                var nbb_unformatted_code = \"rf_clf.fit(X_train_tr[cols], y_train)\\ny_pred = rf_clf.predict(X_test_tr[cols])\\nsubmission[\\\"revenue\\\"] = y_pred\\nsave_dataframe(submission, \\\"rf_imp_features1.csv\\\")\";\n",
       "                var nbb_formatted_code = \"rf_clf.fit(X_train_tr[cols], y_train)\\ny_pred = rf_clf.predict(X_test_tr[cols])\\nsubmission[\\\"revenue\\\"] = y_pred\\nsave_dataframe(submission, \\\"rf_imp_features1.csv\\\")\";\n",
       "                var nbb_cells = Jupyter.notebook.get_cells();\n",
       "                for (var i = 0; i < nbb_cells.length; ++i) {\n",
       "                    if (nbb_cells[i].input_prompt_number == nbb_cell_id) {\n",
       "                        if (nbb_cells[i].get_text() == nbb_unformatted_code) {\n",
       "                             nbb_cells[i].set_text(nbb_formatted_code);\n",
       "                        }\n",
       "                        break;\n",
       "                    }\n",
       "                }\n",
       "            }, 500);\n",
       "            "
      ],
      "text/plain": [
       "<IPython.core.display.Javascript object>"
      ]
     },
     "metadata": {},
     "output_type": "display_data"
    }
   ],
   "source": [
    "rf_clf.fit(X_train_tr[cols], y_train)\n",
    "y_pred = rf_clf.predict(X_test_tr[cols])\n",
    "submission[\"revenue\"] = y_pred\n",
    "save_dataframe(submission, \"rf_imp_features1.csv\")"
   ]
  },
  {
   "cell_type": "markdown",
   "id": "environmental-harvard",
   "metadata": {},
   "source": [
    "Even with so less features, the model is making good predictions. The score is very close to the previous found best model. let's do a quick hyperparameter tunning."
   ]
  },
  {
   "cell_type": "code",
   "execution_count": 101,
   "id": "wrapped-defensive",
   "metadata": {},
   "outputs": [
    {
     "data": {
      "application/javascript": [
       "\n",
       "            setTimeout(function() {\n",
       "                var nbb_cell_id = 101;\n",
       "                var nbb_unformatted_code = \"# only select the most important features\\nX_train_tr = X_train_tr[cols].copy()\\nX_test_tr = X_test_tr[cols].copy()\\n# convert seconds to minutes\\nX_train_tr[\\\"ProductRelated_Duration\\\"] = X_train_tr[\\\"ProductRelated_Duration\\\"] / 60\";\n",
       "                var nbb_formatted_code = \"# only select the most important features\\nX_train_tr = X_train_tr[cols].copy()\\nX_test_tr = X_test_tr[cols].copy()\\n# convert seconds to minutes\\nX_train_tr[\\\"ProductRelated_Duration\\\"] = X_train_tr[\\\"ProductRelated_Duration\\\"] / 60\";\n",
       "                var nbb_cells = Jupyter.notebook.get_cells();\n",
       "                for (var i = 0; i < nbb_cells.length; ++i) {\n",
       "                    if (nbb_cells[i].input_prompt_number == nbb_cell_id) {\n",
       "                        if (nbb_cells[i].get_text() == nbb_unformatted_code) {\n",
       "                             nbb_cells[i].set_text(nbb_formatted_code);\n",
       "                        }\n",
       "                        break;\n",
       "                    }\n",
       "                }\n",
       "            }, 500);\n",
       "            "
      ],
      "text/plain": [
       "<IPython.core.display.Javascript object>"
      ]
     },
     "metadata": {},
     "output_type": "display_data"
    }
   ],
   "source": [
    "# only select the most important features\n",
    "X_train_tr = X_train_tr[cols].copy()\n",
    "X_test_tr = X_test_tr[cols].copy()\n",
    "# convert seconds to minutes\n",
    "X_train_tr[\"ProductRelated_Duration\"] = X_train_tr[\"ProductRelated_Duration\"] / 60"
   ]
  },
  {
   "cell_type": "code",
   "execution_count": 102,
   "id": "realistic-norwegian",
   "metadata": {},
   "outputs": [
    {
     "data": {
      "text/plain": [
       "RandomizedSearchCV(cv=5,\n",
       "                   estimator=RandomForestClassifier(oob_score=True,\n",
       "                                                    random_state=42),\n",
       "                   n_iter=20,\n",
       "                   param_distributions={'max_depth': <scipy.stats._distn_infrastructure.rv_frozen object at 0x1491ffaf0>,\n",
       "                                        'max_features': ['auto', 'sqrt',\n",
       "                                                         'log2'],\n",
       "                                        'min_samples_leaf': <scipy.stats._distn_infrastructure.rv_frozen object at 0x1491ff700>,\n",
       "                                        'min_samples_split': <scipy.stats._distn_infrastructure.rv_frozen object at 0x1491ff460>,\n",
       "                                        'n_estimators': <scipy.stats._distn_infrastructure.rv_frozen object at 0x1491ffdf0>},\n",
       "                   random_state=42, scoring='f1_macro')"
      ]
     },
     "execution_count": 102,
     "metadata": {},
     "output_type": "execute_result"
    },
    {
     "data": {
      "application/javascript": [
       "\n",
       "            setTimeout(function() {\n",
       "                var nbb_cell_id = 102;\n",
       "                var nbb_unformatted_code = \"from sklearn.model_selection import RandomizedSearchCV\\nfrom scipy.stats import randint\\nfrom sklearn.ensemble import RandomForestClassifier\\nfrom sklearn.pipeline import make_pipeline\\n\\nparam_dist = {\\n    \\\"n_estimators\\\": randint(low=100, high=1000),\\n    \\\"max_depth\\\": randint(low=3, high=15),\\n    \\\"min_samples_split\\\": randint(low=2, high=20),\\n    \\\"min_samples_leaf\\\": randint(low=1, high=10),\\n    \\\"max_features\\\": [\\\"auto\\\", \\\"sqrt\\\", \\\"log2\\\"],\\n}\\n\\nrf_clf = RandomForestClassifier(random_state=42, oob_score=True)\\n\\nrf_rnd_search = RandomizedSearchCV(\\n    rf_clf,\\n    param_distributions=param_dist,\\n    n_iter=20,\\n    cv=5,\\n    scoring=\\\"f1_macro\\\",\\n    random_state=42,\\n)\\n\\nrf_rnd_search.fit(X_train_tr, y_train)\";\n",
       "                var nbb_formatted_code = \"from sklearn.model_selection import RandomizedSearchCV\\nfrom scipy.stats import randint\\nfrom sklearn.ensemble import RandomForestClassifier\\nfrom sklearn.pipeline import make_pipeline\\n\\nparam_dist = {\\n    \\\"n_estimators\\\": randint(low=100, high=1000),\\n    \\\"max_depth\\\": randint(low=3, high=15),\\n    \\\"min_samples_split\\\": randint(low=2, high=20),\\n    \\\"min_samples_leaf\\\": randint(low=1, high=10),\\n    \\\"max_features\\\": [\\\"auto\\\", \\\"sqrt\\\", \\\"log2\\\"],\\n}\\n\\nrf_clf = RandomForestClassifier(random_state=42, oob_score=True)\\n\\nrf_rnd_search = RandomizedSearchCV(\\n    rf_clf,\\n    param_distributions=param_dist,\\n    n_iter=20,\\n    cv=5,\\n    scoring=\\\"f1_macro\\\",\\n    random_state=42,\\n)\\n\\nrf_rnd_search.fit(X_train_tr, y_train)\";\n",
       "                var nbb_cells = Jupyter.notebook.get_cells();\n",
       "                for (var i = 0; i < nbb_cells.length; ++i) {\n",
       "                    if (nbb_cells[i].input_prompt_number == nbb_cell_id) {\n",
       "                        if (nbb_cells[i].get_text() == nbb_unformatted_code) {\n",
       "                             nbb_cells[i].set_text(nbb_formatted_code);\n",
       "                        }\n",
       "                        break;\n",
       "                    }\n",
       "                }\n",
       "            }, 500);\n",
       "            "
      ],
      "text/plain": [
       "<IPython.core.display.Javascript object>"
      ]
     },
     "metadata": {},
     "output_type": "display_data"
    }
   ],
   "source": [
    "from sklearn.model_selection import RandomizedSearchCV\n",
    "from scipy.stats import randint\n",
    "from sklearn.ensemble import RandomForestClassifier\n",
    "from sklearn.pipeline import make_pipeline\n",
    "\n",
    "param_dist = {\n",
    "    \"n_estimators\": randint(low=100, high=1000),\n",
    "    \"max_depth\": randint(low=3, high=15),\n",
    "    \"min_samples_split\": randint(low=2, high=20),\n",
    "    \"min_samples_leaf\": randint(low=1, high=10),\n",
    "    \"max_features\": [\"auto\", \"sqrt\", \"log2\"],\n",
    "}\n",
    "\n",
    "rf_clf = RandomForestClassifier(random_state=42, oob_score=True)\n",
    "\n",
    "rf_rnd_search = RandomizedSearchCV(\n",
    "    rf_clf,\n",
    "    param_distributions=param_dist,\n",
    "    n_iter=20,\n",
    "    cv=5,\n",
    "    scoring=\"f1_macro\",\n",
    "    random_state=42,\n",
    ")\n",
    "\n",
    "rf_rnd_search.fit(X_train_tr, y_train)"
   ]
  },
  {
   "cell_type": "code",
   "execution_count": 103,
   "id": "conservative-python",
   "metadata": {},
   "outputs": [
    {
     "data": {
      "text/plain": [
       "0.803844302487937"
      ]
     },
     "execution_count": 103,
     "metadata": {},
     "output_type": "execute_result"
    },
    {
     "data": {
      "application/javascript": [
       "\n",
       "            setTimeout(function() {\n",
       "                var nbb_cell_id = 103;\n",
       "                var nbb_unformatted_code = \"rf_rnd_search.best_score_\";\n",
       "                var nbb_formatted_code = \"rf_rnd_search.best_score_\";\n",
       "                var nbb_cells = Jupyter.notebook.get_cells();\n",
       "                for (var i = 0; i < nbb_cells.length; ++i) {\n",
       "                    if (nbb_cells[i].input_prompt_number == nbb_cell_id) {\n",
       "                        if (nbb_cells[i].get_text() == nbb_unformatted_code) {\n",
       "                             nbb_cells[i].set_text(nbb_formatted_code);\n",
       "                        }\n",
       "                        break;\n",
       "                    }\n",
       "                }\n",
       "            }, 500);\n",
       "            "
      ],
      "text/plain": [
       "<IPython.core.display.Javascript object>"
      ]
     },
     "metadata": {},
     "output_type": "display_data"
    }
   ],
   "source": [
    "rf_rnd_search.best_score_"
   ]
  },
  {
   "cell_type": "code",
   "execution_count": 104,
   "id": "acceptable-hormone",
   "metadata": {},
   "outputs": [
    {
     "data": {
      "text/plain": [
       "{'max_depth': 13,\n",
       " 'max_features': 'log2',\n",
       " 'min_samples_leaf': 3,\n",
       " 'min_samples_split': 13,\n",
       " 'n_estimators': 666}"
      ]
     },
     "execution_count": 104,
     "metadata": {},
     "output_type": "execute_result"
    },
    {
     "data": {
      "application/javascript": [
       "\n",
       "            setTimeout(function() {\n",
       "                var nbb_cell_id = 104;\n",
       "                var nbb_unformatted_code = \"rf_rnd_search.best_params_\";\n",
       "                var nbb_formatted_code = \"rf_rnd_search.best_params_\";\n",
       "                var nbb_cells = Jupyter.notebook.get_cells();\n",
       "                for (var i = 0; i < nbb_cells.length; ++i) {\n",
       "                    if (nbb_cells[i].input_prompt_number == nbb_cell_id) {\n",
       "                        if (nbb_cells[i].get_text() == nbb_unformatted_code) {\n",
       "                             nbb_cells[i].set_text(nbb_formatted_code);\n",
       "                        }\n",
       "                        break;\n",
       "                    }\n",
       "                }\n",
       "            }, 500);\n",
       "            "
      ],
      "text/plain": [
       "<IPython.core.display.Javascript object>"
      ]
     },
     "metadata": {},
     "output_type": "display_data"
    }
   ],
   "source": [
    "rf_rnd_search.best_params_"
   ]
  },
  {
   "cell_type": "code",
   "execution_count": 105,
   "id": "complicated-interpretation",
   "metadata": {},
   "outputs": [
    {
     "data": {
      "application/javascript": [
       "\n",
       "            setTimeout(function() {\n",
       "                var nbb_cell_id = 105;\n",
       "                var nbb_unformatted_code = \"# make final predictions\\ny_pred = rf_rnd_search.best_estimator_.predict(X_test_tr)\\nsubmission[\\\"revenue\\\"] = y_pred\\nsave_dataframe(submission, \\\"rf_imp_features_final1.csv\\\")\";\n",
       "                var nbb_formatted_code = \"# make final predictions\\ny_pred = rf_rnd_search.best_estimator_.predict(X_test_tr)\\nsubmission[\\\"revenue\\\"] = y_pred\\nsave_dataframe(submission, \\\"rf_imp_features_final1.csv\\\")\";\n",
       "                var nbb_cells = Jupyter.notebook.get_cells();\n",
       "                for (var i = 0; i < nbb_cells.length; ++i) {\n",
       "                    if (nbb_cells[i].input_prompt_number == nbb_cell_id) {\n",
       "                        if (nbb_cells[i].get_text() == nbb_unformatted_code) {\n",
       "                             nbb_cells[i].set_text(nbb_formatted_code);\n",
       "                        }\n",
       "                        break;\n",
       "                    }\n",
       "                }\n",
       "            }, 500);\n",
       "            "
      ],
      "text/plain": [
       "<IPython.core.display.Javascript object>"
      ]
     },
     "metadata": {},
     "output_type": "display_data"
    }
   ],
   "source": [
    "# make final predictions\n",
    "y_pred = rf_rnd_search.best_estimator_.predict(X_test_tr)\n",
    "submission[\"revenue\"] = y_pred\n",
    "save_dataframe(submission, \"rf_imp_features_final1.csv\")"
   ]
  },
  {
   "cell_type": "code",
   "execution_count": 106,
   "id": "heard-insulation",
   "metadata": {},
   "outputs": [
    {
     "data": {
      "text/plain": [
       "15"
      ]
     },
     "execution_count": 106,
     "metadata": {},
     "output_type": "execute_result"
    },
    {
     "data": {
      "application/javascript": [
       "\n",
       "            setTimeout(function() {\n",
       "                var nbb_cell_id = 106;\n",
       "                var nbb_unformatted_code = \"np.where(X_train_tr.columns == \\\"Month__Nov\\\")[0][0]\";\n",
       "                var nbb_formatted_code = \"np.where(X_train_tr.columns == \\\"Month__Nov\\\")[0][0]\";\n",
       "                var nbb_cells = Jupyter.notebook.get_cells();\n",
       "                for (var i = 0; i < nbb_cells.length; ++i) {\n",
       "                    if (nbb_cells[i].input_prompt_number == nbb_cell_id) {\n",
       "                        if (nbb_cells[i].get_text() == nbb_unformatted_code) {\n",
       "                             nbb_cells[i].set_text(nbb_formatted_code);\n",
       "                        }\n",
       "                        break;\n",
       "                    }\n",
       "                }\n",
       "            }, 500);\n",
       "            "
      ],
      "text/plain": [
       "<IPython.core.display.Javascript object>"
      ]
     },
     "metadata": {},
     "output_type": "display_data"
    }
   ],
   "source": [
    "np.where(X_train_tr.columns == \"Month__Nov\")[0][0]"
   ]
  },
  {
   "cell_type": "code",
   "execution_count": 107,
   "id": "tender-wellington",
   "metadata": {},
   "outputs": [
    {
     "data": {
      "application/javascript": [
       "\n",
       "            setTimeout(function() {\n",
       "                var nbb_cell_id = 107;\n",
       "                var nbb_unformatted_code = \"def predict_purchase_intension(\\n    PageValues,\\n    ExitRates,\\n    ProductRelated,\\n    ProductRelated_Duration,\\n    BounceRates,\\n    VisitorType,\\n    Month,\\n):\\n\\n    visitor_type_index = np.where(X_train_tr.columns == VisitorType)[0][0]\\n    month_index = np.where(X_train_tr.columns == Month)[0][0]\\n\\n    x = np.zeros(len(X_train_tr.columns))\\n    x[0] = PageValues\\n    x[1] = ExitRates\\n    x[2] = ProductRelated\\n    x[3] = ProductRelated_Duration\\n    x[4] = BounceRates\\n    x[visitor_type_index] = 1\\n    x[month_index] = 1\\n\\n    return print(\\\"class:\\\", rf_rnd_search.best_estimator_.predict([x])[0])\";\n",
       "                var nbb_formatted_code = \"def predict_purchase_intension(\\n    PageValues,\\n    ExitRates,\\n    ProductRelated,\\n    ProductRelated_Duration,\\n    BounceRates,\\n    VisitorType,\\n    Month,\\n):\\n\\n    visitor_type_index = np.where(X_train_tr.columns == VisitorType)[0][0]\\n    month_index = np.where(X_train_tr.columns == Month)[0][0]\\n\\n    x = np.zeros(len(X_train_tr.columns))\\n    x[0] = PageValues\\n    x[1] = ExitRates\\n    x[2] = ProductRelated\\n    x[3] = ProductRelated_Duration\\n    x[4] = BounceRates\\n    x[visitor_type_index] = 1\\n    x[month_index] = 1\\n\\n    return print(\\\"class:\\\", rf_rnd_search.best_estimator_.predict([x])[0])\";\n",
       "                var nbb_cells = Jupyter.notebook.get_cells();\n",
       "                for (var i = 0; i < nbb_cells.length; ++i) {\n",
       "                    if (nbb_cells[i].input_prompt_number == nbb_cell_id) {\n",
       "                        if (nbb_cells[i].get_text() == nbb_unformatted_code) {\n",
       "                             nbb_cells[i].set_text(nbb_formatted_code);\n",
       "                        }\n",
       "                        break;\n",
       "                    }\n",
       "                }\n",
       "            }, 500);\n",
       "            "
      ],
      "text/plain": [
       "<IPython.core.display.Javascript object>"
      ]
     },
     "metadata": {},
     "output_type": "display_data"
    }
   ],
   "source": [
    "def predict_purchase_intension(\n",
    "    PageValues,\n",
    "    ExitRates,\n",
    "    ProductRelated,\n",
    "    ProductRelated_Duration,\n",
    "    BounceRates,\n",
    "    VisitorType,\n",
    "    Month,\n",
    "):\n",
    "\n",
    "    visitor_type_index = np.where(X_train_tr.columns == VisitorType)[0][0]\n",
    "    month_index = np.where(X_train_tr.columns == Month)[0][0]\n",
    "\n",
    "    x = np.zeros(len(X_train_tr.columns))\n",
    "    x[0] = PageValues\n",
    "    x[1] = ExitRates\n",
    "    x[2] = ProductRelated\n",
    "    x[3] = ProductRelated_Duration\n",
    "    x[4] = BounceRates\n",
    "    x[visitor_type_index] = 1\n",
    "    x[month_index] = 1\n",
    "\n",
    "    return print(\"class:\", rf_rnd_search.best_estimator_.predict([x])[0])"
   ]
  },
  {
   "cell_type": "code",
   "execution_count": 108,
   "id": "published-onion",
   "metadata": {},
   "outputs": [
    {
     "data": {
      "text/html": [
       "<div>\n",
       "<style scoped>\n",
       "    .dataframe tbody tr th:only-of-type {\n",
       "        vertical-align: middle;\n",
       "    }\n",
       "\n",
       "    .dataframe tbody tr th {\n",
       "        vertical-align: top;\n",
       "    }\n",
       "\n",
       "    .dataframe thead th {\n",
       "        text-align: right;\n",
       "    }\n",
       "</style>\n",
       "<table border=\"1\" class=\"dataframe\">\n",
       "  <thead>\n",
       "    <tr style=\"text-align: right;\">\n",
       "      <th></th>\n",
       "      <th>count</th>\n",
       "      <th>mean</th>\n",
       "      <th>std</th>\n",
       "      <th>min</th>\n",
       "      <th>25%</th>\n",
       "      <th>50%</th>\n",
       "      <th>75%</th>\n",
       "      <th>max</th>\n",
       "    </tr>\n",
       "  </thead>\n",
       "  <tbody>\n",
       "    <tr>\n",
       "      <th>PageValues</th>\n",
       "      <td>6473.0</td>\n",
       "      <td>5.820390</td>\n",
       "      <td>18.028168</td>\n",
       "      <td>0.0</td>\n",
       "      <td>0.000000</td>\n",
       "      <td>0.00000</td>\n",
       "      <td>0.000000</td>\n",
       "      <td>360.953384</td>\n",
       "    </tr>\n",
       "    <tr>\n",
       "      <th>ExitRates</th>\n",
       "      <td>6473.0</td>\n",
       "      <td>0.042123</td>\n",
       "      <td>0.047312</td>\n",
       "      <td>0.0</td>\n",
       "      <td>0.014259</td>\n",
       "      <td>0.02500</td>\n",
       "      <td>0.050000</td>\n",
       "      <td>0.200000</td>\n",
       "    </tr>\n",
       "    <tr>\n",
       "      <th>ProductRelated</th>\n",
       "      <td>6473.0</td>\n",
       "      <td>31.751120</td>\n",
       "      <td>44.447772</td>\n",
       "      <td>0.0</td>\n",
       "      <td>7.000000</td>\n",
       "      <td>18.00000</td>\n",
       "      <td>38.000000</td>\n",
       "      <td>705.000000</td>\n",
       "    </tr>\n",
       "    <tr>\n",
       "      <th>ProductRelated_Duration</th>\n",
       "      <td>6473.0</td>\n",
       "      <td>19.905726</td>\n",
       "      <td>30.169598</td>\n",
       "      <td>0.0</td>\n",
       "      <td>3.080556</td>\n",
       "      <td>10.14000</td>\n",
       "      <td>24.722222</td>\n",
       "      <td>719.520556</td>\n",
       "    </tr>\n",
       "    <tr>\n",
       "      <th>BounceRates</th>\n",
       "      <td>6473.0</td>\n",
       "      <td>0.021284</td>\n",
       "      <td>0.046849</td>\n",
       "      <td>0.0</td>\n",
       "      <td>0.000000</td>\n",
       "      <td>0.00303</td>\n",
       "      <td>0.016667</td>\n",
       "      <td>0.200000</td>\n",
       "    </tr>\n",
       "    <tr>\n",
       "      <th>VisitorType__New_Visitor</th>\n",
       "      <td>6473.0</td>\n",
       "      <td>0.138885</td>\n",
       "      <td>0.345853</td>\n",
       "      <td>0.0</td>\n",
       "      <td>0.000000</td>\n",
       "      <td>0.00000</td>\n",
       "      <td>0.000000</td>\n",
       "      <td>1.000000</td>\n",
       "    </tr>\n",
       "    <tr>\n",
       "      <th>VisitorType__Returning_Visitor</th>\n",
       "      <td>6473.0</td>\n",
       "      <td>0.853854</td>\n",
       "      <td>0.353279</td>\n",
       "      <td>0.0</td>\n",
       "      <td>1.000000</td>\n",
       "      <td>1.00000</td>\n",
       "      <td>1.000000</td>\n",
       "      <td>1.000000</td>\n",
       "    </tr>\n",
       "    <tr>\n",
       "      <th>VisitorType__Other</th>\n",
       "      <td>6473.0</td>\n",
       "      <td>0.007261</td>\n",
       "      <td>0.084908</td>\n",
       "      <td>0.0</td>\n",
       "      <td>0.000000</td>\n",
       "      <td>0.00000</td>\n",
       "      <td>0.000000</td>\n",
       "      <td>1.000000</td>\n",
       "    </tr>\n",
       "    <tr>\n",
       "      <th>Month__Aug</th>\n",
       "      <td>6473.0</td>\n",
       "      <td>0.035069</td>\n",
       "      <td>0.183968</td>\n",
       "      <td>0.0</td>\n",
       "      <td>0.000000</td>\n",
       "      <td>0.00000</td>\n",
       "      <td>0.000000</td>\n",
       "      <td>1.000000</td>\n",
       "    </tr>\n",
       "    <tr>\n",
       "      <th>Month__Dec</th>\n",
       "      <td>6473.0</td>\n",
       "      <td>0.139348</td>\n",
       "      <td>0.346336</td>\n",
       "      <td>0.0</td>\n",
       "      <td>0.000000</td>\n",
       "      <td>0.00000</td>\n",
       "      <td>0.000000</td>\n",
       "      <td>1.000000</td>\n",
       "    </tr>\n",
       "    <tr>\n",
       "      <th>Month__Feb</th>\n",
       "      <td>6473.0</td>\n",
       "      <td>0.014058</td>\n",
       "      <td>0.117741</td>\n",
       "      <td>0.0</td>\n",
       "      <td>0.000000</td>\n",
       "      <td>0.00000</td>\n",
       "      <td>0.000000</td>\n",
       "      <td>1.000000</td>\n",
       "    </tr>\n",
       "    <tr>\n",
       "      <th>Month__Jul</th>\n",
       "      <td>6473.0</td>\n",
       "      <td>0.038159</td>\n",
       "      <td>0.191594</td>\n",
       "      <td>0.0</td>\n",
       "      <td>0.000000</td>\n",
       "      <td>0.00000</td>\n",
       "      <td>0.000000</td>\n",
       "      <td>1.000000</td>\n",
       "    </tr>\n",
       "    <tr>\n",
       "      <th>Month__June</th>\n",
       "      <td>6473.0</td>\n",
       "      <td>0.023482</td>\n",
       "      <td>0.151441</td>\n",
       "      <td>0.0</td>\n",
       "      <td>0.000000</td>\n",
       "      <td>0.00000</td>\n",
       "      <td>0.000000</td>\n",
       "      <td>1.000000</td>\n",
       "    </tr>\n",
       "    <tr>\n",
       "      <th>Month__Mar</th>\n",
       "      <td>6473.0</td>\n",
       "      <td>0.158659</td>\n",
       "      <td>0.365386</td>\n",
       "      <td>0.0</td>\n",
       "      <td>0.000000</td>\n",
       "      <td>0.00000</td>\n",
       "      <td>0.000000</td>\n",
       "      <td>1.000000</td>\n",
       "    </tr>\n",
       "    <tr>\n",
       "      <th>Month__May</th>\n",
       "      <td>6473.0</td>\n",
       "      <td>0.266337</td>\n",
       "      <td>0.442077</td>\n",
       "      <td>0.0</td>\n",
       "      <td>0.000000</td>\n",
       "      <td>0.00000</td>\n",
       "      <td>1.000000</td>\n",
       "      <td>1.000000</td>\n",
       "    </tr>\n",
       "    <tr>\n",
       "      <th>Month__Nov</th>\n",
       "      <td>6473.0</td>\n",
       "      <td>0.246717</td>\n",
       "      <td>0.431134</td>\n",
       "      <td>0.0</td>\n",
       "      <td>0.000000</td>\n",
       "      <td>0.00000</td>\n",
       "      <td>0.000000</td>\n",
       "      <td>1.000000</td>\n",
       "    </tr>\n",
       "    <tr>\n",
       "      <th>Month__Oct</th>\n",
       "      <td>6473.0</td>\n",
       "      <td>0.042484</td>\n",
       "      <td>0.201707</td>\n",
       "      <td>0.0</td>\n",
       "      <td>0.000000</td>\n",
       "      <td>0.00000</td>\n",
       "      <td>0.000000</td>\n",
       "      <td>1.000000</td>\n",
       "    </tr>\n",
       "    <tr>\n",
       "      <th>Month__Sep</th>\n",
       "      <td>6473.0</td>\n",
       "      <td>0.035687</td>\n",
       "      <td>0.185522</td>\n",
       "      <td>0.0</td>\n",
       "      <td>0.000000</td>\n",
       "      <td>0.00000</td>\n",
       "      <td>0.000000</td>\n",
       "      <td>1.000000</td>\n",
       "    </tr>\n",
       "  </tbody>\n",
       "</table>\n",
       "</div>"
      ],
      "text/plain": [
       "                                 count       mean        std  min       25%  \\\n",
       "PageValues                      6473.0   5.820390  18.028168  0.0  0.000000   \n",
       "ExitRates                       6473.0   0.042123   0.047312  0.0  0.014259   \n",
       "ProductRelated                  6473.0  31.751120  44.447772  0.0  7.000000   \n",
       "ProductRelated_Duration         6473.0  19.905726  30.169598  0.0  3.080556   \n",
       "BounceRates                     6473.0   0.021284   0.046849  0.0  0.000000   \n",
       "VisitorType__New_Visitor        6473.0   0.138885   0.345853  0.0  0.000000   \n",
       "VisitorType__Returning_Visitor  6473.0   0.853854   0.353279  0.0  1.000000   \n",
       "VisitorType__Other              6473.0   0.007261   0.084908  0.0  0.000000   \n",
       "Month__Aug                      6473.0   0.035069   0.183968  0.0  0.000000   \n",
       "Month__Dec                      6473.0   0.139348   0.346336  0.0  0.000000   \n",
       "Month__Feb                      6473.0   0.014058   0.117741  0.0  0.000000   \n",
       "Month__Jul                      6473.0   0.038159   0.191594  0.0  0.000000   \n",
       "Month__June                     6473.0   0.023482   0.151441  0.0  0.000000   \n",
       "Month__Mar                      6473.0   0.158659   0.365386  0.0  0.000000   \n",
       "Month__May                      6473.0   0.266337   0.442077  0.0  0.000000   \n",
       "Month__Nov                      6473.0   0.246717   0.431134  0.0  0.000000   \n",
       "Month__Oct                      6473.0   0.042484   0.201707  0.0  0.000000   \n",
       "Month__Sep                      6473.0   0.035687   0.185522  0.0  0.000000   \n",
       "\n",
       "                                     50%        75%         max  \n",
       "PageValues                       0.00000   0.000000  360.953384  \n",
       "ExitRates                        0.02500   0.050000    0.200000  \n",
       "ProductRelated                  18.00000  38.000000  705.000000  \n",
       "ProductRelated_Duration         10.14000  24.722222  719.520556  \n",
       "BounceRates                      0.00303   0.016667    0.200000  \n",
       "VisitorType__New_Visitor         0.00000   0.000000    1.000000  \n",
       "VisitorType__Returning_Visitor   1.00000   1.000000    1.000000  \n",
       "VisitorType__Other               0.00000   0.000000    1.000000  \n",
       "Month__Aug                       0.00000   0.000000    1.000000  \n",
       "Month__Dec                       0.00000   0.000000    1.000000  \n",
       "Month__Feb                       0.00000   0.000000    1.000000  \n",
       "Month__Jul                       0.00000   0.000000    1.000000  \n",
       "Month__June                      0.00000   0.000000    1.000000  \n",
       "Month__Mar                       0.00000   0.000000    1.000000  \n",
       "Month__May                       0.00000   1.000000    1.000000  \n",
       "Month__Nov                       0.00000   0.000000    1.000000  \n",
       "Month__Oct                       0.00000   0.000000    1.000000  \n",
       "Month__Sep                       0.00000   0.000000    1.000000  "
      ]
     },
     "execution_count": 108,
     "metadata": {},
     "output_type": "execute_result"
    },
    {
     "data": {
      "application/javascript": [
       "\n",
       "            setTimeout(function() {\n",
       "                var nbb_cell_id = 108;\n",
       "                var nbb_unformatted_code = \"X_train_tr.describe().T\";\n",
       "                var nbb_formatted_code = \"X_train_tr.describe().T\";\n",
       "                var nbb_cells = Jupyter.notebook.get_cells();\n",
       "                for (var i = 0; i < nbb_cells.length; ++i) {\n",
       "                    if (nbb_cells[i].input_prompt_number == nbb_cell_id) {\n",
       "                        if (nbb_cells[i].get_text() == nbb_unformatted_code) {\n",
       "                             nbb_cells[i].set_text(nbb_formatted_code);\n",
       "                        }\n",
       "                        break;\n",
       "                    }\n",
       "                }\n",
       "            }, 500);\n",
       "            "
      ],
      "text/plain": [
       "<IPython.core.display.Javascript object>"
      ]
     },
     "metadata": {},
     "output_type": "display_data"
    }
   ],
   "source": [
    "X_train_tr.describe().T"
   ]
  },
  {
   "cell_type": "code",
   "execution_count": 109,
   "id": "fuzzy-bhutan",
   "metadata": {},
   "outputs": [
    {
     "name": "stdout",
     "output_type": "stream",
     "text": [
      "class: 0\n"
     ]
    },
    {
     "data": {
      "application/javascript": [
       "\n",
       "            setTimeout(function() {\n",
       "                var nbb_cell_id = 109;\n",
       "                var nbb_unformatted_code = \"predict_purchase_intension(\\n    5, 0.20, 10, 5, 0.30, \\\"VisitorType__New_Visitor\\\", \\\"Month__Nov\\\"\\n)\";\n",
       "                var nbb_formatted_code = \"predict_purchase_intension(\\n    5, 0.20, 10, 5, 0.30, \\\"VisitorType__New_Visitor\\\", \\\"Month__Nov\\\"\\n)\";\n",
       "                var nbb_cells = Jupyter.notebook.get_cells();\n",
       "                for (var i = 0; i < nbb_cells.length; ++i) {\n",
       "                    if (nbb_cells[i].input_prompt_number == nbb_cell_id) {\n",
       "                        if (nbb_cells[i].get_text() == nbb_unformatted_code) {\n",
       "                             nbb_cells[i].set_text(nbb_formatted_code);\n",
       "                        }\n",
       "                        break;\n",
       "                    }\n",
       "                }\n",
       "            }, 500);\n",
       "            "
      ],
      "text/plain": [
       "<IPython.core.display.Javascript object>"
      ]
     },
     "metadata": {},
     "output_type": "display_data"
    }
   ],
   "source": [
    "predict_purchase_intension(\n",
    "    5, 0.20, 10, 5, 0.30, \"VisitorType__New_Visitor\", \"Month__Nov\"\n",
    ")"
   ]
  },
  {
   "cell_type": "markdown",
   "id": "approved-channels",
   "metadata": {},
   "source": [
    "### Save the model"
   ]
  },
  {
   "cell_type": "code",
   "execution_count": 110,
   "id": "collective-ocean",
   "metadata": {},
   "outputs": [
    {
     "data": {
      "application/javascript": [
       "\n",
       "            setTimeout(function() {\n",
       "                var nbb_cell_id = 110;\n",
       "                var nbb_unformatted_code = \"import joblib\\n\\nmodel_path = os.path.join(project_root_dir, \\\"models\\\")\\nos.makedirs(model_path, exist_ok=True)\\n\\n\\ndef save_model(model, model_name, path=model_path):\\n    path = os.path.join(model_path, model_name)\\n    joblib.dump(model, path)\\n\\n\\nsave_model(rf_rnd_search.best_estimator_, \\\"rf_rnd_search1.joblib\\\")\";\n",
       "                var nbb_formatted_code = \"import joblib\\n\\nmodel_path = os.path.join(project_root_dir, \\\"models\\\")\\nos.makedirs(model_path, exist_ok=True)\\n\\n\\ndef save_model(model, model_name, path=model_path):\\n    path = os.path.join(model_path, model_name)\\n    joblib.dump(model, path)\\n\\n\\nsave_model(rf_rnd_search.best_estimator_, \\\"rf_rnd_search1.joblib\\\")\";\n",
       "                var nbb_cells = Jupyter.notebook.get_cells();\n",
       "                for (var i = 0; i < nbb_cells.length; ++i) {\n",
       "                    if (nbb_cells[i].input_prompt_number == nbb_cell_id) {\n",
       "                        if (nbb_cells[i].get_text() == nbb_unformatted_code) {\n",
       "                             nbb_cells[i].set_text(nbb_formatted_code);\n",
       "                        }\n",
       "                        break;\n",
       "                    }\n",
       "                }\n",
       "            }, 500);\n",
       "            "
      ],
      "text/plain": [
       "<IPython.core.display.Javascript object>"
      ]
     },
     "metadata": {},
     "output_type": "display_data"
    }
   ],
   "source": [
    "import joblib\n",
    "\n",
    "model_path = os.path.join(project_root_dir, \"models\")\n",
    "os.makedirs(model_path, exist_ok=True)\n",
    "\n",
    "\n",
    "def save_model(model, model_name, path=model_path):\n",
    "    path = os.path.join(model_path, model_name)\n",
    "    joblib.dump(model, path)\n",
    "\n",
    "\n",
    "save_model(rf_rnd_search.best_estimator_, \"rf_rnd_search1.joblib\")"
   ]
  },
  {
   "cell_type": "markdown",
   "id": "responsible-prairie",
   "metadata": {},
   "source": [
    "### Export column information"
   ]
  },
  {
   "cell_type": "code",
   "execution_count": 111,
   "id": "ultimate-status",
   "metadata": {},
   "outputs": [
    {
     "data": {
      "application/javascript": [
       "\n",
       "            setTimeout(function() {\n",
       "                var nbb_cell_id = 111;\n",
       "                var nbb_unformatted_code = \"import json\\n\\npath = os.path.join(model_path, \\\"columns.json\\\")\\ncolumns = {\\\"data_columns\\\": [col for col in X_train_tr.columns]}\\n\\nwith open(path, \\\"w\\\") as f:\\n    f.write(json.dumps(columns))\";\n",
       "                var nbb_formatted_code = \"import json\\n\\npath = os.path.join(model_path, \\\"columns.json\\\")\\ncolumns = {\\\"data_columns\\\": [col for col in X_train_tr.columns]}\\n\\nwith open(path, \\\"w\\\") as f:\\n    f.write(json.dumps(columns))\";\n",
       "                var nbb_cells = Jupyter.notebook.get_cells();\n",
       "                for (var i = 0; i < nbb_cells.length; ++i) {\n",
       "                    if (nbb_cells[i].input_prompt_number == nbb_cell_id) {\n",
       "                        if (nbb_cells[i].get_text() == nbb_unformatted_code) {\n",
       "                             nbb_cells[i].set_text(nbb_formatted_code);\n",
       "                        }\n",
       "                        break;\n",
       "                    }\n",
       "                }\n",
       "            }, 500);\n",
       "            "
      ],
      "text/plain": [
       "<IPython.core.display.Javascript object>"
      ]
     },
     "metadata": {},
     "output_type": "display_data"
    }
   ],
   "source": [
    "import json\n",
    "\n",
    "path = os.path.join(model_path, \"columns.json\")\n",
    "columns = {\"data_columns\": [col for col in X_train_tr.columns]}\n",
    "\n",
    "with open(path, \"w\") as f:\n",
    "    f.write(json.dumps(columns))"
   ]
  },
  {
   "cell_type": "code",
   "execution_count": 112,
   "id": "enclosed-nirvana",
   "metadata": {},
   "outputs": [
    {
     "data": {
      "text/plain": [
       "{'data_columns': ['PageValues',\n",
       "  'ExitRates',\n",
       "  'ProductRelated',\n",
       "  'ProductRelated_Duration',\n",
       "  'BounceRates',\n",
       "  'VisitorType__New_Visitor',\n",
       "  'VisitorType__Returning_Visitor',\n",
       "  'VisitorType__Other',\n",
       "  'Month__Aug',\n",
       "  'Month__Dec',\n",
       "  'Month__Feb',\n",
       "  'Month__Jul',\n",
       "  'Month__June',\n",
       "  'Month__Mar',\n",
       "  'Month__May',\n",
       "  'Month__Nov',\n",
       "  'Month__Oct',\n",
       "  'Month__Sep']}"
      ]
     },
     "execution_count": 112,
     "metadata": {},
     "output_type": "execute_result"
    },
    {
     "data": {
      "application/javascript": [
       "\n",
       "            setTimeout(function() {\n",
       "                var nbb_cell_id = 112;\n",
       "                var nbb_unformatted_code = \"columns\";\n",
       "                var nbb_formatted_code = \"columns\";\n",
       "                var nbb_cells = Jupyter.notebook.get_cells();\n",
       "                for (var i = 0; i < nbb_cells.length; ++i) {\n",
       "                    if (nbb_cells[i].input_prompt_number == nbb_cell_id) {\n",
       "                        if (nbb_cells[i].get_text() == nbb_unformatted_code) {\n",
       "                             nbb_cells[i].set_text(nbb_formatted_code);\n",
       "                        }\n",
       "                        break;\n",
       "                    }\n",
       "                }\n",
       "            }, 500);\n",
       "            "
      ],
      "text/plain": [
       "<IPython.core.display.Javascript object>"
      ]
     },
     "metadata": {},
     "output_type": "display_data"
    }
   ],
   "source": [
    "columns"
   ]
  },
  {
   "cell_type": "code",
   "execution_count": null,
   "id": "previous-blank",
   "metadata": {},
   "outputs": [],
   "source": []
  }
 ],
 "metadata": {
  "kernelspec": {
   "display_name": "ospi_venv",
   "language": "python",
   "name": "ospi_venv"
  },
  "language_info": {
   "codemirror_mode": {
    "name": "ipython",
    "version": 3
   },
   "file_extension": ".py",
   "mimetype": "text/x-python",
   "name": "python",
   "nbconvert_exporter": "python",
   "pygments_lexer": "ipython3",
   "version": "3.8.2"
  }
 },
 "nbformat": 4,
 "nbformat_minor": 5
}
